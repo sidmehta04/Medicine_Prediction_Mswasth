{
 "cells": [
  {
   "cell_type": "markdown",
   "metadata": {},
   "source": [
    "EXTRACTING DATA\n"
   ]
  },
  {
   "cell_type": "code",
   "execution_count": 1,
   "metadata": {},
   "outputs": [
    {
     "name": "stderr",
     "output_type": "stream",
     "text": [
      "C:\\Users\\siidh\\AppData\\Local\\Temp\\ipykernel_21192\\1115553840.py:19: DtypeWarning: Columns (5) have mixed types. Specify dtype option on import or set low_memory=False.\n",
      "  for chunk in pd.read_csv(\n"
     ]
    },
    {
     "name": "stdout",
     "output_type": "stream",
     "text": [
      "added chunk\n"
     ]
    },
    {
     "name": "stderr",
     "output_type": "stream",
     "text": [
      "C:\\Users\\siidh\\AppData\\Local\\Temp\\ipykernel_21192\\1115553840.py:19: DtypeWarning: Columns (5) have mixed types. Specify dtype option on import or set low_memory=False.\n",
      "  for chunk in pd.read_csv(\n"
     ]
    },
    {
     "name": "stdout",
     "output_type": "stream",
     "text": [
      "added chunk\n"
     ]
    },
    {
     "name": "stderr",
     "output_type": "stream",
     "text": [
      "C:\\Users\\siidh\\AppData\\Local\\Temp\\ipykernel_21192\\1115553840.py:19: DtypeWarning: Columns (5) have mixed types. Specify dtype option on import or set low_memory=False.\n",
      "  for chunk in pd.read_csv(\n"
     ]
    },
    {
     "name": "stdout",
     "output_type": "stream",
     "text": [
      "added chunk\n"
     ]
    },
    {
     "name": "stderr",
     "output_type": "stream",
     "text": [
      "C:\\Users\\siidh\\AppData\\Local\\Temp\\ipykernel_21192\\1115553840.py:19: DtypeWarning: Columns (5) have mixed types. Specify dtype option on import or set low_memory=False.\n",
      "  for chunk in pd.read_csv(\n"
     ]
    },
    {
     "name": "stdout",
     "output_type": "stream",
     "text": [
      "added chunk\n"
     ]
    },
    {
     "name": "stderr",
     "output_type": "stream",
     "text": [
      "C:\\Users\\siidh\\AppData\\Local\\Temp\\ipykernel_21192\\1115553840.py:19: DtypeWarning: Columns (5) have mixed types. Specify dtype option on import or set low_memory=False.\n",
      "  for chunk in pd.read_csv(\n"
     ]
    },
    {
     "name": "stdout",
     "output_type": "stream",
     "text": [
      "added chunk\n"
     ]
    },
    {
     "name": "stderr",
     "output_type": "stream",
     "text": [
      "C:\\Users\\siidh\\AppData\\Local\\Temp\\ipykernel_21192\\1115553840.py:19: DtypeWarning: Columns (5) have mixed types. Specify dtype option on import or set low_memory=False.\n",
      "  for chunk in pd.read_csv(\n"
     ]
    },
    {
     "name": "stdout",
     "output_type": "stream",
     "text": [
      "added chunk\n"
     ]
    },
    {
     "name": "stderr",
     "output_type": "stream",
     "text": [
      "C:\\Users\\siidh\\AppData\\Local\\Temp\\ipykernel_21192\\1115553840.py:19: DtypeWarning: Columns (5) have mixed types. Specify dtype option on import or set low_memory=False.\n",
      "  for chunk in pd.read_csv(\n"
     ]
    },
    {
     "name": "stdout",
     "output_type": "stream",
     "text": [
      "added chunk\n"
     ]
    },
    {
     "name": "stderr",
     "output_type": "stream",
     "text": [
      "C:\\Users\\siidh\\AppData\\Local\\Temp\\ipykernel_21192\\1115553840.py:19: DtypeWarning: Columns (5) have mixed types. Specify dtype option on import or set low_memory=False.\n",
      "  for chunk in pd.read_csv(\n"
     ]
    },
    {
     "name": "stdout",
     "output_type": "stream",
     "text": [
      "added chunk\n"
     ]
    },
    {
     "name": "stderr",
     "output_type": "stream",
     "text": [
      "C:\\Users\\siidh\\AppData\\Local\\Temp\\ipykernel_21192\\1115553840.py:19: DtypeWarning: Columns (5) have mixed types. Specify dtype option on import or set low_memory=False.\n",
      "  for chunk in pd.read_csv(\n"
     ]
    },
    {
     "name": "stdout",
     "output_type": "stream",
     "text": [
      "added chunk\n"
     ]
    },
    {
     "name": "stderr",
     "output_type": "stream",
     "text": [
      "C:\\Users\\siidh\\AppData\\Local\\Temp\\ipykernel_21192\\1115553840.py:19: DtypeWarning: Columns (5) have mixed types. Specify dtype option on import or set low_memory=False.\n",
      "  for chunk in pd.read_csv(\n"
     ]
    },
    {
     "name": "stdout",
     "output_type": "stream",
     "text": [
      "added chunk\n"
     ]
    },
    {
     "name": "stderr",
     "output_type": "stream",
     "text": [
      "C:\\Users\\siidh\\AppData\\Local\\Temp\\ipykernel_21192\\1115553840.py:19: DtypeWarning: Columns (5) have mixed types. Specify dtype option on import or set low_memory=False.\n",
      "  for chunk in pd.read_csv(\n"
     ]
    },
    {
     "name": "stdout",
     "output_type": "stream",
     "text": [
      "added chunk\n"
     ]
    },
    {
     "name": "stderr",
     "output_type": "stream",
     "text": [
      "C:\\Users\\siidh\\AppData\\Local\\Temp\\ipykernel_21192\\1115553840.py:19: DtypeWarning: Columns (5) have mixed types. Specify dtype option on import or set low_memory=False.\n",
      "  for chunk in pd.read_csv(\n"
     ]
    },
    {
     "name": "stdout",
     "output_type": "stream",
     "text": [
      "added chunk\n",
      "added chunk\n"
     ]
    },
    {
     "name": "stderr",
     "output_type": "stream",
     "text": [
      "C:\\Users\\siidh\\AppData\\Local\\Temp\\ipykernel_21192\\1115553840.py:19: DtypeWarning: Columns (5) have mixed types. Specify dtype option on import or set low_memory=False.\n",
      "  for chunk in pd.read_csv(\n"
     ]
    },
    {
     "name": "stdout",
     "output_type": "stream",
     "text": [
      "added chunk\n"
     ]
    },
    {
     "name": "stderr",
     "output_type": "stream",
     "text": [
      "C:\\Users\\siidh\\AppData\\Local\\Temp\\ipykernel_21192\\1115553840.py:19: DtypeWarning: Columns (5) have mixed types. Specify dtype option on import or set low_memory=False.\n",
      "  for chunk in pd.read_csv(\n"
     ]
    },
    {
     "name": "stdout",
     "output_type": "stream",
     "text": [
      "added chunk\n"
     ]
    },
    {
     "name": "stderr",
     "output_type": "stream",
     "text": [
      "C:\\Users\\siidh\\AppData\\Local\\Temp\\ipykernel_21192\\1115553840.py:19: DtypeWarning: Columns (5) have mixed types. Specify dtype option on import or set low_memory=False.\n",
      "  for chunk in pd.read_csv(\n"
     ]
    },
    {
     "name": "stdout",
     "output_type": "stream",
     "text": [
      "added chunk\n"
     ]
    },
    {
     "name": "stderr",
     "output_type": "stream",
     "text": [
      "C:\\Users\\siidh\\AppData\\Local\\Temp\\ipykernel_21192\\1115553840.py:19: DtypeWarning: Columns (5) have mixed types. Specify dtype option on import or set low_memory=False.\n",
      "  for chunk in pd.read_csv(\n"
     ]
    },
    {
     "name": "stdout",
     "output_type": "stream",
     "text": [
      "added chunk\n",
      "added chunk\n",
      "added chunk\n"
     ]
    },
    {
     "name": "stderr",
     "output_type": "stream",
     "text": [
      "C:\\Users\\siidh\\AppData\\Local\\Temp\\ipykernel_21192\\1115553840.py:19: DtypeWarning: Columns (5) have mixed types. Specify dtype option on import or set low_memory=False.\n",
      "  for chunk in pd.read_csv(\n"
     ]
    },
    {
     "name": "stdout",
     "output_type": "stream",
     "text": [
      "added chunk\n",
      "added chunk\n"
     ]
    },
    {
     "name": "stderr",
     "output_type": "stream",
     "text": [
      "C:\\Users\\siidh\\AppData\\Local\\Temp\\ipykernel_21192\\1115553840.py:19: DtypeWarning: Columns (5) have mixed types. Specify dtype option on import or set low_memory=False.\n",
      "  for chunk in pd.read_csv(\n"
     ]
    },
    {
     "name": "stdout",
     "output_type": "stream",
     "text": [
      "added chunk\n"
     ]
    },
    {
     "name": "stderr",
     "output_type": "stream",
     "text": [
      "C:\\Users\\siidh\\AppData\\Local\\Temp\\ipykernel_21192\\1115553840.py:19: DtypeWarning: Columns (5) have mixed types. Specify dtype option on import or set low_memory=False.\n",
      "  for chunk in pd.read_csv(\n"
     ]
    },
    {
     "name": "stdout",
     "output_type": "stream",
     "text": [
      "added chunk\n",
      "added chunk\n"
     ]
    },
    {
     "name": "stderr",
     "output_type": "stream",
     "text": [
      "C:\\Users\\siidh\\AppData\\Local\\Temp\\ipykernel_21192\\1115553840.py:19: DtypeWarning: Columns (5) have mixed types. Specify dtype option on import or set low_memory=False.\n",
      "  for chunk in pd.read_csv(\n"
     ]
    },
    {
     "name": "stdout",
     "output_type": "stream",
     "text": [
      "added chunk\n",
      "added chunk\n"
     ]
    },
    {
     "name": "stderr",
     "output_type": "stream",
     "text": [
      "C:\\Users\\siidh\\AppData\\Local\\Temp\\ipykernel_21192\\1115553840.py:19: DtypeWarning: Columns (5) have mixed types. Specify dtype option on import or set low_memory=False.\n",
      "  for chunk in pd.read_csv(\n"
     ]
    },
    {
     "name": "stdout",
     "output_type": "stream",
     "text": [
      "added chunk\n",
      "added chunk\n",
      "added chunk\n"
     ]
    },
    {
     "name": "stderr",
     "output_type": "stream",
     "text": [
      "C:\\Users\\siidh\\AppData\\Local\\Temp\\ipykernel_21192\\1115553840.py:19: DtypeWarning: Columns (5) have mixed types. Specify dtype option on import or set low_memory=False.\n",
      "  for chunk in pd.read_csv(\n"
     ]
    },
    {
     "name": "stdout",
     "output_type": "stream",
     "text": [
      "added chunk\n"
     ]
    },
    {
     "name": "stderr",
     "output_type": "stream",
     "text": [
      "C:\\Users\\siidh\\AppData\\Local\\Temp\\ipykernel_21192\\1115553840.py:19: DtypeWarning: Columns (5) have mixed types. Specify dtype option on import or set low_memory=False.\n",
      "  for chunk in pd.read_csv(\n"
     ]
    },
    {
     "name": "stdout",
     "output_type": "stream",
     "text": [
      "added chunk\n"
     ]
    },
    {
     "name": "stderr",
     "output_type": "stream",
     "text": [
      "C:\\Users\\siidh\\AppData\\Local\\Temp\\ipykernel_21192\\1115553840.py:19: DtypeWarning: Columns (5) have mixed types. Specify dtype option on import or set low_memory=False.\n",
      "  for chunk in pd.read_csv(\n"
     ]
    },
    {
     "name": "stdout",
     "output_type": "stream",
     "text": [
      "added chunk\n"
     ]
    },
    {
     "name": "stderr",
     "output_type": "stream",
     "text": [
      "C:\\Users\\siidh\\AppData\\Local\\Temp\\ipykernel_21192\\1115553840.py:19: DtypeWarning: Columns (5) have mixed types. Specify dtype option on import or set low_memory=False.\n",
      "  for chunk in pd.read_csv(\n"
     ]
    },
    {
     "name": "stdout",
     "output_type": "stream",
     "text": [
      "added chunk\n",
      "added chunk\n"
     ]
    },
    {
     "name": "stderr",
     "output_type": "stream",
     "text": [
      "C:\\Users\\siidh\\AppData\\Local\\Temp\\ipykernel_21192\\1115553840.py:19: DtypeWarning: Columns (5) have mixed types. Specify dtype option on import or set low_memory=False.\n",
      "  for chunk in pd.read_csv(\n"
     ]
    },
    {
     "name": "stdout",
     "output_type": "stream",
     "text": [
      "added chunk\n"
     ]
    },
    {
     "name": "stderr",
     "output_type": "stream",
     "text": [
      "C:\\Users\\siidh\\AppData\\Local\\Temp\\ipykernel_21192\\1115553840.py:19: DtypeWarning: Columns (5) have mixed types. Specify dtype option on import or set low_memory=False.\n",
      "  for chunk in pd.read_csv(\n"
     ]
    },
    {
     "name": "stdout",
     "output_type": "stream",
     "text": [
      "added chunk\n",
      "added chunk\n"
     ]
    },
    {
     "name": "stderr",
     "output_type": "stream",
     "text": [
      "C:\\Users\\siidh\\AppData\\Local\\Temp\\ipykernel_21192\\1115553840.py:19: DtypeWarning: Columns (5) have mixed types. Specify dtype option on import or set low_memory=False.\n",
      "  for chunk in pd.read_csv(\n"
     ]
    },
    {
     "name": "stdout",
     "output_type": "stream",
     "text": [
      "added chunk\n"
     ]
    },
    {
     "name": "stderr",
     "output_type": "stream",
     "text": [
      "C:\\Users\\siidh\\AppData\\Local\\Temp\\ipykernel_21192\\1115553840.py:19: DtypeWarning: Columns (5) have mixed types. Specify dtype option on import or set low_memory=False.\n",
      "  for chunk in pd.read_csv(\n"
     ]
    },
    {
     "name": "stdout",
     "output_type": "stream",
     "text": [
      "added chunk\n"
     ]
    },
    {
     "name": "stderr",
     "output_type": "stream",
     "text": [
      "C:\\Users\\siidh\\AppData\\Local\\Temp\\ipykernel_21192\\1115553840.py:19: DtypeWarning: Columns (5) have mixed types. Specify dtype option on import or set low_memory=False.\n",
      "  for chunk in pd.read_csv(\n"
     ]
    },
    {
     "name": "stdout",
     "output_type": "stream",
     "text": [
      "added chunk\n"
     ]
    },
    {
     "name": "stderr",
     "output_type": "stream",
     "text": [
      "C:\\Users\\siidh\\AppData\\Local\\Temp\\ipykernel_21192\\1115553840.py:19: DtypeWarning: Columns (3,4,5) have mixed types. Specify dtype option on import or set low_memory=False.\n",
      "  for chunk in pd.read_csv(\n"
     ]
    },
    {
     "name": "stdout",
     "output_type": "stream",
     "text": [
      "added chunk\n"
     ]
    },
    {
     "name": "stderr",
     "output_type": "stream",
     "text": [
      "C:\\Users\\siidh\\AppData\\Local\\Temp\\ipykernel_21192\\1115553840.py:19: DtypeWarning: Columns (5) have mixed types. Specify dtype option on import or set low_memory=False.\n",
      "  for chunk in pd.read_csv(\n"
     ]
    },
    {
     "name": "stdout",
     "output_type": "stream",
     "text": [
      "added chunk\n"
     ]
    },
    {
     "name": "stderr",
     "output_type": "stream",
     "text": [
      "C:\\Users\\siidh\\AppData\\Local\\Temp\\ipykernel_21192\\1115553840.py:19: DtypeWarning: Columns (5) have mixed types. Specify dtype option on import or set low_memory=False.\n",
      "  for chunk in pd.read_csv(\n"
     ]
    },
    {
     "name": "stdout",
     "output_type": "stream",
     "text": [
      "added chunk\n"
     ]
    },
    {
     "name": "stderr",
     "output_type": "stream",
     "text": [
      "C:\\Users\\siidh\\AppData\\Local\\Temp\\ipykernel_21192\\1115553840.py:19: DtypeWarning: Columns (5) have mixed types. Specify dtype option on import or set low_memory=False.\n",
      "  for chunk in pd.read_csv(\n"
     ]
    },
    {
     "name": "stdout",
     "output_type": "stream",
     "text": [
      "added chunk\n",
      "added chunk\n",
      "added chunk\n",
      "added chunk\n",
      "added chunk\n",
      "added chunk\n",
      "added chunk\n",
      "Processing data...\n"
     ]
    }
   ],
   "source": [
    "import time\n",
    "import pandas as pd\n",
    "import zipfile\n",
    "\n",
    "chunk_size = 100000\n",
    "\n",
    "# Initialize an empty list to store the chunks\n",
    "processed_data = []\n",
    "\n",
    "# Path to the zip file and the CSV file inside it\n",
    "zip_path = r\"consult_det_report_gen.zip\"\n",
    "csv_filename = \"consult_det_report_gen.csv\"\n",
    "\n",
    "# Open the zip file\n",
    "with zipfile.ZipFile(zip_path, \"r\") as z:\n",
    "    # Open the CSV file inside the zip file\n",
    "    with z.open(csv_filename) as f:\n",
    "        # Read the specified rows in chunks from the CSV file\n",
    "        for chunk in pd.read_csv(\n",
    "            f,\n",
    "            sep=\"|\",\n",
    "            encoding=\"windows-1252\",\n",
    "            encoding_errors=\"ignore\",\n",
    "            on_bad_lines=\"skip\",\n",
    "            chunksize=chunk_size,\n",
    "        ):\n",
    "            print(\"added chunk\")\n",
    "            processed_data.append(chunk)\n",
    "\n",
    "    # Reset the pointer to the beginning of the CSV file for the header read\n",
    "    with z.open(csv_filename) as f:\n",
    "        headers = pd.read_csv(f, nrows=1, sep=\"|\")\n",
    "\n",
    "# Concatenate the chunks into a single DataFrame\n",
    "processed_df_1 = pd.concat(processed_data)\n",
    "processed_df_1.columns = headers.columns\n",
    "print(\"Processing data...\")"
   ]
  },
  {
   "cell_type": "markdown",
   "metadata": {},
   "source": [
    "CLEANING DATA\n"
   ]
  },
  {
   "cell_type": "code",
   "execution_count": 2,
   "metadata": {},
   "outputs": [
    {
     "data": {
      "text/html": [
       "<div>\n",
       "<style scoped>\n",
       "    .dataframe tbody tr th:only-of-type {\n",
       "        vertical-align: middle;\n",
       "    }\n",
       "\n",
       "    .dataframe tbody tr th {\n",
       "        vertical-align: top;\n",
       "    }\n",
       "\n",
       "    .dataframe thead th {\n",
       "        text-align: right;\n",
       "    }\n",
       "</style>\n",
       "<table border=\"1\" class=\"dataframe\">\n",
       "  <thead>\n",
       "    <tr style=\"text-align: right;\">\n",
       "      <th></th>\n",
       "      <th>Date</th>\n",
       "      <th>Product</th>\n",
       "      <th>Channel</th>\n",
       "      <th>EMR#</th>\n",
       "      <th>Consultation #</th>\n",
       "      <th>Mobile #</th>\n",
       "      <th>Member #</th>\n",
       "      <th>Type</th>\n",
       "      <th>Status</th>\n",
       "      <th>Patient Gender</th>\n",
       "      <th>...</th>\n",
       "      <th>Doctor</th>\n",
       "      <th>Chief Complaint</th>\n",
       "      <th>Diagnosis</th>\n",
       "      <th>Advice</th>\n",
       "      <th>REFERRED</th>\n",
       "      <th>Lab Tests</th>\n",
       "      <th>Medicine</th>\n",
       "      <th>Clinic Name</th>\n",
       "      <th>Prescrption json</th>\n",
       "      <th>ICD Code</th>\n",
       "    </tr>\n",
       "  </thead>\n",
       "  <tbody>\n",
       "    <tr>\n",
       "      <th>0</th>\n",
       "      <td>2020-05-15</td>\n",
       "      <td>M-Swasth  Doctor - FREE</td>\n",
       "      <td>CashPor</td>\n",
       "      <td>1</td>\n",
       "      <td>1</td>\n",
       "      <td>7571029662</td>\n",
       "      <td>21:01:84:01:25</td>\n",
       "      <td>CALL</td>\n",
       "      <td>DONE</td>\n",
       "      <td>M</td>\n",
       "      <td>...</td>\n",
       "      <td>SATISH</td>\n",
       "      <td>Other</td>\n",
       "      <td>.</td>\n",
       "      <td>referred to higher centre</td>\n",
       "      <td>NO</td>\n",
       "      <td>NaN</td>\n",
       "      <td>NO</td>\n",
       "      <td>NaN</td>\n",
       "      <td>{\"pres\":[]}</td>\n",
       "      <td>.</td>\n",
       "    </tr>\n",
       "    <tr>\n",
       "      <th>1</th>\n",
       "      <td>2021-06-10</td>\n",
       "      <td>M-Swasth  Doctor - FREE</td>\n",
       "      <td>CashPor</td>\n",
       "      <td>1</td>\n",
       "      <td>47576</td>\n",
       "      <td>7571029662</td>\n",
       "      <td>21:01:84:01:25</td>\n",
       "      <td>CALL</td>\n",
       "      <td>DONE</td>\n",
       "      <td>M</td>\n",
       "      <td>...</td>\n",
       "      <td>KADAMBARI</td>\n",
       "      <td>Other</td>\n",
       "      <td>Dysmenorrhea and menorrhagia</td>\n",
       "      <td>Advised not miss a single tablet of Ovral l\\nD...</td>\n",
       "      <td>NO</td>\n",
       "      <td>NaN</td>\n",
       "      <td>YES</td>\n",
       "      <td>NaN</td>\n",
       "      <td>{\"pres\":[{\"mName\":\"Tab Ovral L\",\"m\":\"\",\"a\":\"\",...</td>\n",
       "      <td>NONE</td>\n",
       "    </tr>\n",
       "    <tr>\n",
       "      <th>2</th>\n",
       "      <td>2021-06-11</td>\n",
       "      <td>M-Swasth  Doctor - FREE</td>\n",
       "      <td>CashPor</td>\n",
       "      <td>1</td>\n",
       "      <td>48043</td>\n",
       "      <td>7571029662</td>\n",
       "      <td>21:01:84:01:25</td>\n",
       "      <td>CALL</td>\n",
       "      <td>DONE</td>\n",
       "      <td>M</td>\n",
       "      <td>...</td>\n",
       "      <td>NIKHIL</td>\n",
       "      <td>Other</td>\n",
       "      <td>C/o Weakness with loss of appetite</td>\n",
       "      <td>Eat healthy food , green vegetables and fruits...</td>\n",
       "      <td>NO</td>\n",
       "      <td>NaN</td>\n",
       "      <td>YES</td>\n",
       "      <td>NaN</td>\n",
       "      <td>{\"pres\":[{\"mName\":\"Multiprex Cap\",\"m\":\"1\",\"a\":...</td>\n",
       "      <td>NONE</td>\n",
       "    </tr>\n",
       "    <tr>\n",
       "      <th>3</th>\n",
       "      <td>2021-06-11</td>\n",
       "      <td>M-Swasth  Doctor - FREE</td>\n",
       "      <td>CashPor</td>\n",
       "      <td>1</td>\n",
       "      <td>48603</td>\n",
       "      <td>7571029662</td>\n",
       "      <td>21:01:84:01:25</td>\n",
       "      <td>CALL</td>\n",
       "      <td>DONE</td>\n",
       "      <td>M</td>\n",
       "      <td>...</td>\n",
       "      <td>ravindra</td>\n",
       "      <td>Other</td>\n",
       "      <td>pain</td>\n",
       "      <td>Take nutritious diet\\nDo Excercise regularly\\n...</td>\n",
       "      <td>NO</td>\n",
       "      <td>CBC</td>\n",
       "      <td>YES</td>\n",
       "      <td>NaN</td>\n",
       "      <td>{\"pres\":[{\"mName\":\"Paracetamol 500mg Tab\",\"m\":...</td>\n",
       "      <td>R50</td>\n",
       "    </tr>\n",
       "    <tr>\n",
       "      <th>4</th>\n",
       "      <td>2021-06-16</td>\n",
       "      <td>M-Swasth  Doctor - FREE</td>\n",
       "      <td>CashPor</td>\n",
       "      <td>1</td>\n",
       "      <td>52282</td>\n",
       "      <td>7571029662</td>\n",
       "      <td>21:01:84:01:25</td>\n",
       "      <td>CALL</td>\n",
       "      <td>DONE</td>\n",
       "      <td>M</td>\n",
       "      <td>...</td>\n",
       "      <td>Harinder Pal</td>\n",
       "      <td>Other Pain</td>\n",
       "      <td>Gall Stones</td>\n",
       "      <td>Referred to nearby hospital for surgical consu...</td>\n",
       "      <td>YES</td>\n",
       "      <td>Ultrasound</td>\n",
       "      <td>NO</td>\n",
       "      <td>NaN</td>\n",
       "      <td>{\"pres\":[]}</td>\n",
       "      <td>K87</td>\n",
       "    </tr>\n",
       "  </tbody>\n",
       "</table>\n",
       "<p>5 rows × 21 columns</p>\n",
       "</div>"
      ],
      "text/plain": [
       "         Date                  Product  Channel EMR# Consultation #  \\\n",
       "0  2020-05-15  M-Swasth  Doctor - FREE  CashPor    1              1   \n",
       "1  2021-06-10  M-Swasth  Doctor - FREE  CashPor    1          47576   \n",
       "2  2021-06-11  M-Swasth  Doctor - FREE  CashPor    1          48043   \n",
       "3  2021-06-11  M-Swasth  Doctor - FREE  CashPor    1          48603   \n",
       "4  2021-06-16  M-Swasth  Doctor - FREE  CashPor    1          52282   \n",
       "\n",
       "     Mobile #        Member #  Type Status Patient Gender  ...        Doctor  \\\n",
       "0  7571029662  21:01:84:01:25  CALL   DONE              M  ...        SATISH   \n",
       "1  7571029662  21:01:84:01:25  CALL   DONE              M  ...     KADAMBARI   \n",
       "2  7571029662  21:01:84:01:25  CALL   DONE              M  ...        NIKHIL   \n",
       "3  7571029662  21:01:84:01:25  CALL   DONE              M  ...      ravindra   \n",
       "4  7571029662  21:01:84:01:25  CALL   DONE              M  ...  Harinder Pal   \n",
       "\n",
       "  Chief Complaint                           Diagnosis  \\\n",
       "0           Other                                   .   \n",
       "1           Other        Dysmenorrhea and menorrhagia   \n",
       "2           Other  C/o Weakness with loss of appetite   \n",
       "3           Other                                pain   \n",
       "4      Other Pain                         Gall Stones   \n",
       "\n",
       "                                              Advice REFERRED   Lab Tests  \\\n",
       "0                          referred to higher centre       NO         NaN   \n",
       "1  Advised not miss a single tablet of Ovral l\\nD...       NO         NaN   \n",
       "2  Eat healthy food , green vegetables and fruits...       NO         NaN   \n",
       "3  Take nutritious diet\\nDo Excercise regularly\\n...       NO         CBC   \n",
       "4  Referred to nearby hospital for surgical consu...      YES  Ultrasound   \n",
       "\n",
       "  Medicine Clinic Name                                   Prescrption json  \\\n",
       "0       NO         NaN                                        {\"pres\":[]}   \n",
       "1      YES         NaN  {\"pres\":[{\"mName\":\"Tab Ovral L\",\"m\":\"\",\"a\":\"\",...   \n",
       "2      YES         NaN  {\"pres\":[{\"mName\":\"Multiprex Cap\",\"m\":\"1\",\"a\":...   \n",
       "3      YES         NaN  {\"pres\":[{\"mName\":\"Paracetamol 500mg Tab\",\"m\":...   \n",
       "4       NO         NaN                                        {\"pres\":[]}   \n",
       "\n",
       "  ICD Code  \n",
       "0        .  \n",
       "1     NONE  \n",
       "2     NONE  \n",
       "3      R50  \n",
       "4      K87  \n",
       "\n",
       "[5 rows x 21 columns]"
      ]
     },
     "execution_count": 2,
     "metadata": {},
     "output_type": "execute_result"
    }
   ],
   "source": [
    "processed_df_1.head()"
   ]
  },
  {
   "cell_type": "code",
   "execution_count": 3,
   "metadata": {},
   "outputs": [
    {
     "name": "stdout",
     "output_type": "stream",
     "text": [
      "<class 'pandas.core.frame.DataFrame'>\n",
      "RangeIndex: 4990682 entries, 0 to 4990681\n",
      "Data columns (total 21 columns):\n",
      " #   Column            Dtype \n",
      "---  ------            ----- \n",
      " 0   Date              object\n",
      " 1   Product           object\n",
      " 2   Channel           object\n",
      " 3   EMR#              object\n",
      " 4   Consultation #    object\n",
      " 5   Mobile #          object\n",
      " 6   Member #          object\n",
      " 7   Type              object\n",
      " 8   Status            object\n",
      " 9   Patient Gender    object\n",
      " 10  FEMALE DOC ONLY   object\n",
      " 11  Doctor            object\n",
      " 12  Chief Complaint   object\n",
      " 13  Diagnosis         object\n",
      " 14  Advice            object\n",
      " 15  REFERRED          object\n",
      " 16  Lab Tests         object\n",
      " 17  Medicine          object\n",
      " 18  Clinic Name       object\n",
      " 19  Prescrption json  object\n",
      " 20  ICD Code          object\n",
      "dtypes: object(21)\n",
      "memory usage: 799.6+ MB\n"
     ]
    }
   ],
   "source": [
    "processed_df_1.info()"
   ]
  },
  {
   "cell_type": "code",
   "execution_count": 142,
   "metadata": {},
   "outputs": [],
   "source": [
    "# Making a copy to avoid modifying the original DataFrame\n",
    "data = processed_df_1[[\"Date\", \"Clinic Name\", \"Channel\", \"Prescrption json\"]]\n",
    "\n",
    "muthoot_data = data[data[\"Channel\"].str.contains(\"CashPor\", case=False, na=False)]\n",
    "\n",
    "# Assuming 'processed_df_1' is your DataFrame\n",
    "data = muthoot_data.copy()"
   ]
  },
  {
   "cell_type": "code",
   "execution_count": 143,
   "metadata": {},
   "outputs": [
    {
     "data": {
      "text/plain": [
       "(1896985, 4)"
      ]
     },
     "execution_count": 143,
     "metadata": {},
     "output_type": "execute_result"
    }
   ],
   "source": [
    "data.shape"
   ]
  },
  {
   "cell_type": "code",
   "execution_count": 144,
   "metadata": {},
   "outputs": [
    {
     "data": {
      "text/html": [
       "<div>\n",
       "<style scoped>\n",
       "    .dataframe tbody tr th:only-of-type {\n",
       "        vertical-align: middle;\n",
       "    }\n",
       "\n",
       "    .dataframe tbody tr th {\n",
       "        vertical-align: top;\n",
       "    }\n",
       "\n",
       "    .dataframe thead th {\n",
       "        text-align: right;\n",
       "    }\n",
       "</style>\n",
       "<table border=\"1\" class=\"dataframe\">\n",
       "  <thead>\n",
       "    <tr style=\"text-align: right;\">\n",
       "      <th></th>\n",
       "      <th>Date</th>\n",
       "      <th>Clinic Name</th>\n",
       "      <th>Channel</th>\n",
       "      <th>Prescrption json</th>\n",
       "    </tr>\n",
       "  </thead>\n",
       "  <tbody>\n",
       "    <tr>\n",
       "      <th>0</th>\n",
       "      <td>2020-05-15</td>\n",
       "      <td>NaN</td>\n",
       "      <td>CashPor</td>\n",
       "      <td>{\"pres\":[]}</td>\n",
       "    </tr>\n",
       "    <tr>\n",
       "      <th>42</th>\n",
       "      <td>2020-05-15</td>\n",
       "      <td>NaN</td>\n",
       "      <td>CashPor</td>\n",
       "      <td>{\"pres\":[]}</td>\n",
       "    </tr>\n",
       "    <tr>\n",
       "      <th>34</th>\n",
       "      <td>2020-05-15</td>\n",
       "      <td>NaN</td>\n",
       "      <td>CashPor</td>\n",
       "      <td>{\"pres\":[]}</td>\n",
       "    </tr>\n",
       "    <tr>\n",
       "      <th>45</th>\n",
       "      <td>2020-05-16</td>\n",
       "      <td>NaN</td>\n",
       "      <td>CashPor</td>\n",
       "      <td>{\"pres\":[{\"mName\":\"tab cetrizine 10mg\",\"m\":\"1\"...</td>\n",
       "    </tr>\n",
       "    <tr>\n",
       "      <th>70</th>\n",
       "      <td>2020-05-18</td>\n",
       "      <td>NaN</td>\n",
       "      <td>CashPor</td>\n",
       "      <td>{\"pres\":[{\"mName\":\"Tab Paracetomol 500mg\",\"m\":...</td>\n",
       "    </tr>\n",
       "    <tr>\n",
       "      <th>...</th>\n",
       "      <td>...</td>\n",
       "      <td>...</td>\n",
       "      <td>...</td>\n",
       "      <td>...</td>\n",
       "    </tr>\n",
       "    <tr>\n",
       "      <th>4374162</th>\n",
       "      <td>2024-05-22</td>\n",
       "      <td>EC21:15 Bhusra Muzaffarpur</td>\n",
       "      <td>CashPor</td>\n",
       "      <td>{\"pres\":[{\"dur\":\"3\",\"a\":\"\",\"bf\":false,\"e\":\"\",\"...</td>\n",
       "    </tr>\n",
       "    <tr>\n",
       "      <th>4373520</th>\n",
       "      <td>2024-05-22</td>\n",
       "      <td>EC10:23 Sahatwar Saran</td>\n",
       "      <td>CashPor</td>\n",
       "      <td>{\"pres\":[{\"dur\":\"3\",\"isTubeBottle\":true,\"a\":\"5...</td>\n",
       "    </tr>\n",
       "    <tr>\n",
       "      <th>1577380</th>\n",
       "      <td>2024-05-22</td>\n",
       "      <td>NaN</td>\n",
       "      <td>CashPor</td>\n",
       "      <td>{\"pres\":[{\"dur\":\"3\",\"a\":\"\",\"bf\":false,\"e\":\"\",\"...</td>\n",
       "    </tr>\n",
       "    <tr>\n",
       "      <th>1587882</th>\n",
       "      <td>2024-05-22</td>\n",
       "      <td>EC05:23 MANIYAR BALLIA</td>\n",
       "      <td>CashPor</td>\n",
       "      <td>{\"pres\":[{\"dur\":\"10\",\"a\":\"\",\"bf\":false,\"e\":\"\",...</td>\n",
       "    </tr>\n",
       "    <tr>\n",
       "      <th>4990610</th>\n",
       "      <td>2024-05-22</td>\n",
       "      <td>NaN</td>\n",
       "      <td>CashPor</td>\n",
       "      <td>{\"pres\":[{\"dur\":\"3\",\"isTubeBottle\":true,\"a\":\"2...</td>\n",
       "    </tr>\n",
       "  </tbody>\n",
       "</table>\n",
       "<p>1896985 rows × 4 columns</p>\n",
       "</div>"
      ],
      "text/plain": [
       "               Date                 Clinic Name  Channel  \\\n",
       "0        2020-05-15                         NaN  CashPor   \n",
       "42       2020-05-15                         NaN  CashPor   \n",
       "34       2020-05-15                         NaN  CashPor   \n",
       "45       2020-05-16                         NaN  CashPor   \n",
       "70       2020-05-18                         NaN  CashPor   \n",
       "...             ...                         ...      ...   \n",
       "4374162  2024-05-22  EC21:15 Bhusra Muzaffarpur  CashPor   \n",
       "4373520  2024-05-22      EC10:23 Sahatwar Saran  CashPor   \n",
       "1577380  2024-05-22                         NaN  CashPor   \n",
       "1587882  2024-05-22      EC05:23 MANIYAR BALLIA  CashPor   \n",
       "4990610  2024-05-22                         NaN  CashPor   \n",
       "\n",
       "                                          Prescrption json  \n",
       "0                                              {\"pres\":[]}  \n",
       "42                                             {\"pres\":[]}  \n",
       "34                                             {\"pres\":[]}  \n",
       "45       {\"pres\":[{\"mName\":\"tab cetrizine 10mg\",\"m\":\"1\"...  \n",
       "70       {\"pres\":[{\"mName\":\"Tab Paracetomol 500mg\",\"m\":...  \n",
       "...                                                    ...  \n",
       "4374162  {\"pres\":[{\"dur\":\"3\",\"a\":\"\",\"bf\":false,\"e\":\"\",\"...  \n",
       "4373520  {\"pres\":[{\"dur\":\"3\",\"isTubeBottle\":true,\"a\":\"5...  \n",
       "1577380  {\"pres\":[{\"dur\":\"3\",\"a\":\"\",\"bf\":false,\"e\":\"\",\"...  \n",
       "1587882  {\"pres\":[{\"dur\":\"10\",\"a\":\"\",\"bf\":false,\"e\":\"\",...  \n",
       "4990610  {\"pres\":[{\"dur\":\"3\",\"isTubeBottle\":true,\"a\":\"2...  \n",
       "\n",
       "[1896985 rows x 4 columns]"
      ]
     },
     "execution_count": 144,
     "metadata": {},
     "output_type": "execute_result"
    }
   ],
   "source": [
    "import pandas as pd\n",
    "\n",
    "# Sort the DataFrame by the 'Date' column in ascending order\n",
    "data_sorted = data.sort_values(by=\"Date\")\n",
    "\n",
    "# Display the sorted DataFrame\n",
    "data_sorted"
   ]
  },
  {
   "cell_type": "markdown",
   "metadata": {},
   "source": [
    "LOADING THE JSON DATA AND ORGANISING THEM TO TABLE\n"
   ]
  },
  {
   "cell_type": "code",
   "execution_count": 145,
   "metadata": {},
   "outputs": [
    {
     "name": "stdout",
     "output_type": "stream",
     "text": [
      "<class 'pandas.core.frame.DataFrame'>\n",
      "Index: 1896985 entries, 0 to 4990610\n",
      "Data columns (total 4 columns):\n",
      " #   Column            Dtype \n",
      "---  ------            ----- \n",
      " 0   Date              object\n",
      " 1   Clinic Name       object\n",
      " 2   Channel           object\n",
      " 3   Prescrption json  object\n",
      "dtypes: object(4)\n",
      "memory usage: 72.4+ MB\n"
     ]
    }
   ],
   "source": [
    "data.info()"
   ]
  },
  {
   "cell_type": "code",
   "execution_count": 146,
   "metadata": {},
   "outputs": [],
   "source": [
    "data[\"Date\"] = data[\"Date\"].astype(\"str\")"
   ]
  },
  {
   "cell_type": "code",
   "execution_count": 147,
   "metadata": {},
   "outputs": [
    {
     "data": {
      "text/plain": [
       "array([[nan],\n",
       "       ['{\"pres\":[{\"mName\":\"Norflox-TZ RF Tablet\",\"m\":\"1 tab\",\"a\":\"\",\"e\":\"1 tab\",\"n\":\"\",\"bf\":false,\"af\":true,\"dur\":\"5\",\"freq\":\"d\"},{\"mName\":\"PANUM L CAPSULES\",\"m\":\"1 tab\",\"a\":\"\",\"e\":\"1 tab\",\"n\":\"\",\"bf\":true,\"af\":false,\"dur\":\"5\",\"freq\":\"d\"},{\"mName\":\"Aceclofenac 100 mg Tablets\",\"m\":\"1 tab\",\"a\":\"\",\"e\":\"1 tab\",\"n\":\"\",\"bf\":false,\"af\":true,\"dur\":\"5\",\"freq\":\"d\"},{\"mName\":\"Vitamin-C Chewable 500mg Tablet\",\"m\":\"1 tab\",\"a\":\"\",\"e\":\"1 tab\",\"n\":\"\",\"bf\":false,\"af\":true,\"dur\":\"5\",\"freq\":\"d\"}]}'],\n",
       "       ['{\"pres\":[{\"mName\":\"BECOSULES Z\",\"m\":\"1\",\"a\":\"\",\"e\":\"1\",\"n\":\"\",\"bf\":false,\"af\":true,\"dur\":\"10\",\"freq\":\"d\"},{\"mName\":\"FEFOL Z \",\"m\":\"\",\"a\":\"1\",\"e\":\"\",\"n\":\"\",\"bf\":false,\"af\":true,\"dur\":\"10\",\"freq\":\"d\"},{\"mName\":\"Paracetamol 500mg Tab\",\"m\":\"1\",\"a\":\"\",\"e\":\"1\",\"n\":\"\",\"bf\":false,\"af\":true,\"dur\":\"3\",\"freq\":\"d\"}]}'],\n",
       "       ['{\"pres\":[{\"mName\":\"Pantoprazole 40 mg film coated Tablets\",\"m\":\"1\",\"a\":\"\",\"e\":\"\",\"n\":\"\",\"bf\":true,\"af\":false,\"dur\":\"7\",\"freq\":\"d\"},{\"mName\":\"Clonazepam 0.5 mg Tabs\",\"m\":\"\",\"a\":\"\",\"e\":\"\",\"n\":\"1\",\"bf\":false,\"af\":true,\"dur\":\"2\",\"freq\":\"d\"},{\"mName\":\"Cap. Cobadex\",\"m\":\"\",\"a\":\"\",\"e\":\"\",\"n\":\"1 with milk\",\"bf\":false,\"af\":true,\"dur\":\"7\",\"freq\":\"d\"}]}'],\n",
       "       [nan],\n",
       "       ['{\"pres\":[]}'],\n",
       "       ['{\"pres\":[{\"mName\":\"Aceclofenac 200 mg Tablets\",\"m\":\"1\",\"a\":\"\",\"e\":\"\",\"n\":\"1 \",\"bf\":false,\"af\":true,\"dur\":\"10\",\"freq\":\"d\"}]}'],\n",
       "       ['{\"pres\":[{\"mName\":\"Etoricoxilb 90mg Tab\",\"m\":\"1 tab\",\"a\":\"\",\"e\":\"1 tab\",\"n\":\"\",\"bf\":false,\"af\":true,\"dur\":\"5\",\"freq\":\"d\"},{\"mName\":\"Calcium + Vitamin D3 250iu film coated  Tablets\",\"m\":\"1 tab\",\"a\":\"\",\"e\":\"1 tab\",\"n\":\"\",\"bf\":false,\"af\":true,\"dur\":\"10\",\"freq\":\"d\"}]}'],\n",
       "       ['{\"pres\":[{\"mName\":\"Calcium + Vitamin D3 500iu film coated  Tablets\",\"m\":\"1 tab\",\"a\":\"\",\"e\":\"1 tab\",\"n\":\"\",\"bf\":false,\"af\":true,\"dur\":\"5\",\"freq\":\"d\"}]}'],\n",
       "       [nan],\n",
       "       ['{\"pres\":[{\"mName\":\"Doxycycline 100 mg Caps\",\"m\":\"1\",\"a\":\"\",\"e\":\"1\",\"n\":\"\",\"bf\":false,\"af\":true,\"dur\":\"5\",\"freq\":\"d\"},{\"mName\":\"Paracetamol 500mg Tab\",\"m\":\"1\",\"a\":\"\",\"e\":\"1\",\"n\":\"\",\"bf\":false,\"af\":true,\"dur\":\"3\",\"freq\":\"d\"},{\"mName\":\"PIRITON EXP\",\"m\":\"2 tsf\",\"a\":\"2 tsf\",\"e\":\"2 tsf\",\"n\":\"\",\"bf\":false,\"af\":true,\"dur\":\"7\",\"freq\":\"d\"},{\"mName\":\"BECOSULES Z\",\"m\":\"1\",\"a\":\"\",\"e\":\"1\",\"n\":\"\",\"bf\":false,\"af\":true,\"dur\":\"10\",\"freq\":\"d\"}]}'],\n",
       "       ['{\"pres\":[{\"mName\":\"BECOSULES Z\",\"m\":\"1\",\"a\":\"\",\"e\":\"1\",\"n\":\"\",\"bf\":false,\"af\":true,\"dur\":\"30\",\"freq\":\"d\"},{\"mName\":\"Vitamin-C Chewable 500mg Tablet\",\"m\":\"\",\"a\":\"1\",\"e\":\"\",\"n\":\"\",\"bf\":false,\"af\":true,\"dur\":\"30\",\"freq\":\"d\"},{\"mName\":\"Calcium + Vitamin D3 500iu film coated  Tablets\",\"m\":\"\",\"a\":\"1\",\"e\":\"\",\"n\":\"\",\"bf\":false,\"af\":true,\"dur\":\"30\",\"freq\":\"d\"}]}'],\n",
       "       ['{\"pres\":[{\"mName\":\"Doxycycline 100 mg Caps\",\"m\":\"1\",\"a\":\"\",\"e\":\"1\",\"n\":\"\",\"bf\":false,\"af\":true,\"dur\":\"7\",\"freq\":\"d\"},{\"mName\":\"IVERMECTIN  TABLETS 12 MG\",\"m\":\"\",\"a\":\"1\",\"e\":\"\",\"n\":\"\",\"bf\":false,\"af\":true,\"dur\":\"3\",\"freq\":\"d\"},{\"mName\":\"VITAMIN B1 10MG, B2 10 MG, NIACINAMIDE 45 MG, CALCIUM PANTOTHENATE  50 MG, B6 3 MG AND B12 15MCG TABLETS\",\"m\":\"1\",\"a\":\"\",\"e\":\"1\",\"n\":\"\",\"bf\":false,\"af\":true,\"dur\":\"30\",\"freq\":\"d\"},{\"mName\":\"Vitamin-C Chewable 500mg Tablet\",\"m\":\"1\",\"a\":\"1\",\"e\":\"1\",\"n\":\"\",\"bf\":false,\"af\":true,\"dur\":\"30\",\"freq\":\"d\"},{\"mName\":\"PARACETAMOL Tablets IP 650 mg\",\"m\":\"1\",\"a\":\"\",\"e\":\"1\",\"n\":\"\",\"bf\":false,\"af\":true,\"dur\":\"5\",\"freq\":\"d\"}]}'],\n",
       "       ['{\"pres\":[{\"mName\":\"THYROXINE SODIUM TABLETS IP 50  Âµg\",\"m\":\"1\",\"a\":\"\",\"e\":\"\",\"n\":\"\",\"bf\":true,\"af\":false,\"dur\":\"30\",\"freq\":\"d\"},{\"mName\":\"Pantoprazole 40 mg film coated Tablets\",\"m\":\"1\",\"a\":\"\",\"e\":\"\",\"n\":\"\",\"bf\":true,\"af\":false,\"dur\":\"7\",\"freq\":\"d\"},{\"mName\":\"Cap.cobadex\",\"m\":\"\",\"a\":\"\",\"e\":\"\",\"n\":\"1\",\"bf\":false,\"af\":true,\"dur\":\"10\",\"freq\":\"d\"},{\"mName\":\"Etoricoxilb 90mg Tab\",\"m\":\"\",\"a\":\"\",\"e\":\"\",\"n\":\"1\",\"bf\":false,\"af\":true,\"dur\":\"7\",\"freq\":\"d\"}]}'],\n",
       "       ['{\"pres\":[{\"mName\":\"Doxycycline 100 mg Caps\",\"m\":\"1\",\"a\":\"\",\"e\":\"\",\"n\":\"\",\"bf\":false,\"af\":true,\"dur\":\"5\",\"freq\":\"d\"},{\"mName\":\"Pantoprazole 40 mg film coated Tablets\",\"m\":\"1\",\"a\":\"\",\"e\":\"\",\"n\":\"1\",\"bf\":false,\"af\":true,\"dur\":\"5\",\"freq\":\"d\"},{\"mName\":\"PARACETAMOL Tablets IP 650 mg\",\"m\":\"1\",\"a\":\"\",\"e\":\"\",\"n\":\"1\",\"bf\":false,\"af\":true,\"dur\":\"5\",\"freq\":\"d\"},{\"mName\":\"Levocetrizine 5 mg film coated Tablets\",\"m\":\"\",\"a\":\"\",\"e\":\"\",\"n\":\"1\",\"bf\":false,\"af\":true,\"dur\":\"5\",\"freq\":\"d\"},{\"mName\":\"AD100MG \",\"m\":\"1\",\"a\":\"\",\"e\":\"\",\"n\":\"1\",\"bf\":false,\"af\":true,\"dur\":\"5\",\"freq\":\"d\"},{\"mName\":\"ORS Solution\",\"m\":\"1\",\"a\":\"1\",\"e\":\"\",\"n\":\"1\",\"bf\":false,\"af\":true,\"dur\":\"5\",\"freq\":\"d\"},{\"mName\":\"Vitamin-C Chewable 500mg Tablet\",\"m\":\"1\",\"a\":\"\",\"e\":\"\",\"n\":\"1\",\"bf\":false,\"af\":true,\"dur\":\"30\",\"freq\":\"d\"},{\"mName\":\"Zincovit Syrup\",\"m\":\"1\",\"a\":\"\",\"e\":\"\",\"n\":\"1\",\"bf\":false,\"af\":true,\"dur\":\"30\",\"freq\":\"d\"},{\"mName\":\"Shelcal CT Tablet\",\"m\":\"1\",\"a\":\"\",\"e\":\"\",\"n\":\"\",\"bf\":false,\"af\":true,\"dur\":\"30\",\"freq\":\"d\"}]}'],\n",
       "       ['{\"pres\":[{\"mName\":\"benadryl cough syrup \",\"m\":\"1\",\"a\":\"1\",\"e\":\"\",\"n\":\"1\",\"bf\":false,\"af\":true,\"dur\":\"7\",\"freq\":\"d\"}]}'],\n",
       "       [nan],\n",
       "       ['{\"pres\":[{\"mName\":\"Cefixime 200mg film coated Tablets\",\"m\":\"1\",\"a\":\"\",\"e\":\"\",\"n\":\"1\",\"bf\":false,\"af\":true,\"dur\":\"7\",\"freq\":\"d\"},{\"mName\":\"Pantoprazole 40 mg film coated Tablets\",\"m\":\"1\",\"a\":\"\",\"e\":\"\",\"n\":\"\",\"bf\":true,\"af\":false,\"dur\":\"7\",\"freq\":\"d\"},{\"mName\":\"MEFTAL-FORTE TAB\",\"m\":\"1\",\"a\":\"\",\"e\":\"\",\"n\":\"1\",\"bf\":false,\"af\":true,\"dur\":\"7\",\"freq\":\"d\"},{\"mName\":\"Cap.cobadex\",\"m\":\"\",\"a\":\"\",\"e\":\"\",\"n\":\"1\",\"bf\":false,\"af\":true,\"dur\":\"7\",\"freq\":\"d\"}]}'],\n",
       "       ['{\"pres\":[{\"mName\":\"volini emulgel\",\"m\":\"1\",\"a\":\"1\",\"e\":\"1\",\"n\":\"\",\"bf\":false,\"af\":true,\"dur\":\"5\",\"freq\":\"d\"}]}'],\n",
       "       ['{\"pres\":[{\"mName\":\"Cefixime 200mg film coated Tablets\",\"m\":\"1\",\"a\":\"\",\"e\":\"1\",\"n\":\"\",\"bf\":false,\"af\":true,\"dur\":\"3\",\"freq\":\"d\"},{\"mName\":\"Azithromycin 500 mg film coated Tablets\",\"m\":\"\",\"a\":\"\",\"e\":\"1\",\"n\":\"\",\"bf\":false,\"af\":true,\"dur\":\"3\",\"freq\":\"d\"},{\"mName\":\"MONTAIR- LC TABLETS\",\"m\":\"\",\"a\":\"\",\"e\":\"1\",\"n\":\"\",\"bf\":false,\"af\":true,\"dur\":\"3\",\"freq\":\"d\"},{\"mName\":\"Paracetamol tablets 500 mg\",\"m\":\"1\",\"a\":\"\",\"e\":\"1\",\"n\":\"\",\"bf\":false,\"af\":true,\"dur\":\"3\",\"freq\":\"d\"}]}'],\n",
       "       ['{\"pres\":[{\"mName\":\"LINEZOLID TABLETS IP 600 MG\",\"m\":\"1\",\"a\":\"\",\"e\":\"\",\"n\":\"1\",\"bf\":false,\"af\":true,\"dur\":\"7\",\"freq\":\"d\"},{\"mName\":\"Cefixime 200mg film coated Tablets\",\"m\":\"1\",\"a\":\"\",\"e\":\"\",\"n\":\"1\",\"bf\":false,\"af\":true,\"dur\":\"7\",\"freq\":\"d\"},{\"mName\":\"DEFLAZACORT Tablets 6 mg\",\"m\":\"1\",\"a\":\"\",\"e\":\"\",\"n\":\"1\",\"bf\":false,\"af\":true,\"dur\":\"7\",\"freq\":\"d\"},{\"mName\":\"ACEBROPHYLLINE Capsules 100 mg\",\"m\":\"1\",\"a\":\"\",\"e\":\"\",\"n\":\"1\",\"bf\":false,\"af\":true,\"dur\":\"7\",\"freq\":\"d\"},{\"mName\":\"ACETYLCYSTEINE Tablets 600 mg\",\"m\":\"1\",\"a\":\"\",\"e\":\"\",\"n\":\"1\",\"bf\":false,\"af\":true,\"dur\":\"7\",\"freq\":\"d\"},{\"mName\":\"Pantoprazole 40 mg film coated Tablets\",\"m\":\"1\",\"a\":\"\",\"e\":\"\",\"n\":\"\",\"bf\":true,\"af\":false,\"dur\":\"7\",\"freq\":\"d\"},{\"mName\":\"Paracetamol 500mg Tab\",\"m\":\"1\",\"a\":\"\",\"e\":\"\",\"n\":\"1\",\"bf\":false,\"af\":true,\"dur\":\"7\",\"freq\":\"d\"}]}'],\n",
       "       ['{\"pres\":[{\"mName\":\"Azithromycin 500 mg film coated Tablets\",\"m\":\"1 tab\",\"a\":\"\",\"e\":\"\",\"n\":\"\",\"bf\":false,\"af\":true,\"dur\":\"5\",\"freq\":\"d\"},{\"mName\":\"Levocetrizine 5 mg film coated Tablets\",\"m\":\"1 tab\",\"a\":\"\",\"e\":\"1 tab\",\"n\":\"\",\"bf\":false,\"af\":true,\"dur\":\"5\",\"freq\":\"d\"},{\"mName\":\"PARACETAMOL Tablets IP 650 mg\",\"m\":\"1 tab\",\"a\":\"\",\"e\":\"1 tab\",\"n\":\"\",\"bf\":false,\"af\":true,\"dur\":\"5\",\"freq\":\"d\"}]}'],\n",
       "       ['{\"pres\":[{\"mName\":\"cap aristozyme\",\"m\":\"1\",\"a\":\"\",\"e\":\"1\",\"n\":\"\",\"bf\":true,\"af\":false,\"dur\":\"30\",\"freq\":\"d\"},{\"mName\":\"spasmindon tab\",\"m\":\"1\",\"a\":\"\",\"e\":\"\",\"n\":\"\",\"bf\":false,\"af\":true,\"dur\":\"1\",\"freq\":\"d\"}]}'],\n",
       "       ['{\"pres\":[]}'],\n",
       "       ['{\"pres\":[{\"mName\":\"PARACETAMOL Tablets IP 650 mg\",\"m\":\"1\",\"a\":\"\",\"e\":\"1\",\"n\":\"1 \",\"bf\":false,\"af\":true,\"dur\":\"5\",\"freq\":\"d\"},{\"mName\":\"Azithromycin 500 mg film coated Tablets\",\"m\":\"1\",\"a\":\"\",\"e\":\"\",\"n\":\"\",\"bf\":false,\"af\":true,\"dur\":\"5\",\"freq\":\"d\"}]}'],\n",
       "       ['{\"pres\":[{\"mName\":\"Ceftriaxone 1 g Inj.\",\"m\":\"1\",\"a\":\"\",\"e\":\"1\",\"n\":\"\",\"bf\":false,\"af\":true,\"dur\":\"5\",\"freq\":\"d\"},{\"mName\":\"Aceclofenac 100 mg Tablets\",\"m\":\"1 tab\",\"a\":\"\",\"e\":\"1 tab\",\"n\":\"\",\"bf\":false,\"af\":true,\"dur\":\"5\",\"freq\":\"d\"},{\"mName\":\"Calcium + Vitamin D3 500iu film coated  Tablets\",\"m\":\"1 tab\",\"a\":\"\",\"e\":\"1 tab\",\"n\":\"\",\"bf\":false,\"af\":true,\"dur\":\"5\",\"freq\":\"d\"},{\"mName\":\"PARACETAMOL Tablets IP 650 mg\",\"m\":\"1 tab\",\"a\":\"\",\"e\":\"1 tab\",\"n\":\"\",\"bf\":false,\"af\":true,\"dur\":\"5\",\"freq\":\"d\"}]}'],\n",
       "       ['{\"pres\":[{\"mName\":\"CUFRIL -D SYRUP\",\"m\":\"5ml\",\"a\":\"\",\"e\":\"5ml\",\"n\":\"\",\"bf\":false,\"af\":true,\"dur\":\"5\",\"freq\":\"d\"},{\"mName\":\"RANTAC 150MG\",\"m\":\"1 tab\",\"a\":\"\",\"e\":\"1tab\",\"n\":\"\",\"bf\":false,\"af\":true,\"dur\":\"5\",\"freq\":\"d\"},{\"mName\":\"Levocetrizine 5 mg film coated Tablets\",\"m\":\"1 tab\",\"a\":\"\",\"e\":\"1 tab\",\"n\":\"\",\"bf\":false,\"af\":true,\"dur\":\"5\",\"freq\":\"d\"},{\"mName\":\"Calcium + Vitamin D3 500iu film coated  Tablets\",\"m\":\"1 tab\",\"a\":\"\",\"e\":\"1 tab\",\"n\":\"\",\"bf\":false,\"af\":true,\"dur\":\"5\",\"freq\":\"d\"}]}'],\n",
       "       ['{\"pres\":[{\"mName\":\"Amlodipine Tablets IP 5mg\",\"m\":\"1\",\"a\":\"\",\"e\":\"1\",\"n\":\"\",\"bf\":false,\"af\":true,\"dur\":\"30\",\"freq\":\"d\"}]}'],\n",
       "       ['{\"pres\":[{\"mName\":\"Doxycycline 100 mg Caps\",\"m\":\"1\",\"a\":\"\",\"e\":\"1\",\"n\":\"\",\"bf\":false,\"af\":true,\"dur\":\"5\",\"freq\":\"d\"},{\"mName\":\"piriton exp\",\"m\":\"2 tsf\",\"a\":\"2 tsf\",\"e\":\"2 tsf\",\"n\":\"\",\"bf\":false,\"af\":true,\"dur\":\"7\",\"freq\":\"d\"},{\"mName\":\"betadine lotion\",\"m\":\"1\",\"a\":\"1\",\"e\":\"1\",\"n\":\"\",\"bf\":false,\"af\":true,\"dur\":\"10\",\"freq\":\"d\"},{\"mName\":\"BECOSULES Z\",\"m\":\"1\",\"a\":\"\",\"e\":\"1\",\"n\":\"\",\"bf\":false,\"af\":true,\"dur\":\"10\",\"freq\":\"d\"}]}'],\n",
       "       ['{\"pres\":[{\"mName\":\"Tranexamic Acid 500 mg Tabs\",\"m\":\"1\",\"a\":\"\",\"e\":\"\",\"n\":\"\",\"bf\":false,\"af\":true,\"dur\":\"5\",\"freq\":\"d\"},{\"mName\":\"Amoxycillin 250 mg Caps\",\"m\":\"1\",\"a\":\"1\",\"e\":\"1\",\"n\":\"\",\"bf\":false,\"af\":true,\"dur\":\"5\",\"freq\":\"d\"},{\"mName\":\"Brufen 200 tab\",\"m\":\"1\",\"a\":\"\",\"e\":\"1\",\"n\":\"\",\"bf\":false,\"af\":true,\"dur\":\"5\",\"freq\":\"d\"},{\"mName\":\"Cremaffin Plus Syrup\",\"m\":\"\",\"a\":\"\",\"e\":\"\",\"n\":\"3\",\"bf\":false,\"af\":true,\"dur\":\"5\",\"freq\":\"d\"},{\"mName\":\"OINTMENT ANOVATE\",\"m\":\"\",\"a\":\"\",\"e\":\"\",\"n\":\"1\",\"bf\":false,\"af\":true,\"dur\":\"10\",\"freq\":\"d\"}]}'],\n",
       "       ['{\"pres\":[{\"mName\":\"BETADINE LOTION\",\"m\":\"1\",\"a\":\"1\",\"e\":\"1\",\"n\":\"\",\"bf\":false,\"af\":true,\"dur\":\"10\",\"freq\":\"d\"}]}'],\n",
       "       ['{\"pres\":[{\"mName\":\"Levofloxacin 500 mg Tab\",\"m\":\"1\",\"a\":\"\",\"e\":\"\",\"n\":\"\",\"bf\":false,\"af\":true,\"dur\":\"5\",\"freq\":\"d\"},{\"mName\":\"Cefixime 200mg film coated Tablets\",\"m\":\"1\",\"a\":\"\",\"e\":\"\",\"n\":\"1\",\"bf\":false,\"af\":true,\"dur\":\"5\",\"freq\":\"d\"},{\"mName\":\"DEFLAZACORT Tablets 6 mg\",\"m\":\"1\",\"a\":\"\",\"e\":\"\",\"n\":\"1\",\"bf\":false,\"af\":true,\"dur\":\"5\",\"freq\":\"d\"},{\"mName\":\"ACEBROPHYLLINE Capsules 100 mg\",\"m\":\"1\",\"a\":\"\",\"e\":\"\",\"n\":\"1\",\"bf\":false,\"af\":true,\"dur\":\"5\",\"freq\":\"d\"},{\"mName\":\"ACETYLCYSTEINE Tablets 600 mg\",\"m\":\"1\",\"a\":\"\",\"e\":\"\",\"n\":\"1\",\"bf\":false,\"af\":true,\"dur\":\"5\",\"freq\":\"d\"},{\"mName\":\"Pantoprazole 40 mg film coated Tablets\",\"m\":\"1\",\"a\":\"\",\"e\":\"\",\"n\":\"\",\"bf\":true,\"af\":false,\"dur\":\"5\",\"freq\":\"d\"},{\"mName\":\"ADITUS COUGH SYRUP\",\"m\":\"5ml\",\"a\":\"\",\"e\":\"\",\"n\":\"5ml\",\"bf\":false,\"af\":true,\"dur\":\"5\",\"freq\":\"d\"}]}'],\n",
       "       ['{\"pres\":[{\"mName\":\"HIFENAC P \",\"m\":\"1\",\"a\":\"\",\"e\":\"1\",\"n\":\"\",\"bf\":false,\"af\":true,\"dur\":\"10\",\"freq\":\"d\"},{\"mName\":\"ACILOC RD\",\"m\":\"1\",\"a\":\"\",\"e\":\"1\",\"n\":\"\",\"bf\":false,\"af\":true,\"dur\":\"10\",\"freq\":\"d\"},{\"mName\":\"PIRITON EXP\",\"m\":\"2 tsf\",\"a\":\"2 tsf\",\"e\":\"2 tsf\",\"n\":\"\",\"bf\":false,\"af\":true,\"dur\":\"7\",\"freq\":\"d\"}]}'],\n",
       "       [nan],\n",
       "       ['{\"pres\":[{\"mName\":\"piriton exp\",\"m\":\"2 tsf\",\"a\":\"2 tsf\",\"e\":\"2 tsf\",\"n\":\"\",\"bf\":false,\"af\":true,\"dur\":\"7\",\"freq\":\"d\"},{\"mName\":\"betadine lotion\",\"m\":\"1\",\"a\":\"1\",\"e\":\"1\",\"n\":\"\",\"bf\":false,\"af\":true,\"dur\":\"10\",\"freq\":\"d\"}]}'],\n",
       "       ['{\"pres\":[{\"mName\":\"pan D\",\"m\":\"1\",\"a\":\"\",\"e\":\"1\",\"n\":\"\",\"bf\":false,\"af\":true,\"dur\":\"15\",\"freq\":\"d\"},{\"mName\":\"aristozyme syr\",\"m\":\"2 tsf\",\"a\":\"\",\"e\":\"2 tsf\",\"n\":\"\",\"bf\":true,\"af\":false,\"dur\":\"7\",\"freq\":\"d\"}]}'],\n",
       "       ['{\"pres\":[{\"mName\":\"PARACETAMOL Tablets IP 650 mg\",\"m\":\"1 tab\",\"a\":\"\",\"e\":\"1 tab\",\"n\":\"\",\"bf\":false,\"af\":true,\"dur\":\"5\",\"freq\":\"d\"},{\"mName\":\"MEFTAL-FORTE TAB\",\"m\":\"1 tab\",\"a\":\"\",\"e\":\"1 tab\",\"n\":\"\",\"bf\":false,\"af\":true,\"dur\":\"5\",\"freq\":\"d\"},{\"mName\":\"Doxycycline 100 mg Caps\",\"m\":\"1 tab\",\"a\":\"\",\"e\":\"1 tab\",\"n\":\"\",\"bf\":false,\"af\":true,\"dur\":\"5\",\"freq\":\"d\"},{\"mName\":\"Vitamin-C Chewable 500mg Tablet\",\"m\":\"1 tab\",\"a\":\"\",\"e\":\"1 tab\",\"n\":\"\",\"bf\":false,\"af\":true,\"dur\":\"5\",\"freq\":\"d\"}]}'],\n",
       "       ['{\"pres\":[{\"mName\":\"Doxycycline 100 mg Caps\",\"m\":\"1\",\"a\":\"\",\"e\":\"1\",\"n\":\"\",\"bf\":false,\"af\":true,\"dur\":\"5\",\"freq\":\"d\"},{\"mName\":\"Paracetamol 500mg Tab\",\"m\":\"1\",\"a\":\"\",\"e\":\"1\",\"n\":\"\",\"bf\":false,\"af\":true,\"dur\":\"3\",\"freq\":\"d\"},{\"mName\":\"Cetrizine 10mg film coated Tablets\",\"m\":\"1\",\"a\":\"\",\"e\":\"\",\"n\":\"\",\"bf\":true,\"af\":false,\"dur\":\"5\",\"freq\":\"d\"},{\"mName\":\"BECOSULES Z\",\"m\":\"1\",\"a\":\"\",\"e\":\"1\",\"n\":\"\",\"bf\":false,\"af\":true,\"dur\":\"10\",\"freq\":\"d\"}]}'],\n",
       "       ['{\"pres\":[{\"mName\":\"Liv 52 tab\",\"m\":\"1\",\"a\":\"\",\"e\":\"1\",\"n\":\"\",\"bf\":false,\"af\":true,\"dur\":\"30\",\"freq\":\"d\"},{\"mName\":\"BECOSULES Z\",\"m\":\"1\",\"a\":\"\",\"e\":\"1\",\"n\":\"\",\"bf\":false,\"af\":true,\"dur\":\"30\",\"freq\":\"d\"}]}'],\n",
       "       [nan],\n",
       "       ['{\"pres\":[{\"mName\":\"Fexofenadine 120 mg film coated Tablets\",\"m\":\"1\",\"a\":\"\",\"e\":\"\",\"n\":\"\",\"bf\":false,\"af\":true,\"dur\":\"10\",\"freq\":\"d\"},{\"mName\":\"Aceclofenac 200 mg Tablets\",\"m\":\"1 \",\"a\":\"\",\"e\":\"\",\"n\":\"1 \",\"bf\":false,\"af\":true,\"dur\":\"5\",\"freq\":\"d\"}]}'],\n",
       "       ['{\"pres\":[{\"mName\":\"ERYTHROMYCIN 250\",\"m\":\"1\",\"a\":\"1\",\"e\":\"1\",\"n\":\"\",\"bf\":false,\"af\":true,\"dur\":\"5\",\"freq\":\"d\"},{\"mName\":\"PIRITON EXP\",\"m\":\"2 tsf\",\"a\":\"2 tsf\",\"e\":\"2 tsf\",\"n\":\"\",\"bf\":false,\"af\":true,\"dur\":\"7\",\"freq\":\"d\"},{\"mName\":\"BETADINE LOTION\",\"m\":\"1\",\"a\":\"1\",\"e\":\"1\",\"n\":\"\",\"bf\":false,\"af\":true,\"dur\":\"10\",\"freq\":\"d\"},{\"mName\":\"BECOSULES Z\",\"m\":\"1\",\"a\":\"\",\"e\":\"1\",\"n\":\"\",\"bf\":false,\"af\":true,\"dur\":\"10\",\"freq\":\"d\"}]}'],\n",
       "       [nan],\n",
       "       ['{\"pres\":[{\"mName\":\"Azithromycin 500 mg film coated Tablets\",\"m\":\"1\",\"a\":\"\",\"e\":\"\",\"n\":\"\",\"bf\":false,\"af\":true,\"dur\":\"5\",\"freq\":\"d\"},{\"mName\":\"PIRITON EXP\",\"m\":\"2 tsf\",\"a\":\"2 tsf\",\"e\":\"2 tsf\",\"n\":\"\",\"bf\":false,\"af\":true,\"dur\":\"7\",\"freq\":\"d\"}]}'],\n",
       "       ['{\"pres\":[{\"mName\":\"MATILDA FORTE\",\"m\":\"1\",\"a\":\"\",\"e\":\"\",\"n\":\"\",\"bf\":false,\"af\":true,\"dur\":\"30\",\"freq\":\"d\"}]}'],\n",
       "       ['{\"pres\":[{\"mName\":\"Pantoprazole 40 mg film coated Tablets\",\"m\":\"1\",\"a\":\"\",\"e\":\"\",\"n\":\"\",\"bf\":true,\"af\":false,\"dur\":\"7\",\"freq\":\"d\"},{\"mName\":\"Cap. Aristozyme\",\"m\":\"1\",\"a\":\"\",\"e\":\"\",\"n\":\"1\",\"bf\":false,\"af\":true,\"dur\":\"7\",\"freq\":\"d\"},{\"mName\":\"Cap. Cobadex\",\"m\":\"1\",\"a\":\"\",\"e\":\"\",\"n\":\"1\",\"bf\":false,\"af\":true,\"dur\":\"7\",\"freq\":\"d\"},{\"mName\":\"Calcium + Vitamin D3 500iu film coated  Tablets\",\"m\":\"\",\"a\":\"\",\"e\":\"\",\"n\":\"1\",\"bf\":false,\"af\":true,\"dur\":\"7\",\"freq\":\"d\"},{\"mName\":\"Tab. Irolic xt\",\"m\":\"\",\"a\":\"1\",\"e\":\"\",\"n\":\"\",\"bf\":false,\"af\":true,\"dur\":\"7\",\"freq\":\"d\"}]}'],\n",
       "       ['{\"pres\":[{\"mName\":\"ACILOC RD\",\"m\":\"1\",\"a\":\"\",\"e\":\"\",\"n\":\"\",\"bf\":true,\"af\":false,\"dur\":\"7\",\"freq\":\"d\"},{\"mName\":\"ZERODOL SP TAB\",\"m\":\"1\",\"a\":\"\",\"e\":\"\",\"n\":\"1\",\"bf\":false,\"af\":true,\"dur\":\"7\",\"freq\":\"d\"},{\"mName\":\"Calcium + Vitamin D3 500iu film coated  Tablets\",\"m\":\"1\",\"a\":\"\",\"e\":\"\",\"n\":\"1\",\"bf\":false,\"af\":true,\"dur\":\"7\",\"freq\":\"d\"},{\"mName\":\"Cap. Cobadex\",\"m\":\"\",\"a\":\"\",\"e\":\"\",\"n\":\"1\",\"bf\":false,\"af\":true,\"dur\":\"7\",\"freq\":\"d\"}]}'],\n",
       "       ['{\"pres\":[{\"mName\":\"Doxycycline 100 mg Caps\",\"m\":\"1\",\"a\":\"\",\"e\":\"1\",\"n\":\"\",\"bf\":false,\"af\":true,\"dur\":\"5\",\"freq\":\"d\"},{\"mName\":\"IVERMECTIN  TABLETS 12 MG\",\"m\":\"1\",\"a\":\"\",\"e\":\"\",\"n\":\"\",\"bf\":false,\"af\":true,\"dur\":\"5\",\"freq\":\"d\"},{\"mName\":\"MONTAIR- LC TABLETS\",\"m\":\"\",\"a\":\"\",\"e\":\"\",\"n\":\"1\",\"bf\":true,\"af\":false,\"dur\":\"5\",\"freq\":\"d\"},{\"mName\":\"BECOSULES Z\",\"m\":\"1\",\"a\":\"\",\"e\":\"1\",\"n\":\"\",\"bf\":false,\"af\":true,\"dur\":\"30\",\"freq\":\"d\"},{\"mName\":\"Vitamin-C Chewable 500mg Tablet\",\"m\":\"\",\"a\":\"1\",\"e\":\"\",\"n\":\"\",\"bf\":false,\"af\":true,\"dur\":\"30\",\"freq\":\"d\"},{\"mName\":\"Calcium + Vitamin D3 500iu film coated  Tablets\",\"m\":\"\",\"a\":\"1\",\"e\":\"\",\"n\":\"\",\"bf\":false,\"af\":true,\"dur\":\"30\",\"freq\":\"d\"},{\"mName\":\"BETADINE LOTION\",\"m\":\"1\",\"a\":\"1\",\"e\":\"1\",\"n\":\"\",\"bf\":false,\"af\":true,\"dur\":\"10\",\"freq\":\"d\"},{\"mName\":\"KARVOL PLUS\",\"m\":\"1\",\"a\":\"1\",\"e\":\"1\",\"n\":\"\",\"bf\":false,\"af\":true,\"dur\":\"10\",\"freq\":\"d\"}]}'],\n",
       "       ['{\"pres\":[{\"mName\":\"Pantoprazole 40 mg film coated Tablets\",\"m\":\"1\",\"a\":\"\",\"e\":\"\",\"n\":\"\",\"bf\":true,\"af\":false,\"dur\":\"7\",\"freq\":\"d\"},{\"mName\":\"ZERODOL SP TAB\",\"m\":\"1\",\"a\":\"\",\"e\":\"\",\"n\":\"1\",\"bf\":false,\"af\":true,\"dur\":\"7\",\"freq\":\"d\"},{\"mName\":\"Calcium + Vitamin D3 500iu film coated  Tablets\",\"m\":\"\",\"a\":\"\",\"e\":\"\",\"n\":\"1\",\"bf\":false,\"af\":true,\"dur\":\"7\",\"freq\":\"d\"},{\"mName\":\"Cap.cobadex\",\"m\":\"\",\"a\":\"\",\"e\":\"\",\"n\":\"1\",\"bf\":false,\"af\":true,\"dur\":\"7\",\"freq\":\"d\"},{\"mName\":\"Tab.irolic xt\",\"m\":\"\",\"a\":\"1\",\"e\":\"\",\"n\":\"\",\"bf\":false,\"af\":true,\"dur\":\"7\",\"freq\":\"d\"}]}'],\n",
       "       ['{\"pres\":[{\"mName\":\"Amoxycillin 500 mg Caps\",\"m\":\"1\",\"a\":\"\",\"e\":\"\",\"n\":\"1\",\"bf\":false,\"af\":true,\"dur\":\"3\",\"freq\":\"d\"},{\"mName\":\"ZERODOL SP TAB\",\"m\":\"1\",\"a\":\"\",\"e\":\"\",\"n\":\"1\",\"bf\":false,\"af\":true,\"dur\":\"3\",\"freq\":\"d\"},{\"mName\":\"Pantoprazole 40 mg film coated Tablets\",\"m\":\"1\",\"a\":\"\",\"e\":\"\",\"n\":\"\",\"bf\":true,\"af\":false,\"dur\":\"3\",\"freq\":\"d\"}]}'],\n",
       "       [nan],\n",
       "       [nan],\n",
       "       ['{\"pres\":[{\"mName\":\"Paracetamol 500mg Tab\",\"m\":\"1\",\"a\":\"\",\"e\":\"\",\"n\":\"1\",\"bf\":false,\"af\":true,\"dur\":\"5\",\"freq\":\"d\"},{\"mName\":\"Cap. Cobadex\",\"m\":\"\",\"a\":\"\",\"e\":\"\",\"n\":\"1 with milk\",\"bf\":false,\"af\":true,\"dur\":\"5\",\"freq\":\"d\"}]}'],\n",
       "       ['{\"pres\":[{\"mName\":\"Pantoprazole 40 mg film coated Tablets\",\"m\":\"1\",\"a\":\"\",\"e\":\"\",\"n\":\"\",\"bf\":true,\"af\":false,\"dur\":\"7\",\"freq\":\"d\"},{\"mName\":\"PREGABALIN TABLETS 75 MG\",\"m\":\"\",\"a\":\"\",\"e\":\"\",\"n\":\"1\",\"bf\":false,\"af\":true,\"dur\":\"7\",\"freq\":\"d\"},{\"mName\":\"Cap. Cobadex\",\"m\":\"\",\"a\":\"\",\"e\":\"\",\"n\":\"1\",\"bf\":false,\"af\":true,\"dur\":\"7\",\"freq\":\"d\"}]}'],\n",
       "       [nan],\n",
       "       [nan],\n",
       "       ['{\"pres\":[{\"mName\":\"EVION 400\",\"m\":\"\",\"a\":\"\",\"e\":\"1\",\"n\":\"\",\"bf\":false,\"af\":true,\"dur\":\"30\",\"freq\":\"d\"}]}'],\n",
       "       ['{\"pres\":[{\"mName\":\"BECOSULES Z\",\"m\":\"1\",\"a\":\"\",\"e\":\"1\",\"n\":\"\",\"bf\":false,\"af\":true,\"dur\":\"10\",\"freq\":\"d\"},{\"mName\":\"Vitamin-C Chewable 500mg Tablet\",\"m\":\"\",\"a\":\"1\",\"e\":\"\",\"n\":\"\",\"bf\":false,\"af\":true,\"dur\":\"10\",\"freq\":\"d\"},{\"mName\":\"paramet\",\"m\":\"1\",\"a\":\"\",\"e\":\"1\",\"n\":\"\",\"bf\":false,\"af\":true,\"dur\":\"5\",\"freq\":\"d\"},{\"mName\":\"Liv 52 tab\",\"m\":\"1\",\"a\":\"\",\"e\":\"1\",\"n\":\"\",\"bf\":false,\"af\":true,\"dur\":\"10\",\"freq\":\"d\"}]}'],\n",
       "       [nan],\n",
       "       [nan],\n",
       "       [nan],\n",
       "       [nan],\n",
       "       ['{\"pres\":[{\"mName\":\"Amoxycillin 500 mg Caps\",\"m\":\"1\",\"a\":\"\",\"e\":\"\",\"n\":\"1\",\"bf\":false,\"af\":true,\"dur\":\"5\",\"freq\":\"d\"},{\"mName\":\"ZERODOL SP TAB\",\"m\":\"1\",\"a\":\"\",\"e\":\"\",\"n\":\"1\",\"bf\":false,\"af\":true,\"dur\":\"5\",\"freq\":\"d\"},{\"mName\":\"Pantoprazole 40 mg film coated Tablets\",\"m\":\"1\",\"a\":\"\",\"e\":\"\",\"n\":\"\",\"bf\":true,\"af\":false,\"dur\":\"5\",\"freq\":\"d\"},{\"mName\":\"Hexidine Mouth Wash\",\"m\":\"5 ml gargling\",\"a\":\"\",\"e\":\"\",\"n\":\"5 ml gargling\",\"bf\":false,\"af\":true,\"dur\":\"5\",\"freq\":\"d\"}]}'],\n",
       "       [nan],\n",
       "       ['{\"pres\":[{\"mName\":\"Aceclofenac 200 mg Tablets\",\"m\":\"1\",\"a\":\"\",\"e\":\"\",\"n\":\"1 \",\"bf\":false,\"af\":true,\"dur\":\"10\",\"freq\":\"d\"},{\"mName\":\"METROGYL 400MG\",\"m\":\"1\",\"a\":\"\",\"e\":\"\",\"n\":\"1 \",\"bf\":false,\"af\":true,\"dur\":\"5\",\"freq\":\"d\"}]}'],\n",
       "       ['{\"pres\":[{\"mName\":\"Gentamycin 0.3% w/v Eye Drop\",\"m\":\"3 drops\",\"a\":\"\",\"e\":\"\",\"n\":\"3 drops\",\"bf\":false,\"af\":false,\"dur\":\"10\",\"freq\":\"d\"},{\"mName\":\"Cetrizine 10mg film coated Tablets\",\"m\":\"1/2\",\"a\":\"\",\"e\":\"\",\"n\":\"1/2\",\"bf\":false,\"af\":true,\"dur\":\"10\",\"freq\":\"d\"}]}'],\n",
       "       ['{\"pres\":[{\"mName\":\"metrogyl DG gel (LA)\",\"m\":\"1\",\"a\":\"\",\"e\":\"\",\"n\":\"1 \",\"bf\":false,\"af\":false,\"dur\":\"10\",\"freq\":\"d\"},{\"mName\":\"APPETITE ENHANCER (PEPTONE, MINERALS, VITAMINS)SYRUP\",\"m\":\"2.5ml\",\"a\":\"\",\"e\":\"\",\"n\":\"2.5ml\",\"bf\":false,\"af\":true,\"dur\":\"10\",\"freq\":\"d\"}]}'],\n",
       "       ['{\"pres\":[{\"mName\":\"Azithromycin 500 mg film coated Tablets\",\"m\":\"1\",\"a\":\"\",\"e\":\"\",\"n\":\"\",\"bf\":false,\"af\":true,\"dur\":\"5\",\"freq\":\"d\"},{\"mName\":\"Doxycycline 100 mg Caps\",\"m\":\"1\",\"a\":\"\",\"e\":\"\",\"n\":\"1\",\"bf\":false,\"af\":true,\"dur\":\"5\",\"freq\":\"d\"},{\"mName\":\"PARACETAMOL Tablets IP 650 mg\",\"m\":\"1\",\"a\":\"\",\"e\":\"\",\"n\":\"1\",\"bf\":false,\"af\":true,\"dur\":\"5\",\"freq\":\"d\"},{\"mName\":\"Pantoprazole 40 mg film coated Tablets\",\"m\":\"1\",\"a\":\"\",\"e\":\"\",\"n\":\"\",\"bf\":true,\"af\":false,\"dur\":\"5\",\"freq\":\"d\"},{\"mName\":\"IVERMECTIN  TABLETS 12 MG\",\"m\":\"\",\"a\":\"\",\"e\":\"\",\"n\":\"1\",\"bf\":false,\"af\":true,\"dur\":\"5\",\"freq\":\"d\"},{\"mName\":\"Cap.cobadex\",\"m\":\"\",\"a\":\"\",\"e\":\"\",\"n\":\"1\",\"bf\":false,\"af\":true,\"dur\":\"5\",\"freq\":\"d\"}]}'],\n",
       "       ['{\"pres\":[{\"mName\":\"Betadine ointment for L/A\",\"m\":\"1\",\"a\":\"1\",\"e\":\"1\",\"n\":\"\",\"bf\":false,\"af\":true,\"dur\":\"7\",\"freq\":\"d\"},{\"mName\":\"Diclofenac Sodium 50 mg Tab\",\"m\":\"1\",\"a\":\"\",\"e\":\"1\",\"n\":\"\",\"bf\":false,\"af\":true,\"dur\":\"5\",\"freq\":\"d\"},{\"mName\":\"Pantoprazole 40 mg film coated Tablets\",\"m\":\"1\",\"a\":\"\",\"e\":\"\",\"n\":\"\",\"bf\":true,\"af\":false,\"dur\":\"5\",\"freq\":\"d\"},{\"mName\":\"Tab cefixime ofloxacin \",\"m\":\"1\",\"a\":\"\",\"e\":\"1\",\"n\":\"\",\"bf\":false,\"af\":true,\"dur\":\"5\",\"freq\":\"d\"}]}'],\n",
       "       [nan],\n",
       "       ['{\"pres\":[{\"mName\":\"Levofloxacin 500 mg Tab\",\"m\":\"1\",\"a\":\"\",\"e\":\"\",\"n\":\"\",\"bf\":false,\"af\":true,\"dur\":\"5\",\"freq\":\"d\"},{\"mName\":\"Cefixime 200mg film coated Tablets\",\"m\":\"1\",\"a\":\"\",\"e\":\"\",\"n\":\"1\",\"bf\":false,\"af\":true,\"dur\":\"5\",\"freq\":\"d\"},{\"mName\":\"Pantoprazole 40 mg film coated Tablets\",\"m\":\"1\",\"a\":\"\",\"e\":\"\",\"n\":\"\",\"bf\":true,\"af\":false,\"dur\":\"5\",\"freq\":\"d\"},{\"mName\":\"ACEBROPHYLLINE Capsules 100 mg\",\"m\":\"1\",\"a\":\"\",\"e\":\"\",\"n\":\"1\",\"bf\":false,\"af\":true,\"dur\":\"5\",\"freq\":\"d\"},{\"mName\":\"ACETYLCYSTEINE Tablets 600 mg\",\"m\":\"1\",\"a\":\"\",\"e\":\"\",\"n\":\"1\",\"bf\":false,\"af\":true,\"dur\":\"5\",\"freq\":\"d\"},{\"mName\":\"Cap.cobadex\",\"m\":\"\",\"a\":\"\",\"e\":\"\",\"n\":\"1\",\"bf\":false,\"af\":true,\"dur\":\"5\",\"freq\":\"d\"}]}'],\n",
       "       [nan],\n",
       "       ['{\"pres\":[{\"mName\":\"Pantoprazole 40 mg film coated Tablets\",\"m\":\"1\",\"a\":\"\",\"e\":\"1\",\"n\":\"\",\"bf\":true,\"af\":false,\"dur\":\"7\",\"freq\":\"d\"},{\"mName\":\"Ondansetron 4mg Tab\",\"m\":\"1\",\"a\":\"\",\"e\":\"\",\"n\":\"\",\"bf\":true,\"af\":false,\"dur\":\"7\",\"freq\":\"d\"},{\"mName\":\"Cap. Aristozyme\",\"m\":\"1\",\"a\":\"\",\"e\":\"\",\"n\":\"1\",\"bf\":false,\"af\":true,\"dur\":\"7\",\"freq\":\"d\"},{\"mName\":\"Cap.cobadex\",\"m\":\"\",\"a\":\"\",\"e\":\"\",\"n\":\"1\",\"bf\":false,\"af\":true,\"dur\":\"7\",\"freq\":\"d\"}]}'],\n",
       "       [nan],\n",
       "       [nan],\n",
       "       ['{\"pres\":[{\"mName\":\"Doxycycline 100 mg Caps\",\"m\":\"1\",\"a\":\"\",\"e\":\"1\",\"n\":\"\",\"bf\":false,\"af\":true,\"dur\":\"7\",\"freq\":\"d\"},{\"mName\":\"IVERMECTIN  TABLETS 12 MG\",\"m\":\"\",\"a\":\"1\",\"e\":\"\",\"n\":\"\",\"bf\":false,\"af\":true,\"dur\":\"3\",\"freq\":\"d\"},{\"mName\":\"ENSURE PROTEIN POWDER\",\"m\":\"2 SCOOPS\",\"a\":\"\",\"e\":\"2 SCOOPS\",\"n\":\"\",\"bf\":true,\"af\":false,\"dur\":\"30\",\"freq\":\"d\"},{\"mName\":\"VITAMIN B1 10MG, B2 10 MG, NIACINAMIDE 45 MG, CALCIUM PANTOTHENATE  50 MG, B6 3 MG AND B12 15MCG TABLETS\",\"m\":\"1\",\"a\":\"\",\"e\":\"1\",\"n\":\"\",\"bf\":false,\"af\":true,\"dur\":\"30\",\"freq\":\"d\"},{\"mName\":\"ADITUS COUGH SYRUP\",\"m\":\"10ml\",\"a\":\"\",\"e\":\"10ml\",\"n\":\"\",\"bf\":false,\"af\":true,\"dur\":\"5\",\"freq\":\"d\"},{\"mName\":\"Vitamin-C Chewable 500mg Tablet\",\"m\":\"1\",\"a\":\"1\",\"e\":\"1\",\"n\":\"\",\"bf\":false,\"af\":true,\"dur\":\"15\",\"freq\":\"d\"}]}']],\n",
       "      dtype=object)"
      ]
     },
     "execution_count": 147,
     "metadata": {},
     "output_type": "execute_result"
    }
   ],
   "source": [
    "filtered_data = data[data[\"Date\"] == \"2021-05-14\"]\n",
    "result = filtered_data[[\"Prescrption json\"]]\n",
    "result.values"
   ]
  },
  {
   "cell_type": "code",
   "execution_count": 148,
   "metadata": {},
   "outputs": [
    {
     "data": {
      "text/html": [
       "<div>\n",
       "<style scoped>\n",
       "    .dataframe tbody tr th:only-of-type {\n",
       "        vertical-align: middle;\n",
       "    }\n",
       "\n",
       "    .dataframe tbody tr th {\n",
       "        vertical-align: top;\n",
       "    }\n",
       "\n",
       "    .dataframe thead th {\n",
       "        text-align: right;\n",
       "    }\n",
       "</style>\n",
       "<table border=\"1\" class=\"dataframe\">\n",
       "  <thead>\n",
       "    <tr style=\"text-align: right;\">\n",
       "      <th></th>\n",
       "      <th>Medicine Name</th>\n",
       "      <th>Duration</th>\n",
       "      <th>Morning</th>\n",
       "      <th>Afternoon</th>\n",
       "      <th>Evening</th>\n",
       "      <th>Night</th>\n",
       "      <th>Frequency</th>\n",
       "      <th>Clinic Name</th>\n",
       "      <th>Date</th>\n",
       "    </tr>\n",
       "  </thead>\n",
       "  <tbody>\n",
       "    <tr>\n",
       "      <th>0</th>\n",
       "      <td>Tab Ovral L</td>\n",
       "      <td>21</td>\n",
       "      <td>0</td>\n",
       "      <td>0</td>\n",
       "      <td>0</td>\n",
       "      <td>1</td>\n",
       "      <td>d</td>\n",
       "      <td>NaN</td>\n",
       "      <td>2021-06-10</td>\n",
       "    </tr>\n",
       "    <tr>\n",
       "      <th>1</th>\n",
       "      <td>Folic Acid 5mg Tabs</td>\n",
       "      <td>15</td>\n",
       "      <td>1</td>\n",
       "      <td>0</td>\n",
       "      <td>1</td>\n",
       "      <td>0</td>\n",
       "      <td>d</td>\n",
       "      <td>NaN</td>\n",
       "      <td>2021-06-10</td>\n",
       "    </tr>\n",
       "    <tr>\n",
       "      <th>2</th>\n",
       "      <td>Calcium + Vitamin D3 500iu film coated  Tablets</td>\n",
       "      <td>15</td>\n",
       "      <td>1</td>\n",
       "      <td>0</td>\n",
       "      <td>0</td>\n",
       "      <td>0</td>\n",
       "      <td>d</td>\n",
       "      <td>NaN</td>\n",
       "      <td>2021-06-10</td>\n",
       "    </tr>\n",
       "    <tr>\n",
       "      <th>3</th>\n",
       "      <td>Multiprex Cap</td>\n",
       "      <td>10</td>\n",
       "      <td>1</td>\n",
       "      <td>0</td>\n",
       "      <td>1</td>\n",
       "      <td>0</td>\n",
       "      <td>d</td>\n",
       "      <td>NaN</td>\n",
       "      <td>2021-06-11</td>\n",
       "    </tr>\n",
       "    <tr>\n",
       "      <th>4</th>\n",
       "      <td>Aptivate SYP</td>\n",
       "      <td>10</td>\n",
       "      <td>1</td>\n",
       "      <td>0</td>\n",
       "      <td>1</td>\n",
       "      <td>0</td>\n",
       "      <td>d</td>\n",
       "      <td>NaN</td>\n",
       "      <td>2021-06-11</td>\n",
       "    </tr>\n",
       "    <tr>\n",
       "      <th>...</th>\n",
       "      <td>...</td>\n",
       "      <td>...</td>\n",
       "      <td>...</td>\n",
       "      <td>...</td>\n",
       "      <td>...</td>\n",
       "      <td>...</td>\n",
       "      <td>...</td>\n",
       "      <td>...</td>\n",
       "      <td>...</td>\n",
       "    </tr>\n",
       "    <tr>\n",
       "      <th>6165376</th>\n",
       "      <td>Multivitamin Syrup</td>\n",
       "      <td>10</td>\n",
       "      <td>0</td>\n",
       "      <td>1</td>\n",
       "      <td>0</td>\n",
       "      <td>0</td>\n",
       "      <td>d</td>\n",
       "      <td>NaN</td>\n",
       "      <td>2024-05-22</td>\n",
       "    </tr>\n",
       "    <tr>\n",
       "      <th>6165377</th>\n",
       "      <td>Calcium + Vit D3 250iu Tabs</td>\n",
       "      <td>10</td>\n",
       "      <td>0</td>\n",
       "      <td>1</td>\n",
       "      <td>0</td>\n",
       "      <td>0</td>\n",
       "      <td>d</td>\n",
       "      <td>NaN</td>\n",
       "      <td>2024-05-22</td>\n",
       "    </tr>\n",
       "    <tr>\n",
       "      <th>6165378</th>\n",
       "      <td>Ciplox Eye Drops</td>\n",
       "      <td>5</td>\n",
       "      <td>1</td>\n",
       "      <td>1</td>\n",
       "      <td>0</td>\n",
       "      <td>1</td>\n",
       "      <td>d</td>\n",
       "      <td>NaN</td>\n",
       "      <td>2024-05-22</td>\n",
       "    </tr>\n",
       "    <tr>\n",
       "      <th>6165379</th>\n",
       "      <td>Paracetamol 500mg Tab</td>\n",
       "      <td>3</td>\n",
       "      <td>1</td>\n",
       "      <td>1</td>\n",
       "      <td>0</td>\n",
       "      <td>1</td>\n",
       "      <td>d</td>\n",
       "      <td>NaN</td>\n",
       "      <td>2024-05-22</td>\n",
       "    </tr>\n",
       "    <tr>\n",
       "      <th>6165380</th>\n",
       "      <td>Cough Syrup</td>\n",
       "      <td>3</td>\n",
       "      <td>1</td>\n",
       "      <td>1</td>\n",
       "      <td>0</td>\n",
       "      <td>1</td>\n",
       "      <td>d</td>\n",
       "      <td>NaN</td>\n",
       "      <td>2024-05-22</td>\n",
       "    </tr>\n",
       "  </tbody>\n",
       "</table>\n",
       "<p>6165381 rows × 9 columns</p>\n",
       "</div>"
      ],
      "text/plain": [
       "                                           Medicine Name Duration  Morning  \\\n",
       "0                                            Tab Ovral L       21        0   \n",
       "1                                    Folic Acid 5mg Tabs       15        1   \n",
       "2        Calcium + Vitamin D3 500iu film coated  Tablets       15        1   \n",
       "3                                          Multiprex Cap       10        1   \n",
       "4                                           Aptivate SYP       10        1   \n",
       "...                                                  ...      ...      ...   \n",
       "6165376                               Multivitamin Syrup       10        0   \n",
       "6165377                      Calcium + Vit D3 250iu Tabs       10        0   \n",
       "6165378                                 Ciplox Eye Drops        5        1   \n",
       "6165379                            Paracetamol 500mg Tab        3        1   \n",
       "6165380                                      Cough Syrup        3        1   \n",
       "\n",
       "         Afternoon  Evening  Night Frequency Clinic Name        Date  \n",
       "0                0        0      1         d         NaN  2021-06-10  \n",
       "1                0        1      0         d         NaN  2021-06-10  \n",
       "2                0        0      0         d         NaN  2021-06-10  \n",
       "3                0        1      0         d         NaN  2021-06-11  \n",
       "4                0        1      0         d         NaN  2021-06-11  \n",
       "...            ...      ...    ...       ...         ...         ...  \n",
       "6165376          1        0      0         d         NaN  2024-05-22  \n",
       "6165377          1        0      0         d         NaN  2024-05-22  \n",
       "6165378          1        0      1         d         NaN  2024-05-22  \n",
       "6165379          1        0      1         d         NaN  2024-05-22  \n",
       "6165380          1        0      1         d         NaN  2024-05-22  \n",
       "\n",
       "[6165381 rows x 9 columns]"
      ]
     },
     "execution_count": 148,
     "metadata": {},
     "output_type": "execute_result"
    }
   ],
   "source": [
    "import pandas as pd\n",
    "import json\n",
    "\n",
    "\n",
    "# Define a function to extract medication details\n",
    "def extract_medication_details(prescription, clinic, date):\n",
    "    med_details = []\n",
    "    if isinstance(prescription, str):\n",
    "        try:\n",
    "            prescriptions = json.loads(prescription)[\"pres\"]\n",
    "            for prescription in prescriptions:\n",
    "                med_name = prescription.get(\"mName\", \"\")\n",
    "                duration = prescription.get(\"dur\", \"\")\n",
    "                morning = 1 if prescription.get(\"m\") else 0\n",
    "                afternoon = 1 if prescription.get(\"a\") else 0\n",
    "                evening = 1 if prescription.get(\"e\") else 0\n",
    "                night = 1 if prescription.get(\"n\") else 0\n",
    "                frequency = prescription.get(\"freq\", \"\")\n",
    "                med_details.append(\n",
    "                    (\n",
    "                        med_name,\n",
    "                        duration,\n",
    "                        morning,\n",
    "                        afternoon,\n",
    "                        evening,\n",
    "                        night,\n",
    "                        frequency,\n",
    "                        clinic,\n",
    "                        date,\n",
    "                    )\n",
    "                )\n",
    "        except (json.JSONDecodeError, KeyError):\n",
    "            pass  # Skip non-JSON entries or entries with missing keys\n",
    "    return med_details\n",
    "\n",
    "\n",
    "# Apply the function to each row and concatenate the result into a list\n",
    "medication_details = []\n",
    "\n",
    "for idx, row in data.iterrows():\n",
    "    med_details = extract_medication_details(\n",
    "        row[\"Prescrption json\"], row[\"Clinic Name\"], row[\"Date\"]\n",
    "    )\n",
    "    medication_details.extend(med_details)\n",
    "\n",
    "# Create a DataFrame from the medication details\n",
    "medication_df = pd.DataFrame(\n",
    "    medication_details,\n",
    "    columns=[\n",
    "        \"Medicine Name\",\n",
    "        \"Duration\",\n",
    "        \"Morning\",\n",
    "        \"Afternoon\",\n",
    "        \"Evening\",\n",
    "        \"Night\",\n",
    "        \"Frequency\",\n",
    "        \"Clinic Name\",\n",
    "        \"Date\",\n",
    "    ],\n",
    ")\n",
    "\n",
    "medication_df"
   ]
  },
  {
   "cell_type": "code",
   "execution_count": 149,
   "metadata": {},
   "outputs": [
    {
     "data": {
      "text/html": [
       "<div>\n",
       "<style scoped>\n",
       "    .dataframe tbody tr th:only-of-type {\n",
       "        vertical-align: middle;\n",
       "    }\n",
       "\n",
       "    .dataframe tbody tr th {\n",
       "        vertical-align: top;\n",
       "    }\n",
       "\n",
       "    .dataframe thead th {\n",
       "        text-align: right;\n",
       "    }\n",
       "</style>\n",
       "<table border=\"1\" class=\"dataframe\">\n",
       "  <thead>\n",
       "    <tr style=\"text-align: right;\">\n",
       "      <th></th>\n",
       "      <th>Medicine Name</th>\n",
       "      <th>Duration</th>\n",
       "      <th>Morning</th>\n",
       "      <th>Afternoon</th>\n",
       "      <th>Evening</th>\n",
       "      <th>Night</th>\n",
       "      <th>Frequency</th>\n",
       "      <th>Clinic Name</th>\n",
       "      <th>Date</th>\n",
       "    </tr>\n",
       "  </thead>\n",
       "  <tbody>\n",
       "    <tr>\n",
       "      <th>5093</th>\n",
       "      <td>Norflox-TZ RF Tablet</td>\n",
       "      <td>5</td>\n",
       "      <td>1</td>\n",
       "      <td>0</td>\n",
       "      <td>1</td>\n",
       "      <td>0</td>\n",
       "      <td>d</td>\n",
       "      <td>NaN</td>\n",
       "      <td>2021-05-14</td>\n",
       "    </tr>\n",
       "    <tr>\n",
       "      <th>5094</th>\n",
       "      <td>PANUM L CAPSULES</td>\n",
       "      <td>5</td>\n",
       "      <td>1</td>\n",
       "      <td>0</td>\n",
       "      <td>1</td>\n",
       "      <td>0</td>\n",
       "      <td>d</td>\n",
       "      <td>NaN</td>\n",
       "      <td>2021-05-14</td>\n",
       "    </tr>\n",
       "    <tr>\n",
       "      <th>5095</th>\n",
       "      <td>Aceclofenac 100 mg Tablets</td>\n",
       "      <td>5</td>\n",
       "      <td>1</td>\n",
       "      <td>0</td>\n",
       "      <td>1</td>\n",
       "      <td>0</td>\n",
       "      <td>d</td>\n",
       "      <td>NaN</td>\n",
       "      <td>2021-05-14</td>\n",
       "    </tr>\n",
       "    <tr>\n",
       "      <th>5096</th>\n",
       "      <td>Vitamin-C Chewable 500mg Tablet</td>\n",
       "      <td>5</td>\n",
       "      <td>1</td>\n",
       "      <td>0</td>\n",
       "      <td>1</td>\n",
       "      <td>0</td>\n",
       "      <td>d</td>\n",
       "      <td>NaN</td>\n",
       "      <td>2021-05-14</td>\n",
       "    </tr>\n",
       "    <tr>\n",
       "      <th>10562</th>\n",
       "      <td>BECOSULES Z</td>\n",
       "      <td>10</td>\n",
       "      <td>1</td>\n",
       "      <td>0</td>\n",
       "      <td>1</td>\n",
       "      <td>0</td>\n",
       "      <td>d</td>\n",
       "      <td>NaN</td>\n",
       "      <td>2021-05-14</td>\n",
       "    </tr>\n",
       "    <tr>\n",
       "      <th>...</th>\n",
       "      <td>...</td>\n",
       "      <td>...</td>\n",
       "      <td>...</td>\n",
       "      <td>...</td>\n",
       "      <td>...</td>\n",
       "      <td>...</td>\n",
       "      <td>...</td>\n",
       "      <td>...</td>\n",
       "      <td>...</td>\n",
       "    </tr>\n",
       "    <tr>\n",
       "      <th>72859</th>\n",
       "      <td>IVERMECTIN  TABLETS 12 MG</td>\n",
       "      <td>3</td>\n",
       "      <td>0</td>\n",
       "      <td>1</td>\n",
       "      <td>0</td>\n",
       "      <td>0</td>\n",
       "      <td>d</td>\n",
       "      <td>NaN</td>\n",
       "      <td>2021-05-14</td>\n",
       "    </tr>\n",
       "    <tr>\n",
       "      <th>72860</th>\n",
       "      <td>ENSURE PROTEIN POWDER</td>\n",
       "      <td>30</td>\n",
       "      <td>1</td>\n",
       "      <td>0</td>\n",
       "      <td>1</td>\n",
       "      <td>0</td>\n",
       "      <td>d</td>\n",
       "      <td>NaN</td>\n",
       "      <td>2021-05-14</td>\n",
       "    </tr>\n",
       "    <tr>\n",
       "      <th>72861</th>\n",
       "      <td>VITAMIN B1 10MG, B2 10 MG, NIACINAMIDE 45 MG, ...</td>\n",
       "      <td>30</td>\n",
       "      <td>1</td>\n",
       "      <td>0</td>\n",
       "      <td>1</td>\n",
       "      <td>0</td>\n",
       "      <td>d</td>\n",
       "      <td>NaN</td>\n",
       "      <td>2021-05-14</td>\n",
       "    </tr>\n",
       "    <tr>\n",
       "      <th>72862</th>\n",
       "      <td>ADITUS COUGH SYRUP</td>\n",
       "      <td>5</td>\n",
       "      <td>1</td>\n",
       "      <td>0</td>\n",
       "      <td>1</td>\n",
       "      <td>0</td>\n",
       "      <td>d</td>\n",
       "      <td>NaN</td>\n",
       "      <td>2021-05-14</td>\n",
       "    </tr>\n",
       "    <tr>\n",
       "      <th>72863</th>\n",
       "      <td>Vitamin-C Chewable 500mg Tablet</td>\n",
       "      <td>15</td>\n",
       "      <td>1</td>\n",
       "      <td>1</td>\n",
       "      <td>1</td>\n",
       "      <td>0</td>\n",
       "      <td>d</td>\n",
       "      <td>NaN</td>\n",
       "      <td>2021-05-14</td>\n",
       "    </tr>\n",
       "  </tbody>\n",
       "</table>\n",
       "<p>186 rows × 9 columns</p>\n",
       "</div>"
      ],
      "text/plain": [
       "                                           Medicine Name Duration  Morning  \\\n",
       "5093                                Norflox-TZ RF Tablet        5        1   \n",
       "5094                                    PANUM L CAPSULES        5        1   \n",
       "5095                          Aceclofenac 100 mg Tablets        5        1   \n",
       "5096                     Vitamin-C Chewable 500mg Tablet        5        1   \n",
       "10562                                        BECOSULES Z       10        1   \n",
       "...                                                  ...      ...      ...   \n",
       "72859                          IVERMECTIN  TABLETS 12 MG        3        0   \n",
       "72860                              ENSURE PROTEIN POWDER       30        1   \n",
       "72861  VITAMIN B1 10MG, B2 10 MG, NIACINAMIDE 45 MG, ...       30        1   \n",
       "72862                                 ADITUS COUGH SYRUP        5        1   \n",
       "72863                    Vitamin-C Chewable 500mg Tablet       15        1   \n",
       "\n",
       "       Afternoon  Evening  Night Frequency Clinic Name        Date  \n",
       "5093           0        1      0         d         NaN  2021-05-14  \n",
       "5094           0        1      0         d         NaN  2021-05-14  \n",
       "5095           0        1      0         d         NaN  2021-05-14  \n",
       "5096           0        1      0         d         NaN  2021-05-14  \n",
       "10562          0        1      0         d         NaN  2021-05-14  \n",
       "...          ...      ...    ...       ...         ...         ...  \n",
       "72859          1        0      0         d         NaN  2021-05-14  \n",
       "72860          0        1      0         d         NaN  2021-05-14  \n",
       "72861          0        1      0         d         NaN  2021-05-14  \n",
       "72862          0        1      0         d         NaN  2021-05-14  \n",
       "72863          1        1      0         d         NaN  2021-05-14  \n",
       "\n",
       "[186 rows x 9 columns]"
      ]
     },
     "execution_count": 149,
     "metadata": {},
     "output_type": "execute_result"
    }
   ],
   "source": [
    "medication_df[medication_df[\"Date\"] == \"2021-05-14\"]"
   ]
  },
  {
   "cell_type": "code",
   "execution_count": 150,
   "metadata": {},
   "outputs": [],
   "source": [
    "medication_df[\"Clinic Name\"] = medication_df[\"Clinic Name\"].fillna(\"Master Clinic\")"
   ]
  },
  {
   "cell_type": "code",
   "execution_count": 151,
   "metadata": {},
   "outputs": [
    {
     "data": {
      "text/html": [
       "<div>\n",
       "<style scoped>\n",
       "    .dataframe tbody tr th:only-of-type {\n",
       "        vertical-align: middle;\n",
       "    }\n",
       "\n",
       "    .dataframe tbody tr th {\n",
       "        vertical-align: top;\n",
       "    }\n",
       "\n",
       "    .dataframe thead th {\n",
       "        text-align: right;\n",
       "    }\n",
       "</style>\n",
       "<table border=\"1\" class=\"dataframe\">\n",
       "  <thead>\n",
       "    <tr style=\"text-align: right;\">\n",
       "      <th></th>\n",
       "      <th>Medicine Name</th>\n",
       "      <th>Duration</th>\n",
       "      <th>Morning</th>\n",
       "      <th>Afternoon</th>\n",
       "      <th>Evening</th>\n",
       "      <th>Night</th>\n",
       "      <th>Frequency</th>\n",
       "      <th>Clinic Name</th>\n",
       "      <th>Date</th>\n",
       "    </tr>\n",
       "  </thead>\n",
       "  <tbody>\n",
       "    <tr>\n",
       "      <th>0</th>\n",
       "      <td>Tab Ovral L</td>\n",
       "      <td>21</td>\n",
       "      <td>0</td>\n",
       "      <td>0</td>\n",
       "      <td>0</td>\n",
       "      <td>1</td>\n",
       "      <td>d</td>\n",
       "      <td>Master Clinic</td>\n",
       "      <td>2021-06-10</td>\n",
       "    </tr>\n",
       "    <tr>\n",
       "      <th>1</th>\n",
       "      <td>Folic Acid 5mg Tabs</td>\n",
       "      <td>15</td>\n",
       "      <td>1</td>\n",
       "      <td>0</td>\n",
       "      <td>1</td>\n",
       "      <td>0</td>\n",
       "      <td>d</td>\n",
       "      <td>Master Clinic</td>\n",
       "      <td>2021-06-10</td>\n",
       "    </tr>\n",
       "    <tr>\n",
       "      <th>2</th>\n",
       "      <td>Calcium + Vitamin D3 500iu film coated  Tablets</td>\n",
       "      <td>15</td>\n",
       "      <td>1</td>\n",
       "      <td>0</td>\n",
       "      <td>0</td>\n",
       "      <td>0</td>\n",
       "      <td>d</td>\n",
       "      <td>Master Clinic</td>\n",
       "      <td>2021-06-10</td>\n",
       "    </tr>\n",
       "    <tr>\n",
       "      <th>3</th>\n",
       "      <td>Multiprex Cap</td>\n",
       "      <td>10</td>\n",
       "      <td>1</td>\n",
       "      <td>0</td>\n",
       "      <td>1</td>\n",
       "      <td>0</td>\n",
       "      <td>d</td>\n",
       "      <td>Master Clinic</td>\n",
       "      <td>2021-06-11</td>\n",
       "    </tr>\n",
       "    <tr>\n",
       "      <th>4</th>\n",
       "      <td>Aptivate SYP</td>\n",
       "      <td>10</td>\n",
       "      <td>1</td>\n",
       "      <td>0</td>\n",
       "      <td>1</td>\n",
       "      <td>0</td>\n",
       "      <td>d</td>\n",
       "      <td>Master Clinic</td>\n",
       "      <td>2021-06-11</td>\n",
       "    </tr>\n",
       "    <tr>\n",
       "      <th>...</th>\n",
       "      <td>...</td>\n",
       "      <td>...</td>\n",
       "      <td>...</td>\n",
       "      <td>...</td>\n",
       "      <td>...</td>\n",
       "      <td>...</td>\n",
       "      <td>...</td>\n",
       "      <td>...</td>\n",
       "      <td>...</td>\n",
       "    </tr>\n",
       "    <tr>\n",
       "      <th>6165376</th>\n",
       "      <td>Multivitamin Syrup</td>\n",
       "      <td>10</td>\n",
       "      <td>0</td>\n",
       "      <td>1</td>\n",
       "      <td>0</td>\n",
       "      <td>0</td>\n",
       "      <td>d</td>\n",
       "      <td>Master Clinic</td>\n",
       "      <td>2024-05-22</td>\n",
       "    </tr>\n",
       "    <tr>\n",
       "      <th>6165377</th>\n",
       "      <td>Calcium + Vit D3 250iu Tabs</td>\n",
       "      <td>10</td>\n",
       "      <td>0</td>\n",
       "      <td>1</td>\n",
       "      <td>0</td>\n",
       "      <td>0</td>\n",
       "      <td>d</td>\n",
       "      <td>Master Clinic</td>\n",
       "      <td>2024-05-22</td>\n",
       "    </tr>\n",
       "    <tr>\n",
       "      <th>6165378</th>\n",
       "      <td>Ciplox Eye Drops</td>\n",
       "      <td>5</td>\n",
       "      <td>1</td>\n",
       "      <td>1</td>\n",
       "      <td>0</td>\n",
       "      <td>1</td>\n",
       "      <td>d</td>\n",
       "      <td>Master Clinic</td>\n",
       "      <td>2024-05-22</td>\n",
       "    </tr>\n",
       "    <tr>\n",
       "      <th>6165379</th>\n",
       "      <td>Paracetamol 500mg Tab</td>\n",
       "      <td>3</td>\n",
       "      <td>1</td>\n",
       "      <td>1</td>\n",
       "      <td>0</td>\n",
       "      <td>1</td>\n",
       "      <td>d</td>\n",
       "      <td>Master Clinic</td>\n",
       "      <td>2024-05-22</td>\n",
       "    </tr>\n",
       "    <tr>\n",
       "      <th>6165380</th>\n",
       "      <td>Cough Syrup</td>\n",
       "      <td>3</td>\n",
       "      <td>1</td>\n",
       "      <td>1</td>\n",
       "      <td>0</td>\n",
       "      <td>1</td>\n",
       "      <td>d</td>\n",
       "      <td>Master Clinic</td>\n",
       "      <td>2024-05-22</td>\n",
       "    </tr>\n",
       "  </tbody>\n",
       "</table>\n",
       "<p>6165381 rows × 9 columns</p>\n",
       "</div>"
      ],
      "text/plain": [
       "                                           Medicine Name Duration  Morning  \\\n",
       "0                                            Tab Ovral L       21        0   \n",
       "1                                    Folic Acid 5mg Tabs       15        1   \n",
       "2        Calcium + Vitamin D3 500iu film coated  Tablets       15        1   \n",
       "3                                          Multiprex Cap       10        1   \n",
       "4                                           Aptivate SYP       10        1   \n",
       "...                                                  ...      ...      ...   \n",
       "6165376                               Multivitamin Syrup       10        0   \n",
       "6165377                      Calcium + Vit D3 250iu Tabs       10        0   \n",
       "6165378                                 Ciplox Eye Drops        5        1   \n",
       "6165379                            Paracetamol 500mg Tab        3        1   \n",
       "6165380                                      Cough Syrup        3        1   \n",
       "\n",
       "         Afternoon  Evening  Night Frequency    Clinic Name        Date  \n",
       "0                0        0      1         d  Master Clinic  2021-06-10  \n",
       "1                0        1      0         d  Master Clinic  2021-06-10  \n",
       "2                0        0      0         d  Master Clinic  2021-06-10  \n",
       "3                0        1      0         d  Master Clinic  2021-06-11  \n",
       "4                0        1      0         d  Master Clinic  2021-06-11  \n",
       "...            ...      ...    ...       ...            ...         ...  \n",
       "6165376          1        0      0         d  Master Clinic  2024-05-22  \n",
       "6165377          1        0      0         d  Master Clinic  2024-05-22  \n",
       "6165378          1        0      1         d  Master Clinic  2024-05-22  \n",
       "6165379          1        0      1         d  Master Clinic  2024-05-22  \n",
       "6165380          1        0      1         d  Master Clinic  2024-05-22  \n",
       "\n",
       "[6165381 rows x 9 columns]"
      ]
     },
     "execution_count": 151,
     "metadata": {},
     "output_type": "execute_result"
    }
   ],
   "source": [
    "medication_df"
   ]
  },
  {
   "cell_type": "code",
   "execution_count": 152,
   "metadata": {},
   "outputs": [
    {
     "data": {
      "text/plain": [
       "(6165381, 9)"
      ]
     },
     "execution_count": 152,
     "metadata": {},
     "output_type": "execute_result"
    }
   ],
   "source": [
    "medication_df.dropna(inplace=True)\n",
    "medication_df.shape"
   ]
  },
  {
   "cell_type": "code",
   "execution_count": 153,
   "metadata": {},
   "outputs": [
    {
     "data": {
      "text/html": [
       "<div>\n",
       "<style scoped>\n",
       "    .dataframe tbody tr th:only-of-type {\n",
       "        vertical-align: middle;\n",
       "    }\n",
       "\n",
       "    .dataframe tbody tr th {\n",
       "        vertical-align: top;\n",
       "    }\n",
       "\n",
       "    .dataframe thead th {\n",
       "        text-align: right;\n",
       "    }\n",
       "</style>\n",
       "<table border=\"1\" class=\"dataframe\">\n",
       "  <thead>\n",
       "    <tr style=\"text-align: right;\">\n",
       "      <th></th>\n",
       "      <th>Medicine Name</th>\n",
       "      <th>Duration</th>\n",
       "      <th>Morning</th>\n",
       "      <th>Afternoon</th>\n",
       "      <th>Evening</th>\n",
       "      <th>Night</th>\n",
       "      <th>Frequency</th>\n",
       "      <th>Clinic Name</th>\n",
       "      <th>Date</th>\n",
       "    </tr>\n",
       "  </thead>\n",
       "  <tbody>\n",
       "    <tr>\n",
       "      <th>0</th>\n",
       "      <td>Tab Ovral L</td>\n",
       "      <td>21</td>\n",
       "      <td>0</td>\n",
       "      <td>0</td>\n",
       "      <td>0</td>\n",
       "      <td>1</td>\n",
       "      <td>d</td>\n",
       "      <td>Master Clinic</td>\n",
       "      <td>2021-06-10</td>\n",
       "    </tr>\n",
       "    <tr>\n",
       "      <th>1</th>\n",
       "      <td>Folic Acid 5mg Tabs</td>\n",
       "      <td>15</td>\n",
       "      <td>1</td>\n",
       "      <td>0</td>\n",
       "      <td>1</td>\n",
       "      <td>0</td>\n",
       "      <td>d</td>\n",
       "      <td>Master Clinic</td>\n",
       "      <td>2021-06-10</td>\n",
       "    </tr>\n",
       "    <tr>\n",
       "      <th>2</th>\n",
       "      <td>Calcium + Vitamin D3 500iu film coated  Tablets</td>\n",
       "      <td>15</td>\n",
       "      <td>1</td>\n",
       "      <td>0</td>\n",
       "      <td>0</td>\n",
       "      <td>0</td>\n",
       "      <td>d</td>\n",
       "      <td>Master Clinic</td>\n",
       "      <td>2021-06-10</td>\n",
       "    </tr>\n",
       "    <tr>\n",
       "      <th>3</th>\n",
       "      <td>Multiprex Cap</td>\n",
       "      <td>10</td>\n",
       "      <td>1</td>\n",
       "      <td>0</td>\n",
       "      <td>1</td>\n",
       "      <td>0</td>\n",
       "      <td>d</td>\n",
       "      <td>Master Clinic</td>\n",
       "      <td>2021-06-11</td>\n",
       "    </tr>\n",
       "    <tr>\n",
       "      <th>4</th>\n",
       "      <td>Aptivate SYP</td>\n",
       "      <td>10</td>\n",
       "      <td>1</td>\n",
       "      <td>0</td>\n",
       "      <td>1</td>\n",
       "      <td>0</td>\n",
       "      <td>d</td>\n",
       "      <td>Master Clinic</td>\n",
       "      <td>2021-06-11</td>\n",
       "    </tr>\n",
       "    <tr>\n",
       "      <th>...</th>\n",
       "      <td>...</td>\n",
       "      <td>...</td>\n",
       "      <td>...</td>\n",
       "      <td>...</td>\n",
       "      <td>...</td>\n",
       "      <td>...</td>\n",
       "      <td>...</td>\n",
       "      <td>...</td>\n",
       "      <td>...</td>\n",
       "    </tr>\n",
       "    <tr>\n",
       "      <th>6165376</th>\n",
       "      <td>Multivitamin Syrup</td>\n",
       "      <td>10</td>\n",
       "      <td>0</td>\n",
       "      <td>1</td>\n",
       "      <td>0</td>\n",
       "      <td>0</td>\n",
       "      <td>d</td>\n",
       "      <td>Master Clinic</td>\n",
       "      <td>2024-05-22</td>\n",
       "    </tr>\n",
       "    <tr>\n",
       "      <th>6165377</th>\n",
       "      <td>Calcium + Vit D3 250iu Tabs</td>\n",
       "      <td>10</td>\n",
       "      <td>0</td>\n",
       "      <td>1</td>\n",
       "      <td>0</td>\n",
       "      <td>0</td>\n",
       "      <td>d</td>\n",
       "      <td>Master Clinic</td>\n",
       "      <td>2024-05-22</td>\n",
       "    </tr>\n",
       "    <tr>\n",
       "      <th>6165378</th>\n",
       "      <td>Ciplox Eye Drops</td>\n",
       "      <td>5</td>\n",
       "      <td>1</td>\n",
       "      <td>1</td>\n",
       "      <td>0</td>\n",
       "      <td>1</td>\n",
       "      <td>d</td>\n",
       "      <td>Master Clinic</td>\n",
       "      <td>2024-05-22</td>\n",
       "    </tr>\n",
       "    <tr>\n",
       "      <th>6165379</th>\n",
       "      <td>Paracetamol 500mg Tab</td>\n",
       "      <td>3</td>\n",
       "      <td>1</td>\n",
       "      <td>1</td>\n",
       "      <td>0</td>\n",
       "      <td>1</td>\n",
       "      <td>d</td>\n",
       "      <td>Master Clinic</td>\n",
       "      <td>2024-05-22</td>\n",
       "    </tr>\n",
       "    <tr>\n",
       "      <th>6165380</th>\n",
       "      <td>Cough Syrup</td>\n",
       "      <td>3</td>\n",
       "      <td>1</td>\n",
       "      <td>1</td>\n",
       "      <td>0</td>\n",
       "      <td>1</td>\n",
       "      <td>d</td>\n",
       "      <td>Master Clinic</td>\n",
       "      <td>2024-05-22</td>\n",
       "    </tr>\n",
       "  </tbody>\n",
       "</table>\n",
       "<p>6165381 rows × 9 columns</p>\n",
       "</div>"
      ],
      "text/plain": [
       "                                           Medicine Name Duration  Morning  \\\n",
       "0                                            Tab Ovral L       21        0   \n",
       "1                                    Folic Acid 5mg Tabs       15        1   \n",
       "2        Calcium + Vitamin D3 500iu film coated  Tablets       15        1   \n",
       "3                                          Multiprex Cap       10        1   \n",
       "4                                           Aptivate SYP       10        1   \n",
       "...                                                  ...      ...      ...   \n",
       "6165376                               Multivitamin Syrup       10        0   \n",
       "6165377                      Calcium + Vit D3 250iu Tabs       10        0   \n",
       "6165378                                 Ciplox Eye Drops        5        1   \n",
       "6165379                            Paracetamol 500mg Tab        3        1   \n",
       "6165380                                      Cough Syrup        3        1   \n",
       "\n",
       "         Afternoon  Evening  Night Frequency    Clinic Name        Date  \n",
       "0                0        0      1         d  Master Clinic  2021-06-10  \n",
       "1                0        1      0         d  Master Clinic  2021-06-10  \n",
       "2                0        0      0         d  Master Clinic  2021-06-10  \n",
       "3                0        1      0         d  Master Clinic  2021-06-11  \n",
       "4                0        1      0         d  Master Clinic  2021-06-11  \n",
       "...            ...      ...    ...       ...            ...         ...  \n",
       "6165376          1        0      0         d  Master Clinic  2024-05-22  \n",
       "6165377          1        0      0         d  Master Clinic  2024-05-22  \n",
       "6165378          1        0      1         d  Master Clinic  2024-05-22  \n",
       "6165379          1        0      1         d  Master Clinic  2024-05-22  \n",
       "6165380          1        0      1         d  Master Clinic  2024-05-22  \n",
       "\n",
       "[6165381 rows x 9 columns]"
      ]
     },
     "execution_count": 153,
     "metadata": {},
     "output_type": "execute_result"
    }
   ],
   "source": [
    "medication_df"
   ]
  },
  {
   "cell_type": "code",
   "execution_count": 154,
   "metadata": {},
   "outputs": [],
   "source": [
    "import pandas as pd\n",
    "import calendar as cal\n",
    "\n",
    "\n",
    "def parse_date(date_str):\n",
    "    date_str = date_str.replace(\" \", \"-\")\n",
    "    date_str = date_str.replace(\"/\", \"-\")\n",
    "    date_str = date_str.replace(\".\", \"-\")\n",
    "\n",
    "    formats = [\n",
    "        \"%Y-%m-%d\",\n",
    "        \"%d-%m-%Y\",\n",
    "        \"%m-%d-%Y\",\n",
    "        \"%Y-%b-%d\",\n",
    "        \"%d-%b-%Y\",\n",
    "        \"%b-%d-%Y\",\n",
    "        \"%Y-%B-%d\",\n",
    "        \"%d-%B-%Y\",\n",
    "        \"%B-%d-%Y\",\n",
    "    ]\n",
    "\n",
    "    for fmt in formats:\n",
    "        try:\n",
    "            d = pd.to_datetime(date_str, format=fmt)\n",
    "            # If date is valid but falls on an invalid leap year date, continue to next format\n",
    "            if d.month == 2 and d.day == 29 and not cal.isleap(d.year):\n",
    "                continue\n",
    "            return d.strftime(\"%Y:%m:%d\")\n",
    "        except ValueError:\n",
    "            pass\n",
    "    return pd.NaT"
   ]
  },
  {
   "cell_type": "code",
   "execution_count": 155,
   "metadata": {},
   "outputs": [
    {
     "data": {
      "text/html": [
       "<div>\n",
       "<style scoped>\n",
       "    .dataframe tbody tr th:only-of-type {\n",
       "        vertical-align: middle;\n",
       "    }\n",
       "\n",
       "    .dataframe tbody tr th {\n",
       "        vertical-align: top;\n",
       "    }\n",
       "\n",
       "    .dataframe thead th {\n",
       "        text-align: right;\n",
       "    }\n",
       "</style>\n",
       "<table border=\"1\" class=\"dataframe\">\n",
       "  <thead>\n",
       "    <tr style=\"text-align: right;\">\n",
       "      <th></th>\n",
       "      <th>Medicine Name</th>\n",
       "      <th>Duration</th>\n",
       "      <th>Morning</th>\n",
       "      <th>Afternoon</th>\n",
       "      <th>Evening</th>\n",
       "      <th>Night</th>\n",
       "      <th>Frequency</th>\n",
       "      <th>Clinic Name</th>\n",
       "      <th>Date</th>\n",
       "    </tr>\n",
       "  </thead>\n",
       "  <tbody>\n",
       "    <tr>\n",
       "      <th>0</th>\n",
       "      <td>Tab Ovral L</td>\n",
       "      <td>21</td>\n",
       "      <td>0</td>\n",
       "      <td>0</td>\n",
       "      <td>0</td>\n",
       "      <td>1</td>\n",
       "      <td>d</td>\n",
       "      <td>Master Clinic</td>\n",
       "      <td>2021:06:10</td>\n",
       "    </tr>\n",
       "    <tr>\n",
       "      <th>1</th>\n",
       "      <td>Folic Acid 5mg Tabs</td>\n",
       "      <td>15</td>\n",
       "      <td>1</td>\n",
       "      <td>0</td>\n",
       "      <td>1</td>\n",
       "      <td>0</td>\n",
       "      <td>d</td>\n",
       "      <td>Master Clinic</td>\n",
       "      <td>2021:06:10</td>\n",
       "    </tr>\n",
       "    <tr>\n",
       "      <th>2</th>\n",
       "      <td>Calcium + Vitamin D3 500iu film coated  Tablets</td>\n",
       "      <td>15</td>\n",
       "      <td>1</td>\n",
       "      <td>0</td>\n",
       "      <td>0</td>\n",
       "      <td>0</td>\n",
       "      <td>d</td>\n",
       "      <td>Master Clinic</td>\n",
       "      <td>2021:06:10</td>\n",
       "    </tr>\n",
       "    <tr>\n",
       "      <th>3</th>\n",
       "      <td>Multiprex Cap</td>\n",
       "      <td>10</td>\n",
       "      <td>1</td>\n",
       "      <td>0</td>\n",
       "      <td>1</td>\n",
       "      <td>0</td>\n",
       "      <td>d</td>\n",
       "      <td>Master Clinic</td>\n",
       "      <td>2021:06:11</td>\n",
       "    </tr>\n",
       "    <tr>\n",
       "      <th>4</th>\n",
       "      <td>Aptivate SYP</td>\n",
       "      <td>10</td>\n",
       "      <td>1</td>\n",
       "      <td>0</td>\n",
       "      <td>1</td>\n",
       "      <td>0</td>\n",
       "      <td>d</td>\n",
       "      <td>Master Clinic</td>\n",
       "      <td>2021:06:11</td>\n",
       "    </tr>\n",
       "    <tr>\n",
       "      <th>...</th>\n",
       "      <td>...</td>\n",
       "      <td>...</td>\n",
       "      <td>...</td>\n",
       "      <td>...</td>\n",
       "      <td>...</td>\n",
       "      <td>...</td>\n",
       "      <td>...</td>\n",
       "      <td>...</td>\n",
       "      <td>...</td>\n",
       "    </tr>\n",
       "    <tr>\n",
       "      <th>6165376</th>\n",
       "      <td>Multivitamin Syrup</td>\n",
       "      <td>10</td>\n",
       "      <td>0</td>\n",
       "      <td>1</td>\n",
       "      <td>0</td>\n",
       "      <td>0</td>\n",
       "      <td>d</td>\n",
       "      <td>Master Clinic</td>\n",
       "      <td>2024:05:22</td>\n",
       "    </tr>\n",
       "    <tr>\n",
       "      <th>6165377</th>\n",
       "      <td>Calcium + Vit D3 250iu Tabs</td>\n",
       "      <td>10</td>\n",
       "      <td>0</td>\n",
       "      <td>1</td>\n",
       "      <td>0</td>\n",
       "      <td>0</td>\n",
       "      <td>d</td>\n",
       "      <td>Master Clinic</td>\n",
       "      <td>2024:05:22</td>\n",
       "    </tr>\n",
       "    <tr>\n",
       "      <th>6165378</th>\n",
       "      <td>Ciplox Eye Drops</td>\n",
       "      <td>5</td>\n",
       "      <td>1</td>\n",
       "      <td>1</td>\n",
       "      <td>0</td>\n",
       "      <td>1</td>\n",
       "      <td>d</td>\n",
       "      <td>Master Clinic</td>\n",
       "      <td>2024:05:22</td>\n",
       "    </tr>\n",
       "    <tr>\n",
       "      <th>6165379</th>\n",
       "      <td>Paracetamol 500mg Tab</td>\n",
       "      <td>3</td>\n",
       "      <td>1</td>\n",
       "      <td>1</td>\n",
       "      <td>0</td>\n",
       "      <td>1</td>\n",
       "      <td>d</td>\n",
       "      <td>Master Clinic</td>\n",
       "      <td>2024:05:22</td>\n",
       "    </tr>\n",
       "    <tr>\n",
       "      <th>6165380</th>\n",
       "      <td>Cough Syrup</td>\n",
       "      <td>3</td>\n",
       "      <td>1</td>\n",
       "      <td>1</td>\n",
       "      <td>0</td>\n",
       "      <td>1</td>\n",
       "      <td>d</td>\n",
       "      <td>Master Clinic</td>\n",
       "      <td>2024:05:22</td>\n",
       "    </tr>\n",
       "  </tbody>\n",
       "</table>\n",
       "<p>6165381 rows × 9 columns</p>\n",
       "</div>"
      ],
      "text/plain": [
       "                                           Medicine Name Duration  Morning  \\\n",
       "0                                            Tab Ovral L       21        0   \n",
       "1                                    Folic Acid 5mg Tabs       15        1   \n",
       "2        Calcium + Vitamin D3 500iu film coated  Tablets       15        1   \n",
       "3                                          Multiprex Cap       10        1   \n",
       "4                                           Aptivate SYP       10        1   \n",
       "...                                                  ...      ...      ...   \n",
       "6165376                               Multivitamin Syrup       10        0   \n",
       "6165377                      Calcium + Vit D3 250iu Tabs       10        0   \n",
       "6165378                                 Ciplox Eye Drops        5        1   \n",
       "6165379                            Paracetamol 500mg Tab        3        1   \n",
       "6165380                                      Cough Syrup        3        1   \n",
       "\n",
       "         Afternoon  Evening  Night Frequency    Clinic Name        Date  \n",
       "0                0        0      1         d  Master Clinic  2021:06:10  \n",
       "1                0        1      0         d  Master Clinic  2021:06:10  \n",
       "2                0        0      0         d  Master Clinic  2021:06:10  \n",
       "3                0        1      0         d  Master Clinic  2021:06:11  \n",
       "4                0        1      0         d  Master Clinic  2021:06:11  \n",
       "...            ...      ...    ...       ...            ...         ...  \n",
       "6165376          1        0      0         d  Master Clinic  2024:05:22  \n",
       "6165377          1        0      0         d  Master Clinic  2024:05:22  \n",
       "6165378          1        0      1         d  Master Clinic  2024:05:22  \n",
       "6165379          1        0      1         d  Master Clinic  2024:05:22  \n",
       "6165380          1        0      1         d  Master Clinic  2024:05:22  \n",
       "\n",
       "[6165381 rows x 9 columns]"
      ]
     },
     "execution_count": 155,
     "metadata": {},
     "output_type": "execute_result"
    }
   ],
   "source": [
    "medication_df[\"Date\"] = medication_df[\"Date\"].apply(parse_date)\n",
    "\n",
    "\n",
    "medication_df"
   ]
  },
  {
   "cell_type": "code",
   "execution_count": 156,
   "metadata": {},
   "outputs": [],
   "source": [
    "# Assuming 'data' and 'medication_df' are your DataFrames\n",
    "medication_df[\"Date\"] = pd.to_datetime(medication_df[\"Date\"], format=\"%Y:%m:%d\")"
   ]
  },
  {
   "cell_type": "code",
   "execution_count": 157,
   "metadata": {},
   "outputs": [
    {
     "data": {
      "text/plain": [
       "Medicine Name\n",
       "Calcium + Vit D3 250iu Tabs          665750\n",
       "Cap Becosule                         653212\n",
       "Tab Aceclo 100mg+ PCM 325mg (SOS)    482450\n",
       "Omeprazole 20mg Capsules             454995\n",
       "Paracetamol 500mg Tab                390105\n",
       "                                      ...  \n",
       "Syrup  urikind km6                        1\n",
       "evoin LC                                  1\n",
       "DERIPHYLLIN 100mG TABLETS                 1\n",
       "Asthalin 2 mg                             1\n",
       "Folic acid                                1\n",
       "Name: count, Length: 48516, dtype: int64"
      ]
     },
     "execution_count": 157,
     "metadata": {},
     "output_type": "execute_result"
    }
   ],
   "source": [
    "medication_df[\"Medicine Name\"].value_counts()"
   ]
  },
  {
   "cell_type": "code",
   "execution_count": 158,
   "metadata": {},
   "outputs": [
    {
     "name": "stdout",
     "output_type": "stream",
     "text": [
      "                                           Medicine Name Duration  Morning  \\\n",
      "0                                            Tab Ovral L       21        0   \n",
      "1                                    Folic Acid 5mg Tabs       15        1   \n",
      "2        Calcium + Vitamin D3 500iu film coated  Tablets       15        1   \n",
      "3                                          Multiprex Cap       10        1   \n",
      "4                                           Aptivate SYP       10        1   \n",
      "...                                                  ...      ...      ...   \n",
      "6165376                               Multivitamin Syrup       10        0   \n",
      "6165377                      Calcium + Vit D3 250iu Tabs       10        0   \n",
      "6165378                                 Ciplox Eye Drops        5        1   \n",
      "6165379                            Paracetamol 500mg Tab        3        1   \n",
      "6165380                                      Cough Syrup        3        1   \n",
      "\n",
      "         Afternoon  Evening  Night Frequency    Clinic Name       Date  \n",
      "0                0        0      1         d  Master Clinic 2021-06-10  \n",
      "1                0        1      0         d  Master Clinic 2021-06-10  \n",
      "2                0        0      0         d  Master Clinic 2021-06-10  \n",
      "3                0        1      0         d  Master Clinic 2021-06-11  \n",
      "4                0        1      0         d  Master Clinic 2021-06-11  \n",
      "...            ...      ...    ...       ...            ...        ...  \n",
      "6165376          1        0      0         d  Master Clinic 2024-05-22  \n",
      "6165377          1        0      0         d  Master Clinic 2024-05-22  \n",
      "6165378          1        0      1         d  Master Clinic 2024-05-22  \n",
      "6165379          1        0      1         d  Master Clinic 2024-05-22  \n",
      "6165380          1        0      1         d  Master Clinic 2024-05-22  \n",
      "\n",
      "[6165381 rows x 9 columns]\n"
     ]
    }
   ],
   "source": [
    "print(medication_df)"
   ]
  },
  {
   "cell_type": "code",
   "execution_count": 159,
   "metadata": {},
   "outputs": [],
   "source": [
    "medication_df[\"Medicine Name\"] = medication_df[\"Medicine Name\"].str.lower()"
   ]
  },
  {
   "cell_type": "code",
   "execution_count": 160,
   "metadata": {},
   "outputs": [],
   "source": [
    "medicine_to_include = [\n",
    "    \"Albendazole\",\n",
    "    \"Amoxycillin\",\n",
    "    \"Ascabiol\",\n",
    "    \"Azithromycin\",\n",
    "    \"Beclo + Clotri + Genta cream\",\n",
    "    \"Becosule\",\n",
    "    \"Calcium +\",\n",
    "    \"Cetrizine\",\n",
    "    \"Ciplox eye drops\",\n",
    "    \"Ciprofloxacin\",\n",
    "    \"Clotrimazole\",\n",
    "    \"Cough syrup\",\n",
    "    \"Diclofenac gel\",\n",
    "    \"Dicyclomine + Mefenamic acid\",\n",
    "    \"dicyclomine (10mg) + mefenamic acid (250mg)\",\n",
    "    \"norfloxacin (200mg) + tinidazole (300mg)\",\n",
    "    \"norflox\",\n",
    "    \"omez\",\n",
    "    \"vitamin-c chewable 500mg tablet\",\n",
    "    \"unizyme\",\n",
    "    \"becousles\",\n",
    "    \"omez\",\n",
    "    \"Doxycycline\",\n",
    "    \"Dulcoflex\",\n",
    "    \"Herbal cough\",\n",
    "    \"Iron\",\n",
    "    \"Liver tonic\",\n",
    "    \"Miconazole nitrate\",\n",
    "    \"Multivitamin\",\n",
    "    \"Norfloxacin + Tinidazole\",\n",
    "    \"Omeprazole\",\n",
    "    \"Ondansetron\",\n",
    "    \"ORS\",\n",
    "    \"Paracetamol\",\n",
    "    \"Aceclo + PCM\",\n",
    "    \"Fluconazole\",\n",
    "    \"Neurobion forte\",\n",
    "    \"Unienzyme\",\n",
    "    \"Tetmosol soap\",\n",
    "    \"Vitamin C\",\n",
    "    \"Prochlorperazine\",\n",
    "    \"PCM\",\n",
    "    \"Limcee\",\n",
    "    \"Ivermectin\",\n",
    "    \"Benedryil syrup\",\n",
    "    \"Amoxy\",\n",
    "    \"Metronidazole\",\n",
    "    \"Miconazole Nitrate cream\",\n",
    "    \"Pediatric Multivitamin Syp\",\n",
    "    \"Prochlorperazine stemetil md\",\n",
    "    \"Aceclo + PCM (SOS)\",\n",
    "    \"Fluconazole\",\n",
    "    \"Tetmasol Soap\",\n",
    "    \"Vitamin C Chewable\",\n",
    "    \"Waxonil Ear Drop\",\n",
    "    \"calcium 250 mg+vit d3\",\n",
    "]"
   ]
  },
  {
   "cell_type": "code",
   "execution_count": 161,
   "metadata": {},
   "outputs": [],
   "source": [
    "medicine_to_include_lower = [name.lower() for name in medicine_to_include]\n",
    "\n",
    "# Filter the DataFrame based on partial matches of medicine names\n",
    "filtered_df = medication_df[\n",
    "    medication_df[\"Medicine Name\"]\n",
    "    .str.lower()\n",
    "    .apply(lambda x: any(med_name in x for med_name in medicine_to_include_lower))\n",
    "]\n",
    "\n",
    "\n",
    "# Display the filtered DataFrame"
   ]
  },
  {
   "cell_type": "code",
   "execution_count": 162,
   "metadata": {},
   "outputs": [],
   "source": [
    "unfiltered_df = medication_df[\n",
    "    medication_df[\"Medicine Name\"]\n",
    "    .str.lower()\n",
    "    .apply(lambda x: not any(med_name in x for med_name in medicine_to_include_lower))\n",
    "]"
   ]
  },
  {
   "cell_type": "code",
   "execution_count": 163,
   "metadata": {},
   "outputs": [
    {
     "data": {
      "text/html": [
       "<div>\n",
       "<style scoped>\n",
       "    .dataframe tbody tr th:only-of-type {\n",
       "        vertical-align: middle;\n",
       "    }\n",
       "\n",
       "    .dataframe tbody tr th {\n",
       "        vertical-align: top;\n",
       "    }\n",
       "\n",
       "    .dataframe thead th {\n",
       "        text-align: right;\n",
       "    }\n",
       "</style>\n",
       "<table border=\"1\" class=\"dataframe\">\n",
       "  <thead>\n",
       "    <tr style=\"text-align: right;\">\n",
       "      <th></th>\n",
       "      <th>Medicine Name</th>\n",
       "      <th>Duration</th>\n",
       "      <th>Morning</th>\n",
       "      <th>Afternoon</th>\n",
       "      <th>Evening</th>\n",
       "      <th>Night</th>\n",
       "      <th>Frequency</th>\n",
       "      <th>Clinic Name</th>\n",
       "      <th>Date</th>\n",
       "    </tr>\n",
       "  </thead>\n",
       "  <tbody>\n",
       "    <tr>\n",
       "      <th>2</th>\n",
       "      <td>calcium + vitamin d3 500iu film coated  tablets</td>\n",
       "      <td>15</td>\n",
       "      <td>1</td>\n",
       "      <td>0</td>\n",
       "      <td>0</td>\n",
       "      <td>0</td>\n",
       "      <td>d</td>\n",
       "      <td>Master Clinic</td>\n",
       "      <td>2021-06-10</td>\n",
       "    </tr>\n",
       "    <tr>\n",
       "      <th>6</th>\n",
       "      <td>paracetamol 500mg tab</td>\n",
       "      <td>7</td>\n",
       "      <td>1</td>\n",
       "      <td>0</td>\n",
       "      <td>1</td>\n",
       "      <td>1</td>\n",
       "      <td>d</td>\n",
       "      <td>Master Clinic</td>\n",
       "      <td>2021-06-11</td>\n",
       "    </tr>\n",
       "    <tr>\n",
       "      <th>7</th>\n",
       "      <td>doxycycline 100 mg caps</td>\n",
       "      <td>7</td>\n",
       "      <td>1</td>\n",
       "      <td>0</td>\n",
       "      <td>1</td>\n",
       "      <td>0</td>\n",
       "      <td>d</td>\n",
       "      <td>Master Clinic</td>\n",
       "      <td>2021-06-11</td>\n",
       "    </tr>\n",
       "    <tr>\n",
       "      <th>9</th>\n",
       "      <td>calcium + vitamin d3 250iu film coated  tablets</td>\n",
       "      <td>30</td>\n",
       "      <td>1</td>\n",
       "      <td>0</td>\n",
       "      <td>1</td>\n",
       "      <td>0</td>\n",
       "      <td>d</td>\n",
       "      <td>Master Clinic</td>\n",
       "      <td>2021-06-23</td>\n",
       "    </tr>\n",
       "    <tr>\n",
       "      <th>10</th>\n",
       "      <td>becosules</td>\n",
       "      <td>15</td>\n",
       "      <td>1</td>\n",
       "      <td>0</td>\n",
       "      <td>0</td>\n",
       "      <td>0</td>\n",
       "      <td>d</td>\n",
       "      <td>Master Clinic</td>\n",
       "      <td>2021-06-23</td>\n",
       "    </tr>\n",
       "    <tr>\n",
       "      <th>...</th>\n",
       "      <td>...</td>\n",
       "      <td>...</td>\n",
       "      <td>...</td>\n",
       "      <td>...</td>\n",
       "      <td>...</td>\n",
       "      <td>...</td>\n",
       "      <td>...</td>\n",
       "      <td>...</td>\n",
       "      <td>...</td>\n",
       "    </tr>\n",
       "    <tr>\n",
       "      <th>6165376</th>\n",
       "      <td>multivitamin syrup</td>\n",
       "      <td>10</td>\n",
       "      <td>0</td>\n",
       "      <td>1</td>\n",
       "      <td>0</td>\n",
       "      <td>0</td>\n",
       "      <td>d</td>\n",
       "      <td>Master Clinic</td>\n",
       "      <td>2024-05-22</td>\n",
       "    </tr>\n",
       "    <tr>\n",
       "      <th>6165377</th>\n",
       "      <td>calcium + vit d3 250iu tabs</td>\n",
       "      <td>10</td>\n",
       "      <td>0</td>\n",
       "      <td>1</td>\n",
       "      <td>0</td>\n",
       "      <td>0</td>\n",
       "      <td>d</td>\n",
       "      <td>Master Clinic</td>\n",
       "      <td>2024-05-22</td>\n",
       "    </tr>\n",
       "    <tr>\n",
       "      <th>6165378</th>\n",
       "      <td>ciplox eye drops</td>\n",
       "      <td>5</td>\n",
       "      <td>1</td>\n",
       "      <td>1</td>\n",
       "      <td>0</td>\n",
       "      <td>1</td>\n",
       "      <td>d</td>\n",
       "      <td>Master Clinic</td>\n",
       "      <td>2024-05-22</td>\n",
       "    </tr>\n",
       "    <tr>\n",
       "      <th>6165379</th>\n",
       "      <td>paracetamol 500mg tab</td>\n",
       "      <td>3</td>\n",
       "      <td>1</td>\n",
       "      <td>1</td>\n",
       "      <td>0</td>\n",
       "      <td>1</td>\n",
       "      <td>d</td>\n",
       "      <td>Master Clinic</td>\n",
       "      <td>2024-05-22</td>\n",
       "    </tr>\n",
       "    <tr>\n",
       "      <th>6165380</th>\n",
       "      <td>cough syrup</td>\n",
       "      <td>3</td>\n",
       "      <td>1</td>\n",
       "      <td>1</td>\n",
       "      <td>0</td>\n",
       "      <td>1</td>\n",
       "      <td>d</td>\n",
       "      <td>Master Clinic</td>\n",
       "      <td>2024-05-22</td>\n",
       "    </tr>\n",
       "  </tbody>\n",
       "</table>\n",
       "<p>5290303 rows × 9 columns</p>\n",
       "</div>"
      ],
      "text/plain": [
       "                                           Medicine Name Duration  Morning  \\\n",
       "2        calcium + vitamin d3 500iu film coated  tablets       15        1   \n",
       "6                                  paracetamol 500mg tab        7        1   \n",
       "7                                doxycycline 100 mg caps        7        1   \n",
       "9        calcium + vitamin d3 250iu film coated  tablets       30        1   \n",
       "10                                             becosules       15        1   \n",
       "...                                                  ...      ...      ...   \n",
       "6165376                               multivitamin syrup       10        0   \n",
       "6165377                      calcium + vit d3 250iu tabs       10        0   \n",
       "6165378                                 ciplox eye drops        5        1   \n",
       "6165379                            paracetamol 500mg tab        3        1   \n",
       "6165380                                      cough syrup        3        1   \n",
       "\n",
       "         Afternoon  Evening  Night Frequency    Clinic Name       Date  \n",
       "2                0        0      0         d  Master Clinic 2021-06-10  \n",
       "6                0        1      1         d  Master Clinic 2021-06-11  \n",
       "7                0        1      0         d  Master Clinic 2021-06-11  \n",
       "9                0        1      0         d  Master Clinic 2021-06-23  \n",
       "10               0        0      0         d  Master Clinic 2021-06-23  \n",
       "...            ...      ...    ...       ...            ...        ...  \n",
       "6165376          1        0      0         d  Master Clinic 2024-05-22  \n",
       "6165377          1        0      0         d  Master Clinic 2024-05-22  \n",
       "6165378          1        0      1         d  Master Clinic 2024-05-22  \n",
       "6165379          1        0      1         d  Master Clinic 2024-05-22  \n",
       "6165380          1        0      1         d  Master Clinic 2024-05-22  \n",
       "\n",
       "[5290303 rows x 9 columns]"
      ]
     },
     "execution_count": 163,
     "metadata": {},
     "output_type": "execute_result"
    }
   ],
   "source": [
    "filtered_df"
   ]
  },
  {
   "cell_type": "code",
   "execution_count": 164,
   "metadata": {},
   "outputs": [],
   "source": [
    "import re\n",
    "\n",
    "\n",
    "def categorize_medicine(row, medicines_to_include):\n",
    "    row_lower = row.lower().strip()\n",
    "\n",
    "    # Normalize spacing and format\n",
    "    row_lower = re.sub(r\"\\s+\", \" \", row_lower)\n",
    "\n",
    "    # Specific condition for ORS\n",
    "    if row_lower.startswith(\"ors\"):\n",
    "        return \"solution\"\n",
    "\n",
    "    for med in medicines_to_include:\n",
    "        med_pattern = re.escape(med)\n",
    "        if re.search(med_pattern, row_lower):\n",
    "            if any(\n",
    "                x in row_lower for x in [\"syrup\", \"ml\", \"sry\", \"srp\", \"(ml)\", \"syp\"]\n",
    "            ):\n",
    "                return \"syrup\"\n",
    "            elif any(\n",
    "                x in row_lower\n",
    "                for x in [\"mg\", \"tab\", \"tabs\", \"tablets\", \"caps\", \"capsule\", \"cap\"]\n",
    "            ):\n",
    "                return \"tab\"\n",
    "            elif any(x in row_lower for x in [\"drops\", \"drop\"]):\n",
    "                return \"drops\"\n",
    "            elif any(x in row_lower for x in [\"cream\", \"creams\"]):\n",
    "                return \"cream\"\n",
    "            elif any(x in row_lower for x in [\"ointment\", \"ointments\", \"ointmnt\"]):\n",
    "                return \"ointment\"\n",
    "            elif any(x in row_lower for x in [\"gels\", \"gel\"]):\n",
    "                return \"gel\"\n",
    "            elif any(x in row_lower for x in [\"soaps\", \"soap\"]):\n",
    "                return \"soap\"\n",
    "\n",
    "    # If no category matched, return None\n",
    "    return None"
   ]
  },
  {
   "cell_type": "code",
   "execution_count": 165,
   "metadata": {},
   "outputs": [
    {
     "name": "stderr",
     "output_type": "stream",
     "text": [
      "C:\\Users\\siidh\\AppData\\Local\\Temp\\ipykernel_21192\\836626703.py:1: SettingWithCopyWarning: \n",
      "A value is trying to be set on a copy of a slice from a DataFrame.\n",
      "Try using .loc[row_indexer,col_indexer] = value instead\n",
      "\n",
      "See the caveats in the documentation: https://pandas.pydata.org/pandas-docs/stable/user_guide/indexing.html#returning-a-view-versus-a-copy\n",
      "  filtered_df[\"category\"] = filtered_df[\"Medicine Name\"].apply(\n"
     ]
    }
   ],
   "source": [
    "filtered_df[\"category\"] = filtered_df[\"Medicine Name\"].apply(\n",
    "    lambda row: categorize_medicine(row, medicines_to_include=medicine_to_include_lower)\n",
    ")"
   ]
  },
  {
   "cell_type": "code",
   "execution_count": 166,
   "metadata": {},
   "outputs": [
    {
     "name": "stdout",
     "output_type": "stream",
     "text": [
      "            Medicine Name Duration  Morning  Afternoon  Evening  Night  \\\n",
      "2               calcium +       15        1          0        0      0   \n",
      "6             paracetamol        7        1          0        1      1   \n",
      "7             doxycycline        7        1          0        1      0   \n",
      "9               calcium +       30        1          0        1      0   \n",
      "10               becosule       15        1          0        0      0   \n",
      "...                   ...      ...      ...        ...      ...    ...   \n",
      "6165376      multivitamin       10        0          1        0      0   \n",
      "6165377         calcium +       10        0          1        0      0   \n",
      "6165378  ciplox eye drops        5        1          1        0      1   \n",
      "6165379       paracetamol        3        1          1        0      1   \n",
      "6165380       cough syrup        3        1          1        0      1   \n",
      "\n",
      "        Frequency    Clinic Name       Date category  \n",
      "2               d  Master Clinic 2021-06-10      tab  \n",
      "6               d  Master Clinic 2021-06-11      tab  \n",
      "7               d  Master Clinic 2021-06-11      tab  \n",
      "9               d  Master Clinic 2021-06-23      tab  \n",
      "10              d  Master Clinic 2021-06-23     None  \n",
      "...           ...            ...        ...      ...  \n",
      "6165376         d  Master Clinic 2024-05-22    syrup  \n",
      "6165377         d  Master Clinic 2024-05-22      tab  \n",
      "6165378         d  Master Clinic 2024-05-22    drops  \n",
      "6165379         d  Master Clinic 2024-05-22      tab  \n",
      "6165380         d  Master Clinic 2024-05-22    syrup  \n",
      "\n",
      "[5290303 rows x 10 columns]\n"
     ]
    },
    {
     "name": "stderr",
     "output_type": "stream",
     "text": [
      "C:\\Users\\siidh\\AppData\\Local\\Temp\\ipykernel_21192\\1687703952.py:10: SettingWithCopyWarning: \n",
      "A value is trying to be set on a copy of a slice from a DataFrame.\n",
      "Try using .loc[row_indexer,col_indexer] = value instead\n",
      "\n",
      "See the caveats in the documentation: https://pandas.pydata.org/pandas-docs/stable/user_guide/indexing.html#returning-a-view-versus-a-copy\n",
      "  filtered_df[\"Medicine Name\"] = filtered_df[\"Medicine Name\"].apply(\n"
     ]
    }
   ],
   "source": [
    "def match_and_replace_medicine_name(medicine_name, medicines_to_include):\n",
    "    for med in medicines_to_include:\n",
    "        med_pattern = re.compile(re.escape(med), re.IGNORECASE)\n",
    "        if med_pattern.search(medicine_name):\n",
    "            return med\n",
    "    return medicine_name\n",
    "\n",
    "\n",
    "# Apply the function to the 'Medicine Name' column\n",
    "filtered_df[\"Medicine Name\"] = filtered_df[\"Medicine Name\"].apply(\n",
    "    lambda name: match_and_replace_medicine_name(name, medicine_to_include_lower)\n",
    ")\n",
    "\n",
    "# Print the updated DataFrame\n",
    "print(filtered_df)"
   ]
  },
  {
   "cell_type": "code",
   "execution_count": 167,
   "metadata": {},
   "outputs": [
    {
     "data": {
      "text/plain": [
       "Medicine Name\n",
       "calcium +                                      758484\n",
       "becosule                                       736833\n",
       "pcm                                            560280\n",
       "paracetamol                                    477136\n",
       "omeprazole                                     456276\n",
       "cough syrup                                    288809\n",
       "iron                                           270229\n",
       "cetrizine                                      241662\n",
       "amoxycillin                                    214761\n",
       "diclofenac gel                                 133106\n",
       "neurobion forte                                115908\n",
       "multivitamin                                   106350\n",
       "fluconazole                                     84844\n",
       "miconazole nitrate                              75462\n",
       "metronidazole                                   71328\n",
       "amoxy                                           66670\n",
       "ors                                             65231\n",
       "doxycycline                                     53230\n",
       "tetmasol soap                                   52343\n",
       "dicyclomine (10mg) + mefenamic acid (250mg)     48961\n",
       "ascabiol                                        40158\n",
       "azithromycin                                    38649\n",
       "liver tonic                                     36623\n",
       "vitamin c                                       28794\n",
       "clotrimazole                                    27814\n",
       "vitamin-c chewable 500mg tablet                 27086\n",
       "unizyme                                         26127\n",
       "dulcoflex                                       26048\n",
       "ciplox eye drops                                24652\n",
       "albendazole                                     24031\n",
       "calcium 250 mg+vit d3                           15987\n",
       "herbal cough                                    15508\n",
       "norfloxacin (200mg) + tinidazole (300mg)        14318\n",
       "prochlorperazine                                11949\n",
       "omez                                            11528\n",
       "ciprofloxacin                                   10123\n",
       "ondansetron                                      7749\n",
       "becousles                                        7048\n",
       "beclo + clotri + genta cream                     5523\n",
       "unienzyme                                        3715\n",
       "norflox                                          2101\n",
       "limcee                                           1865\n",
       "tetmosol soap                                    1846\n",
       "ivermectin                                       1613\n",
       "waxonil ear drop                                 1540\n",
       "benedryil syrup                                     3\n",
       "dicyclomine + mefenamic acid                        1\n",
       "aceclo + pcm                                        1\n",
       "Name: count, dtype: int64"
      ]
     },
     "execution_count": 167,
     "metadata": {},
     "output_type": "execute_result"
    }
   ],
   "source": [
    "filtered_df[\"Medicine Name\"].value_counts()"
   ]
  },
  {
   "cell_type": "code",
   "execution_count": 168,
   "metadata": {},
   "outputs": [],
   "source": [
    "mappings = {\n",
    "    \"unienzyme\": \"unizyme\",\n",
    "    \"becosule\": \"becousles\",\n",
    "    \"tetmasol soap\": \"tetmosol soap\",\n",
    "    \"vitamin c\": \"vitamin-c chewable 500mg tablet\",\n",
    "    \"amoxycillin\": \"amoxy\",\n",
    "    \"norflox\": \"norfloxacin (200mg) + tinidazole (300mg)\",\n",
    "    \"calcium +\": \"calcium 250 mg+vit d3\",\n",
    "}"
   ]
  },
  {
   "cell_type": "code",
   "execution_count": 169,
   "metadata": {},
   "outputs": [
    {
     "name": "stderr",
     "output_type": "stream",
     "text": [
      "C:\\Users\\siidh\\AppData\\Local\\Temp\\ipykernel_21192\\4032163996.py:1: SettingWithCopyWarning: \n",
      "A value is trying to be set on a copy of a slice from a DataFrame.\n",
      "Try using .loc[row_indexer,col_indexer] = value instead\n",
      "\n",
      "See the caveats in the documentation: https://pandas.pydata.org/pandas-docs/stable/user_guide/indexing.html#returning-a-view-versus-a-copy\n",
      "  filtered_df[\"Medicine Name\"] = filtered_df[\"Medicine Name\"].replace(mappings)\n"
     ]
    }
   ],
   "source": [
    "filtered_df[\"Medicine Name\"] = filtered_df[\"Medicine Name\"].replace(mappings)"
   ]
  },
  {
   "cell_type": "code",
   "execution_count": 170,
   "metadata": {},
   "outputs": [
    {
     "data": {
      "text/plain": [
       "Medicine Name\n",
       "calcium 250 mg+vit d3                          774471\n",
       "becousles                                      743881\n",
       "pcm                                            560280\n",
       "paracetamol                                    477136\n",
       "omeprazole                                     456276\n",
       "cough syrup                                    288809\n",
       "amoxy                                          281431\n",
       "iron                                           270229\n",
       "cetrizine                                      241662\n",
       "diclofenac gel                                 133106\n",
       "neurobion forte                                115908\n",
       "multivitamin                                   106350\n",
       "fluconazole                                     84844\n",
       "miconazole nitrate                              75462\n",
       "metronidazole                                   71328\n",
       "ors                                             65231\n",
       "vitamin-c chewable 500mg tablet                 55880\n",
       "tetmosol soap                                   54189\n",
       "doxycycline                                     53230\n",
       "dicyclomine (10mg) + mefenamic acid (250mg)     48961\n",
       "ascabiol                                        40158\n",
       "azithromycin                                    38649\n",
       "liver tonic                                     36623\n",
       "unizyme                                         29842\n",
       "clotrimazole                                    27814\n",
       "dulcoflex                                       26048\n",
       "ciplox eye drops                                24652\n",
       "albendazole                                     24031\n",
       "norfloxacin (200mg) + tinidazole (300mg)        16419\n",
       "herbal cough                                    15508\n",
       "prochlorperazine                                11949\n",
       "omez                                            11528\n",
       "ciprofloxacin                                   10123\n",
       "ondansetron                                      7749\n",
       "beclo + clotri + genta cream                     5523\n",
       "limcee                                           1865\n",
       "ivermectin                                       1613\n",
       "waxonil ear drop                                 1540\n",
       "benedryil syrup                                     3\n",
       "dicyclomine + mefenamic acid                        1\n",
       "aceclo + pcm                                        1\n",
       "Name: count, dtype: int64"
      ]
     },
     "execution_count": 170,
     "metadata": {},
     "output_type": "execute_result"
    }
   ],
   "source": [
    "filtered_df[\"Medicine Name\"].value_counts()"
   ]
  },
  {
   "cell_type": "code",
   "execution_count": 171,
   "metadata": {},
   "outputs": [
    {
     "name": "stderr",
     "output_type": "stream",
     "text": [
      "C:\\Users\\siidh\\AppData\\Local\\Temp\\ipykernel_21192\\178016214.py:7: SettingWithCopyWarning: \n",
      "A value is trying to be set on a copy of a slice from a DataFrame.\n",
      "Try using .loc[row_indexer,col_indexer] = value instead\n",
      "\n",
      "See the caveats in the documentation: https://pandas.pydata.org/pandas-docs/stable/user_guide/indexing.html#returning-a-view-versus-a-copy\n",
      "  filtered_df[col] = pd.to_numeric(filtered_df[col], errors=\"coerce\")\n"
     ]
    },
    {
     "name": "stdout",
     "output_type": "stream",
     "text": [
      "<class 'pandas.core.frame.DataFrame'>\n",
      "Index: 5290303 entries, 2 to 6165380\n",
      "Data columns (total 10 columns):\n",
      " #   Column         Dtype         \n",
      "---  ------         -----         \n",
      " 0   Medicine Name  object        \n",
      " 1   Duration       float64       \n",
      " 2   Morning        int64         \n",
      " 3   Afternoon      int64         \n",
      " 4   Evening        int64         \n",
      " 5   Night          int64         \n",
      " 6   Frequency      object        \n",
      " 7   Clinic Name    object        \n",
      " 8   Date           datetime64[ns]\n",
      " 9   category       object        \n",
      "dtypes: datetime64[ns](1), float64(1), int64(4), object(4)\n",
      "memory usage: 444.0+ MB\n"
     ]
    }
   ],
   "source": [
    "# Columns to convert to numeric data type\n",
    "#\n",
    "numeric_cols = [\"Duration\", \"Morning\", \"Afternoon\", \"Evening\", \"Night\"]\n",
    "\n",
    "# Convert columns to numeric data type\n",
    "for col in numeric_cols:\n",
    "    filtered_df[col] = pd.to_numeric(filtered_df[col], errors=\"coerce\")\n",
    "\n",
    "# Display the DataFrame with converted columns\n",
    "filtered_df.info()"
   ]
  },
  {
   "cell_type": "code",
   "execution_count": 172,
   "metadata": {},
   "outputs": [
    {
     "data": {
      "text/plain": [
       "(5290303, 10)"
      ]
     },
     "execution_count": 172,
     "metadata": {},
     "output_type": "execute_result"
    }
   ],
   "source": [
    "filtered_df.shape"
   ]
  },
  {
   "cell_type": "code",
   "execution_count": 173,
   "metadata": {},
   "outputs": [],
   "source": [
    "combined_df = filtered_df[filtered_df[\"Frequency\"] == \"d\"]"
   ]
  },
  {
   "cell_type": "code",
   "execution_count": 174,
   "metadata": {},
   "outputs": [
    {
     "data": {
      "text/html": [
       "<div>\n",
       "<style scoped>\n",
       "    .dataframe tbody tr th:only-of-type {\n",
       "        vertical-align: middle;\n",
       "    }\n",
       "\n",
       "    .dataframe tbody tr th {\n",
       "        vertical-align: top;\n",
       "    }\n",
       "\n",
       "    .dataframe thead th {\n",
       "        text-align: right;\n",
       "    }\n",
       "</style>\n",
       "<table border=\"1\" class=\"dataframe\">\n",
       "  <thead>\n",
       "    <tr style=\"text-align: right;\">\n",
       "      <th></th>\n",
       "      <th>Medicine Name</th>\n",
       "      <th>Duration</th>\n",
       "      <th>Morning</th>\n",
       "      <th>Afternoon</th>\n",
       "      <th>Evening</th>\n",
       "      <th>Night</th>\n",
       "      <th>Frequency</th>\n",
       "      <th>Clinic Name</th>\n",
       "      <th>Date</th>\n",
       "      <th>category</th>\n",
       "    </tr>\n",
       "  </thead>\n",
       "  <tbody>\n",
       "    <tr>\n",
       "      <th>2</th>\n",
       "      <td>calcium 250 mg+vit d3</td>\n",
       "      <td>15.0</td>\n",
       "      <td>1</td>\n",
       "      <td>0</td>\n",
       "      <td>0</td>\n",
       "      <td>0</td>\n",
       "      <td>d</td>\n",
       "      <td>Master Clinic</td>\n",
       "      <td>2021-06-10</td>\n",
       "      <td>tab</td>\n",
       "    </tr>\n",
       "    <tr>\n",
       "      <th>6</th>\n",
       "      <td>paracetamol</td>\n",
       "      <td>7.0</td>\n",
       "      <td>1</td>\n",
       "      <td>0</td>\n",
       "      <td>1</td>\n",
       "      <td>1</td>\n",
       "      <td>d</td>\n",
       "      <td>Master Clinic</td>\n",
       "      <td>2021-06-11</td>\n",
       "      <td>tab</td>\n",
       "    </tr>\n",
       "    <tr>\n",
       "      <th>7</th>\n",
       "      <td>doxycycline</td>\n",
       "      <td>7.0</td>\n",
       "      <td>1</td>\n",
       "      <td>0</td>\n",
       "      <td>1</td>\n",
       "      <td>0</td>\n",
       "      <td>d</td>\n",
       "      <td>Master Clinic</td>\n",
       "      <td>2021-06-11</td>\n",
       "      <td>tab</td>\n",
       "    </tr>\n",
       "    <tr>\n",
       "      <th>9</th>\n",
       "      <td>calcium 250 mg+vit d3</td>\n",
       "      <td>30.0</td>\n",
       "      <td>1</td>\n",
       "      <td>0</td>\n",
       "      <td>1</td>\n",
       "      <td>0</td>\n",
       "      <td>d</td>\n",
       "      <td>Master Clinic</td>\n",
       "      <td>2021-06-23</td>\n",
       "      <td>tab</td>\n",
       "    </tr>\n",
       "    <tr>\n",
       "      <th>10</th>\n",
       "      <td>becousles</td>\n",
       "      <td>15.0</td>\n",
       "      <td>1</td>\n",
       "      <td>0</td>\n",
       "      <td>0</td>\n",
       "      <td>0</td>\n",
       "      <td>d</td>\n",
       "      <td>Master Clinic</td>\n",
       "      <td>2021-06-23</td>\n",
       "      <td>None</td>\n",
       "    </tr>\n",
       "    <tr>\n",
       "      <th>...</th>\n",
       "      <td>...</td>\n",
       "      <td>...</td>\n",
       "      <td>...</td>\n",
       "      <td>...</td>\n",
       "      <td>...</td>\n",
       "      <td>...</td>\n",
       "      <td>...</td>\n",
       "      <td>...</td>\n",
       "      <td>...</td>\n",
       "      <td>...</td>\n",
       "    </tr>\n",
       "    <tr>\n",
       "      <th>6165376</th>\n",
       "      <td>multivitamin</td>\n",
       "      <td>10.0</td>\n",
       "      <td>0</td>\n",
       "      <td>1</td>\n",
       "      <td>0</td>\n",
       "      <td>0</td>\n",
       "      <td>d</td>\n",
       "      <td>Master Clinic</td>\n",
       "      <td>2024-05-22</td>\n",
       "      <td>syrup</td>\n",
       "    </tr>\n",
       "    <tr>\n",
       "      <th>6165377</th>\n",
       "      <td>calcium 250 mg+vit d3</td>\n",
       "      <td>10.0</td>\n",
       "      <td>0</td>\n",
       "      <td>1</td>\n",
       "      <td>0</td>\n",
       "      <td>0</td>\n",
       "      <td>d</td>\n",
       "      <td>Master Clinic</td>\n",
       "      <td>2024-05-22</td>\n",
       "      <td>tab</td>\n",
       "    </tr>\n",
       "    <tr>\n",
       "      <th>6165378</th>\n",
       "      <td>ciplox eye drops</td>\n",
       "      <td>5.0</td>\n",
       "      <td>1</td>\n",
       "      <td>1</td>\n",
       "      <td>0</td>\n",
       "      <td>1</td>\n",
       "      <td>d</td>\n",
       "      <td>Master Clinic</td>\n",
       "      <td>2024-05-22</td>\n",
       "      <td>drops</td>\n",
       "    </tr>\n",
       "    <tr>\n",
       "      <th>6165379</th>\n",
       "      <td>paracetamol</td>\n",
       "      <td>3.0</td>\n",
       "      <td>1</td>\n",
       "      <td>1</td>\n",
       "      <td>0</td>\n",
       "      <td>1</td>\n",
       "      <td>d</td>\n",
       "      <td>Master Clinic</td>\n",
       "      <td>2024-05-22</td>\n",
       "      <td>tab</td>\n",
       "    </tr>\n",
       "    <tr>\n",
       "      <th>6165380</th>\n",
       "      <td>cough syrup</td>\n",
       "      <td>3.0</td>\n",
       "      <td>1</td>\n",
       "      <td>1</td>\n",
       "      <td>0</td>\n",
       "      <td>1</td>\n",
       "      <td>d</td>\n",
       "      <td>Master Clinic</td>\n",
       "      <td>2024-05-22</td>\n",
       "      <td>syrup</td>\n",
       "    </tr>\n",
       "  </tbody>\n",
       "</table>\n",
       "<p>5253249 rows × 10 columns</p>\n",
       "</div>"
      ],
      "text/plain": [
       "                 Medicine Name  Duration  Morning  Afternoon  Evening  Night  \\\n",
       "2        calcium 250 mg+vit d3      15.0        1          0        0      0   \n",
       "6                  paracetamol       7.0        1          0        1      1   \n",
       "7                  doxycycline       7.0        1          0        1      0   \n",
       "9        calcium 250 mg+vit d3      30.0        1          0        1      0   \n",
       "10                   becousles      15.0        1          0        0      0   \n",
       "...                        ...       ...      ...        ...      ...    ...   \n",
       "6165376           multivitamin      10.0        0          1        0      0   \n",
       "6165377  calcium 250 mg+vit d3      10.0        0          1        0      0   \n",
       "6165378       ciplox eye drops       5.0        1          1        0      1   \n",
       "6165379            paracetamol       3.0        1          1        0      1   \n",
       "6165380            cough syrup       3.0        1          1        0      1   \n",
       "\n",
       "        Frequency    Clinic Name       Date category  \n",
       "2               d  Master Clinic 2021-06-10      tab  \n",
       "6               d  Master Clinic 2021-06-11      tab  \n",
       "7               d  Master Clinic 2021-06-11      tab  \n",
       "9               d  Master Clinic 2021-06-23      tab  \n",
       "10              d  Master Clinic 2021-06-23     None  \n",
       "...           ...            ...        ...      ...  \n",
       "6165376         d  Master Clinic 2024-05-22    syrup  \n",
       "6165377         d  Master Clinic 2024-05-22      tab  \n",
       "6165378         d  Master Clinic 2024-05-22    drops  \n",
       "6165379         d  Master Clinic 2024-05-22      tab  \n",
       "6165380         d  Master Clinic 2024-05-22    syrup  \n",
       "\n",
       "[5253249 rows x 10 columns]"
      ]
     },
     "execution_count": 174,
     "metadata": {},
     "output_type": "execute_result"
    }
   ],
   "source": [
    "combined_df"
   ]
  },
  {
   "cell_type": "markdown",
   "metadata": {},
   "source": []
  },
  {
   "cell_type": "code",
   "execution_count": 175,
   "metadata": {},
   "outputs": [],
   "source": [
    "# imp_medicines=[\"Amoxycillin 250 mg Caps\",\"Calcium + Vit D3 250iu Tabs\",\"Cough Syrup\",\"Iron Tablet\",\"Multivitamin Syrup\",\"Omeprazole 20mg Capsules\",\"Paracetamol 500mg Tab\"]\n",
    "# combined_df=combined_df[combined_df[\"Medicine Name\"].isin(imp_medicines)]"
   ]
  },
  {
   "cell_type": "code",
   "execution_count": 176,
   "metadata": {},
   "outputs": [
    {
     "name": "stderr",
     "output_type": "stream",
     "text": [
      "C:\\Users\\siidh\\AppData\\Local\\Temp\\ipykernel_21192\\4240514283.py:1: SettingWithCopyWarning: \n",
      "A value is trying to be set on a copy of a slice from a DataFrame.\n",
      "Try using .loc[row_indexer,col_indexer] = value instead\n",
      "\n",
      "See the caveats in the documentation: https://pandas.pydata.org/pandas-docs/stable/user_guide/indexing.html#returning-a-view-versus-a-copy\n",
      "  combined_df[\"Quantity\"] = (\n",
      "C:\\Users\\siidh\\AppData\\Local\\Temp\\ipykernel_21192\\4240514283.py:8: SettingWithCopyWarning: \n",
      "A value is trying to be set on a copy of a slice from a DataFrame.\n",
      "Try using .loc[row_indexer,col_indexer] = value instead\n",
      "\n",
      "See the caveats in the documentation: https://pandas.pydata.org/pandas-docs/stable/user_guide/indexing.html#returning-a-view-versus-a-copy\n",
      "  combined_df[\"Total Requirement\"] = combined_df[\"Quantity\"] * combined_df[\"Duration\"]\n"
     ]
    }
   ],
   "source": [
    "combined_df[\"Quantity\"] = (\n",
    "    combined_df[\"Morning\"]\n",
    "    + combined_df[\"Afternoon\"]\n",
    "    + combined_df[\"Evening\"]\n",
    "    + combined_df[\"Night\"]\n",
    ")\n",
    "\n",
    "combined_df[\"Total Requirement\"] = combined_df[\"Quantity\"] * combined_df[\"Duration\"]"
   ]
  },
  {
   "cell_type": "code",
   "execution_count": 177,
   "metadata": {},
   "outputs": [
    {
     "name": "stderr",
     "output_type": "stream",
     "text": [
      "C:\\Users\\siidh\\AppData\\Local\\Temp\\ipykernel_21192\\1759164720.py:15: SettingWithCopyWarning: \n",
      "A value is trying to be set on a copy of a slice from a DataFrame.\n",
      "Try using .loc[row_indexer,col_indexer] = value instead\n",
      "\n",
      "See the caveats in the documentation: https://pandas.pydata.org/pandas-docs/stable/user_guide/indexing.html#returning-a-view-versus-a-copy\n",
      "  combined_df[\"Total Requirement\"] = combined_df.apply(convert_values, axis=1)\n"
     ]
    },
    {
     "data": {
      "text/html": [
       "<div>\n",
       "<style scoped>\n",
       "    .dataframe tbody tr th:only-of-type {\n",
       "        vertical-align: middle;\n",
       "    }\n",
       "\n",
       "    .dataframe tbody tr th {\n",
       "        vertical-align: top;\n",
       "    }\n",
       "\n",
       "    .dataframe thead th {\n",
       "        text-align: right;\n",
       "    }\n",
       "</style>\n",
       "<table border=\"1\" class=\"dataframe\">\n",
       "  <thead>\n",
       "    <tr style=\"text-align: right;\">\n",
       "      <th></th>\n",
       "      <th>Medicine Name</th>\n",
       "      <th>Duration</th>\n",
       "      <th>Morning</th>\n",
       "      <th>Afternoon</th>\n",
       "      <th>Evening</th>\n",
       "      <th>Night</th>\n",
       "      <th>Frequency</th>\n",
       "      <th>Clinic Name</th>\n",
       "      <th>Date</th>\n",
       "      <th>category</th>\n",
       "      <th>Quantity</th>\n",
       "      <th>Total Requirement</th>\n",
       "    </tr>\n",
       "  </thead>\n",
       "  <tbody>\n",
       "    <tr>\n",
       "      <th>2</th>\n",
       "      <td>calcium 250 mg+vit d3</td>\n",
       "      <td>15.0</td>\n",
       "      <td>1</td>\n",
       "      <td>0</td>\n",
       "      <td>0</td>\n",
       "      <td>0</td>\n",
       "      <td>d</td>\n",
       "      <td>Master Clinic</td>\n",
       "      <td>2021-06-10</td>\n",
       "      <td>tab</td>\n",
       "      <td>1</td>\n",
       "      <td>15.0</td>\n",
       "    </tr>\n",
       "    <tr>\n",
       "      <th>6</th>\n",
       "      <td>paracetamol</td>\n",
       "      <td>7.0</td>\n",
       "      <td>1</td>\n",
       "      <td>0</td>\n",
       "      <td>1</td>\n",
       "      <td>1</td>\n",
       "      <td>d</td>\n",
       "      <td>Master Clinic</td>\n",
       "      <td>2021-06-11</td>\n",
       "      <td>tab</td>\n",
       "      <td>3</td>\n",
       "      <td>21.0</td>\n",
       "    </tr>\n",
       "    <tr>\n",
       "      <th>7</th>\n",
       "      <td>doxycycline</td>\n",
       "      <td>7.0</td>\n",
       "      <td>1</td>\n",
       "      <td>0</td>\n",
       "      <td>1</td>\n",
       "      <td>0</td>\n",
       "      <td>d</td>\n",
       "      <td>Master Clinic</td>\n",
       "      <td>2021-06-11</td>\n",
       "      <td>tab</td>\n",
       "      <td>2</td>\n",
       "      <td>14.0</td>\n",
       "    </tr>\n",
       "    <tr>\n",
       "      <th>9</th>\n",
       "      <td>calcium 250 mg+vit d3</td>\n",
       "      <td>30.0</td>\n",
       "      <td>1</td>\n",
       "      <td>0</td>\n",
       "      <td>1</td>\n",
       "      <td>0</td>\n",
       "      <td>d</td>\n",
       "      <td>Master Clinic</td>\n",
       "      <td>2021-06-23</td>\n",
       "      <td>tab</td>\n",
       "      <td>2</td>\n",
       "      <td>60.0</td>\n",
       "    </tr>\n",
       "    <tr>\n",
       "      <th>10</th>\n",
       "      <td>becousles</td>\n",
       "      <td>15.0</td>\n",
       "      <td>1</td>\n",
       "      <td>0</td>\n",
       "      <td>0</td>\n",
       "      <td>0</td>\n",
       "      <td>d</td>\n",
       "      <td>Master Clinic</td>\n",
       "      <td>2021-06-23</td>\n",
       "      <td>None</td>\n",
       "      <td>1</td>\n",
       "      <td>15.0</td>\n",
       "    </tr>\n",
       "    <tr>\n",
       "      <th>...</th>\n",
       "      <td>...</td>\n",
       "      <td>...</td>\n",
       "      <td>...</td>\n",
       "      <td>...</td>\n",
       "      <td>...</td>\n",
       "      <td>...</td>\n",
       "      <td>...</td>\n",
       "      <td>...</td>\n",
       "      <td>...</td>\n",
       "      <td>...</td>\n",
       "      <td>...</td>\n",
       "      <td>...</td>\n",
       "    </tr>\n",
       "    <tr>\n",
       "      <th>6165376</th>\n",
       "      <td>multivitamin</td>\n",
       "      <td>10.0</td>\n",
       "      <td>0</td>\n",
       "      <td>1</td>\n",
       "      <td>0</td>\n",
       "      <td>0</td>\n",
       "      <td>d</td>\n",
       "      <td>Master Clinic</td>\n",
       "      <td>2024-05-22</td>\n",
       "      <td>syrup</td>\n",
       "      <td>1</td>\n",
       "      <td>10.0</td>\n",
       "    </tr>\n",
       "    <tr>\n",
       "      <th>6165377</th>\n",
       "      <td>calcium 250 mg+vit d3</td>\n",
       "      <td>10.0</td>\n",
       "      <td>0</td>\n",
       "      <td>1</td>\n",
       "      <td>0</td>\n",
       "      <td>0</td>\n",
       "      <td>d</td>\n",
       "      <td>Master Clinic</td>\n",
       "      <td>2024-05-22</td>\n",
       "      <td>tab</td>\n",
       "      <td>1</td>\n",
       "      <td>10.0</td>\n",
       "    </tr>\n",
       "    <tr>\n",
       "      <th>6165378</th>\n",
       "      <td>ciplox eye drops</td>\n",
       "      <td>5.0</td>\n",
       "      <td>1</td>\n",
       "      <td>1</td>\n",
       "      <td>0</td>\n",
       "      <td>1</td>\n",
       "      <td>d</td>\n",
       "      <td>Master Clinic</td>\n",
       "      <td>2024-05-22</td>\n",
       "      <td>drops</td>\n",
       "      <td>3</td>\n",
       "      <td>15.0</td>\n",
       "    </tr>\n",
       "    <tr>\n",
       "      <th>6165379</th>\n",
       "      <td>paracetamol</td>\n",
       "      <td>3.0</td>\n",
       "      <td>1</td>\n",
       "      <td>1</td>\n",
       "      <td>0</td>\n",
       "      <td>1</td>\n",
       "      <td>d</td>\n",
       "      <td>Master Clinic</td>\n",
       "      <td>2024-05-22</td>\n",
       "      <td>tab</td>\n",
       "      <td>3</td>\n",
       "      <td>9.0</td>\n",
       "    </tr>\n",
       "    <tr>\n",
       "      <th>6165380</th>\n",
       "      <td>cough syrup</td>\n",
       "      <td>3.0</td>\n",
       "      <td>1</td>\n",
       "      <td>1</td>\n",
       "      <td>0</td>\n",
       "      <td>1</td>\n",
       "      <td>d</td>\n",
       "      <td>Master Clinic</td>\n",
       "      <td>2024-05-22</td>\n",
       "      <td>syrup</td>\n",
       "      <td>3</td>\n",
       "      <td>9.0</td>\n",
       "    </tr>\n",
       "  </tbody>\n",
       "</table>\n",
       "<p>5253249 rows × 12 columns</p>\n",
       "</div>"
      ],
      "text/plain": [
       "                 Medicine Name  Duration  Morning  Afternoon  Evening  Night  \\\n",
       "2        calcium 250 mg+vit d3      15.0        1          0        0      0   \n",
       "6                  paracetamol       7.0        1          0        1      1   \n",
       "7                  doxycycline       7.0        1          0        1      0   \n",
       "9        calcium 250 mg+vit d3      30.0        1          0        1      0   \n",
       "10                   becousles      15.0        1          0        0      0   \n",
       "...                        ...       ...      ...        ...      ...    ...   \n",
       "6165376           multivitamin      10.0        0          1        0      0   \n",
       "6165377  calcium 250 mg+vit d3      10.0        0          1        0      0   \n",
       "6165378       ciplox eye drops       5.0        1          1        0      1   \n",
       "6165379            paracetamol       3.0        1          1        0      1   \n",
       "6165380            cough syrup       3.0        1          1        0      1   \n",
       "\n",
       "        Frequency    Clinic Name       Date category  Quantity  \\\n",
       "2               d  Master Clinic 2021-06-10      tab         1   \n",
       "6               d  Master Clinic 2021-06-11      tab         3   \n",
       "7               d  Master Clinic 2021-06-11      tab         2   \n",
       "9               d  Master Clinic 2021-06-23      tab         2   \n",
       "10              d  Master Clinic 2021-06-23     None         1   \n",
       "...           ...            ...        ...      ...       ...   \n",
       "6165376         d  Master Clinic 2024-05-22    syrup         1   \n",
       "6165377         d  Master Clinic 2024-05-22      tab         1   \n",
       "6165378         d  Master Clinic 2024-05-22    drops         3   \n",
       "6165379         d  Master Clinic 2024-05-22      tab         3   \n",
       "6165380         d  Master Clinic 2024-05-22    syrup         3   \n",
       "\n",
       "         Total Requirement  \n",
       "2                     15.0  \n",
       "6                     21.0  \n",
       "7                     14.0  \n",
       "9                     60.0  \n",
       "10                    15.0  \n",
       "...                    ...  \n",
       "6165376               10.0  \n",
       "6165377               10.0  \n",
       "6165378               15.0  \n",
       "6165379                9.0  \n",
       "6165380                9.0  \n",
       "\n",
       "[5253249 rows x 12 columns]"
      ]
     },
     "execution_count": 177,
     "metadata": {},
     "output_type": "execute_result"
    }
   ],
   "source": [
    "syrup_columns = [\n",
    "    \"Multivitamin Syrup\",\n",
    "    \"Cough Syrup\",\n",
    "    \"Diclofenac Gel\",\n",
    "]  # Replace with your actual column names\n",
    "\n",
    "\n",
    "# Apply the conversion\n",
    "def convert_values(row):\n",
    "    if row[\"Medicine Name\"] in syrup_columns:\n",
    "        return 2 if row[\"Total Requirement\"] > 30 else 1\n",
    "    return row[\"Total Requirement\"]\n",
    "\n",
    "\n",
    "combined_df[\"Total Requirement\"] = combined_df.apply(convert_values, axis=1)\n",
    "combined_df"
   ]
  },
  {
   "cell_type": "code",
   "execution_count": 178,
   "metadata": {},
   "outputs": [
    {
     "name": "stderr",
     "output_type": "stream",
     "text": [
      "C:\\Users\\siidh\\AppData\\Local\\Temp\\ipykernel_21192\\1744030776.py:2: SettingWithCopyWarning: \n",
      "A value is trying to be set on a copy of a slice from a DataFrame.\n",
      "Try using .loc[row_indexer,col_indexer] = value instead\n",
      "\n",
      "See the caveats in the documentation: https://pandas.pydata.org/pandas-docs/stable/user_guide/indexing.html#returning-a-view-versus-a-copy\n",
      "  combined_df[\"Date\"] = pd.to_datetime(combined_df[\"Date\"], format=\"%d-%m-%Y\")\n"
     ]
    }
   ],
   "source": [
    "combined_df.sort_values(by=\"Date\")\n",
    "combined_df[\"Date\"] = pd.to_datetime(combined_df[\"Date\"], format=\"%d-%m-%Y\")\n",
    "combined_df = combined_df[combined_df[\"Date\"] >= \"2023-01-01\"]"
   ]
  },
  {
   "cell_type": "code",
   "execution_count": 179,
   "metadata": {},
   "outputs": [
    {
     "data": {
      "text/html": [
       "<div>\n",
       "<style scoped>\n",
       "    .dataframe tbody tr th:only-of-type {\n",
       "        vertical-align: middle;\n",
       "    }\n",
       "\n",
       "    .dataframe tbody tr th {\n",
       "        vertical-align: top;\n",
       "    }\n",
       "\n",
       "    .dataframe thead th {\n",
       "        text-align: right;\n",
       "    }\n",
       "</style>\n",
       "<table border=\"1\" class=\"dataframe\">\n",
       "  <thead>\n",
       "    <tr style=\"text-align: right;\">\n",
       "      <th></th>\n",
       "      <th>Medicine Name</th>\n",
       "      <th>Duration</th>\n",
       "      <th>Morning</th>\n",
       "      <th>Afternoon</th>\n",
       "      <th>Evening</th>\n",
       "      <th>Night</th>\n",
       "      <th>Frequency</th>\n",
       "      <th>Clinic Name</th>\n",
       "      <th>Date</th>\n",
       "      <th>category</th>\n",
       "      <th>Quantity</th>\n",
       "      <th>Total Requirement</th>\n",
       "    </tr>\n",
       "  </thead>\n",
       "  <tbody>\n",
       "    <tr>\n",
       "      <th>12118</th>\n",
       "      <td>becousles</td>\n",
       "      <td>5.0</td>\n",
       "      <td>0</td>\n",
       "      <td>1</td>\n",
       "      <td>0</td>\n",
       "      <td>0</td>\n",
       "      <td>d</td>\n",
       "      <td>Master Clinic</td>\n",
       "      <td>2023-01-01</td>\n",
       "      <td>tab</td>\n",
       "      <td>1</td>\n",
       "      <td>5.0</td>\n",
       "    </tr>\n",
       "    <tr>\n",
       "      <th>2673701</th>\n",
       "      <td>becousles</td>\n",
       "      <td>10.0</td>\n",
       "      <td>1</td>\n",
       "      <td>0</td>\n",
       "      <td>0</td>\n",
       "      <td>1</td>\n",
       "      <td>d</td>\n",
       "      <td>Master Clinic</td>\n",
       "      <td>2023-01-01</td>\n",
       "      <td>None</td>\n",
       "      <td>2</td>\n",
       "      <td>20.0</td>\n",
       "    </tr>\n",
       "    <tr>\n",
       "      <th>2673700</th>\n",
       "      <td>calcium 250 mg+vit d3</td>\n",
       "      <td>10.0</td>\n",
       "      <td>0</td>\n",
       "      <td>1</td>\n",
       "      <td>0</td>\n",
       "      <td>0</td>\n",
       "      <td>d</td>\n",
       "      <td>Master Clinic</td>\n",
       "      <td>2023-01-01</td>\n",
       "      <td>tab</td>\n",
       "      <td>1</td>\n",
       "      <td>10.0</td>\n",
       "    </tr>\n",
       "    <tr>\n",
       "      <th>1090152</th>\n",
       "      <td>calcium 250 mg+vit d3</td>\n",
       "      <td>10.0</td>\n",
       "      <td>0</td>\n",
       "      <td>1</td>\n",
       "      <td>0</td>\n",
       "      <td>0</td>\n",
       "      <td>d</td>\n",
       "      <td>Master Clinic</td>\n",
       "      <td>2023-01-01</td>\n",
       "      <td>tab</td>\n",
       "      <td>1</td>\n",
       "      <td>10.0</td>\n",
       "    </tr>\n",
       "    <tr>\n",
       "      <th>1090153</th>\n",
       "      <td>neurobion forte</td>\n",
       "      <td>5.0</td>\n",
       "      <td>1</td>\n",
       "      <td>0</td>\n",
       "      <td>0</td>\n",
       "      <td>1</td>\n",
       "      <td>d</td>\n",
       "      <td>Master Clinic</td>\n",
       "      <td>2023-01-01</td>\n",
       "      <td>tab</td>\n",
       "      <td>2</td>\n",
       "      <td>10.0</td>\n",
       "    </tr>\n",
       "    <tr>\n",
       "      <th>...</th>\n",
       "      <td>...</td>\n",
       "      <td>...</td>\n",
       "      <td>...</td>\n",
       "      <td>...</td>\n",
       "      <td>...</td>\n",
       "      <td>...</td>\n",
       "      <td>...</td>\n",
       "      <td>...</td>\n",
       "      <td>...</td>\n",
       "      <td>...</td>\n",
       "      <td>...</td>\n",
       "      <td>...</td>\n",
       "    </tr>\n",
       "    <tr>\n",
       "      <th>1987123</th>\n",
       "      <td>omeprazole</td>\n",
       "      <td>5.0</td>\n",
       "      <td>1</td>\n",
       "      <td>0</td>\n",
       "      <td>0</td>\n",
       "      <td>1</td>\n",
       "      <td>d</td>\n",
       "      <td>Master Clinic</td>\n",
       "      <td>2024-05-22</td>\n",
       "      <td>tab</td>\n",
       "      <td>2</td>\n",
       "      <td>10.0</td>\n",
       "    </tr>\n",
       "    <tr>\n",
       "      <th>1987124</th>\n",
       "      <td>calcium 250 mg+vit d3</td>\n",
       "      <td>10.0</td>\n",
       "      <td>0</td>\n",
       "      <td>1</td>\n",
       "      <td>0</td>\n",
       "      <td>0</td>\n",
       "      <td>d</td>\n",
       "      <td>Master Clinic</td>\n",
       "      <td>2024-05-22</td>\n",
       "      <td>tab</td>\n",
       "      <td>1</td>\n",
       "      <td>10.0</td>\n",
       "    </tr>\n",
       "    <tr>\n",
       "      <th>1987125</th>\n",
       "      <td>diclofenac gel</td>\n",
       "      <td>10.0</td>\n",
       "      <td>1</td>\n",
       "      <td>0</td>\n",
       "      <td>0</td>\n",
       "      <td>1</td>\n",
       "      <td>d</td>\n",
       "      <td>Master Clinic</td>\n",
       "      <td>2024-05-22</td>\n",
       "      <td>gel</td>\n",
       "      <td>2</td>\n",
       "      <td>20.0</td>\n",
       "    </tr>\n",
       "    <tr>\n",
       "      <th>1875052</th>\n",
       "      <td>paracetamol</td>\n",
       "      <td>3.0</td>\n",
       "      <td>1</td>\n",
       "      <td>0</td>\n",
       "      <td>0</td>\n",
       "      <td>1</td>\n",
       "      <td>d</td>\n",
       "      <td>Master Clinic</td>\n",
       "      <td>2024-05-22</td>\n",
       "      <td>tab</td>\n",
       "      <td>2</td>\n",
       "      <td>6.0</td>\n",
       "    </tr>\n",
       "    <tr>\n",
       "      <th>6165380</th>\n",
       "      <td>cough syrup</td>\n",
       "      <td>3.0</td>\n",
       "      <td>1</td>\n",
       "      <td>1</td>\n",
       "      <td>0</td>\n",
       "      <td>1</td>\n",
       "      <td>d</td>\n",
       "      <td>Master Clinic</td>\n",
       "      <td>2024-05-22</td>\n",
       "      <td>syrup</td>\n",
       "      <td>3</td>\n",
       "      <td>9.0</td>\n",
       "    </tr>\n",
       "  </tbody>\n",
       "</table>\n",
       "<p>3795468 rows × 12 columns</p>\n",
       "</div>"
      ],
      "text/plain": [
       "                 Medicine Name  Duration  Morning  Afternoon  Evening  Night  \\\n",
       "12118                becousles       5.0        0          1        0      0   \n",
       "2673701              becousles      10.0        1          0        0      1   \n",
       "2673700  calcium 250 mg+vit d3      10.0        0          1        0      0   \n",
       "1090152  calcium 250 mg+vit d3      10.0        0          1        0      0   \n",
       "1090153        neurobion forte       5.0        1          0        0      1   \n",
       "...                        ...       ...      ...        ...      ...    ...   \n",
       "1987123             omeprazole       5.0        1          0        0      1   \n",
       "1987124  calcium 250 mg+vit d3      10.0        0          1        0      0   \n",
       "1987125         diclofenac gel      10.0        1          0        0      1   \n",
       "1875052            paracetamol       3.0        1          0        0      1   \n",
       "6165380            cough syrup       3.0        1          1        0      1   \n",
       "\n",
       "        Frequency    Clinic Name       Date category  Quantity  \\\n",
       "12118           d  Master Clinic 2023-01-01      tab         1   \n",
       "2673701         d  Master Clinic 2023-01-01     None         2   \n",
       "2673700         d  Master Clinic 2023-01-01      tab         1   \n",
       "1090152         d  Master Clinic 2023-01-01      tab         1   \n",
       "1090153         d  Master Clinic 2023-01-01      tab         2   \n",
       "...           ...            ...        ...      ...       ...   \n",
       "1987123         d  Master Clinic 2024-05-22      tab         2   \n",
       "1987124         d  Master Clinic 2024-05-22      tab         1   \n",
       "1987125         d  Master Clinic 2024-05-22      gel         2   \n",
       "1875052         d  Master Clinic 2024-05-22      tab         2   \n",
       "6165380         d  Master Clinic 2024-05-22    syrup         3   \n",
       "\n",
       "         Total Requirement  \n",
       "12118                  5.0  \n",
       "2673701               20.0  \n",
       "2673700               10.0  \n",
       "1090152               10.0  \n",
       "1090153               10.0  \n",
       "...                    ...  \n",
       "1987123               10.0  \n",
       "1987124               10.0  \n",
       "1987125               20.0  \n",
       "1875052                6.0  \n",
       "6165380                9.0  \n",
       "\n",
       "[3795468 rows x 12 columns]"
      ]
     },
     "execution_count": 179,
     "metadata": {},
     "output_type": "execute_result"
    }
   ],
   "source": [
    "combined_df.sort_values(by=\"Date\")"
   ]
  },
  {
   "cell_type": "markdown",
   "metadata": {},
   "source": [
    "train a category model\n",
    "make it 100 classes\n",
    "make features same\n",
    "train 100 more models\n",
    "specificity introduced in class\n",
    "save the model weight\n"
   ]
  },
  {
   "cell_type": "markdown",
   "metadata": {},
   "source": []
  },
  {
   "cell_type": "code",
   "execution_count": 180,
   "metadata": {},
   "outputs": [
    {
     "name": "stderr",
     "output_type": "stream",
     "text": [
      "C:\\Users\\siidh\\AppData\\Local\\Temp\\ipykernel_21192\\4217678086.py:2: SettingWithCopyWarning: \n",
      "A value is trying to be set on a copy of a slice from a DataFrame.\n",
      "Try using .loc[row_indexer,col_indexer] = value instead\n",
      "\n",
      "See the caveats in the documentation: https://pandas.pydata.org/pandas-docs/stable/user_guide/indexing.html#returning-a-view-versus-a-copy\n",
      "  combined_df[\"Year\"] = combined_df[\"Date\"].dt.year\n",
      "C:\\Users\\siidh\\AppData\\Local\\Temp\\ipykernel_21192\\4217678086.py:3: SettingWithCopyWarning: \n",
      "A value is trying to be set on a copy of a slice from a DataFrame.\n",
      "Try using .loc[row_indexer,col_indexer] = value instead\n",
      "\n",
      "See the caveats in the documentation: https://pandas.pydata.org/pandas-docs/stable/user_guide/indexing.html#returning-a-view-versus-a-copy\n",
      "  combined_df[\"Month\"] = combined_df[\"Date\"].dt.strftime(\"%b\")\n"
     ]
    }
   ],
   "source": [
    "# Convert the 'Date' column to datetime format and extract year and month\n",
    "combined_df[\"Year\"] = combined_df[\"Date\"].dt.year\n",
    "combined_df[\"Month\"] = combined_df[\"Date\"].dt.strftime(\"%b\")\n",
    "\n",
    "# Create the pivot table\n",
    "pivot_table = combined_df.pivot_table(\n",
    "    values=\"Total Requirement\",\n",
    "    index=[\"Clinic Name\", \"Medicine Name\", \"Year\", \"Month\"],\n",
    "    aggfunc=\"sum\",\n",
    "    margins=True,\n",
    "    margins_name=\"Sum of Total Requirement\",\n",
    ")\n",
    "\n",
    "# Display the pivot table"
   ]
  },
  {
   "cell_type": "code",
   "execution_count": 181,
   "metadata": {},
   "outputs": [],
   "source": [
    "pivot_table = pivot_table.iloc[:-1]"
   ]
  },
  {
   "cell_type": "code",
   "execution_count": 182,
   "metadata": {},
   "outputs": [],
   "source": [
    "pivot_table.reset_index(inplace=True)"
   ]
  },
  {
   "cell_type": "code",
   "execution_count": 183,
   "metadata": {},
   "outputs": [],
   "source": [
    "pivot_table[\"Date\"] = pd.to_datetime(\n",
    "    pivot_table[\"Year\"].astype(str) + \"-\" + pivot_table[\"Month\"],\n",
    "    format=\"%Y-%b\",\n",
    "    errors=\"coerce\",\n",
    ")"
   ]
  },
  {
   "cell_type": "code",
   "execution_count": 184,
   "metadata": {},
   "outputs": [
    {
     "data": {
      "text/html": [
       "<div>\n",
       "<style scoped>\n",
       "    .dataframe tbody tr th:only-of-type {\n",
       "        vertical-align: middle;\n",
       "    }\n",
       "\n",
       "    .dataframe tbody tr th {\n",
       "        vertical-align: top;\n",
       "    }\n",
       "\n",
       "    .dataframe thead th {\n",
       "        text-align: right;\n",
       "    }\n",
       "</style>\n",
       "<table border=\"1\" class=\"dataframe\">\n",
       "  <thead>\n",
       "    <tr style=\"text-align: right;\">\n",
       "      <th></th>\n",
       "      <th>Clinic Name</th>\n",
       "      <th>Medicine Name</th>\n",
       "      <th>Year</th>\n",
       "      <th>Month</th>\n",
       "      <th>Total Requirement</th>\n",
       "      <th>Date</th>\n",
       "    </tr>\n",
       "  </thead>\n",
       "  <tbody>\n",
       "    <tr>\n",
       "      <th>0</th>\n",
       "      <td>EC000 Group Call</td>\n",
       "      <td>amoxy</td>\n",
       "      <td>2023</td>\n",
       "      <td>Jul</td>\n",
       "      <td>15.0</td>\n",
       "      <td>2023-07-01</td>\n",
       "    </tr>\n",
       "    <tr>\n",
       "      <th>1</th>\n",
       "      <td>EC000 Group Call</td>\n",
       "      <td>becousles</td>\n",
       "      <td>2023</td>\n",
       "      <td>Jul</td>\n",
       "      <td>10.0</td>\n",
       "      <td>2023-07-01</td>\n",
       "    </tr>\n",
       "    <tr>\n",
       "      <th>2</th>\n",
       "      <td>EC000 Group Call</td>\n",
       "      <td>paracetamol</td>\n",
       "      <td>2023</td>\n",
       "      <td>Jul</td>\n",
       "      <td>6.0</td>\n",
       "      <td>2023-07-01</td>\n",
       "    </tr>\n",
       "    <tr>\n",
       "      <th>3</th>\n",
       "      <td>EC01:01 Mahrajganj Mirzapur</td>\n",
       "      <td>albendazole</td>\n",
       "      <td>2023</td>\n",
       "      <td>Dec</td>\n",
       "      <td>3.0</td>\n",
       "      <td>2023-12-01</td>\n",
       "    </tr>\n",
       "    <tr>\n",
       "      <th>4</th>\n",
       "      <td>EC01:01 Mahrajganj Mirzapur</td>\n",
       "      <td>albendazole</td>\n",
       "      <td>2023</td>\n",
       "      <td>Mar</td>\n",
       "      <td>1.0</td>\n",
       "      <td>2023-03-01</td>\n",
       "    </tr>\n",
       "    <tr>\n",
       "      <th>...</th>\n",
       "      <td>...</td>\n",
       "      <td>...</td>\n",
       "      <td>...</td>\n",
       "      <td>...</td>\n",
       "      <td>...</td>\n",
       "      <td>...</td>\n",
       "    </tr>\n",
       "    <tr>\n",
       "      <th>256675</th>\n",
       "      <td>Master Clinic</td>\n",
       "      <td>waxonil ear drop</td>\n",
       "      <td>2024</td>\n",
       "      <td>Apr</td>\n",
       "      <td>60.0</td>\n",
       "      <td>2024-04-01</td>\n",
       "    </tr>\n",
       "    <tr>\n",
       "      <th>256676</th>\n",
       "      <td>Master Clinic</td>\n",
       "      <td>waxonil ear drop</td>\n",
       "      <td>2024</td>\n",
       "      <td>Feb</td>\n",
       "      <td>181.0</td>\n",
       "      <td>2024-02-01</td>\n",
       "    </tr>\n",
       "    <tr>\n",
       "      <th>256677</th>\n",
       "      <td>Master Clinic</td>\n",
       "      <td>waxonil ear drop</td>\n",
       "      <td>2024</td>\n",
       "      <td>Jan</td>\n",
       "      <td>102.0</td>\n",
       "      <td>2024-01-01</td>\n",
       "    </tr>\n",
       "    <tr>\n",
       "      <th>256678</th>\n",
       "      <td>Master Clinic</td>\n",
       "      <td>waxonil ear drop</td>\n",
       "      <td>2024</td>\n",
       "      <td>Mar</td>\n",
       "      <td>456.0</td>\n",
       "      <td>2024-03-01</td>\n",
       "    </tr>\n",
       "    <tr>\n",
       "      <th>256679</th>\n",
       "      <td>Master Clinic</td>\n",
       "      <td>waxonil ear drop</td>\n",
       "      <td>2024</td>\n",
       "      <td>May</td>\n",
       "      <td>86.0</td>\n",
       "      <td>2024-05-01</td>\n",
       "    </tr>\n",
       "  </tbody>\n",
       "</table>\n",
       "<p>256680 rows × 6 columns</p>\n",
       "</div>"
      ],
      "text/plain": [
       "                        Clinic Name     Medicine Name  Year Month  \\\n",
       "0                  EC000 Group Call             amoxy  2023   Jul   \n",
       "1                  EC000 Group Call         becousles  2023   Jul   \n",
       "2                  EC000 Group Call       paracetamol  2023   Jul   \n",
       "3       EC01:01 Mahrajganj Mirzapur       albendazole  2023   Dec   \n",
       "4       EC01:01 Mahrajganj Mirzapur       albendazole  2023   Mar   \n",
       "...                             ...               ...   ...   ...   \n",
       "256675                Master Clinic  waxonil ear drop  2024   Apr   \n",
       "256676                Master Clinic  waxonil ear drop  2024   Feb   \n",
       "256677                Master Clinic  waxonil ear drop  2024   Jan   \n",
       "256678                Master Clinic  waxonil ear drop  2024   Mar   \n",
       "256679                Master Clinic  waxonil ear drop  2024   May   \n",
       "\n",
       "        Total Requirement       Date  \n",
       "0                    15.0 2023-07-01  \n",
       "1                    10.0 2023-07-01  \n",
       "2                     6.0 2023-07-01  \n",
       "3                     3.0 2023-12-01  \n",
       "4                     1.0 2023-03-01  \n",
       "...                   ...        ...  \n",
       "256675               60.0 2024-04-01  \n",
       "256676              181.0 2024-02-01  \n",
       "256677              102.0 2024-01-01  \n",
       "256678              456.0 2024-03-01  \n",
       "256679               86.0 2024-05-01  \n",
       "\n",
       "[256680 rows x 6 columns]"
      ]
     },
     "execution_count": 184,
     "metadata": {},
     "output_type": "execute_result"
    }
   ],
   "source": [
    "pivot_table"
   ]
  },
  {
   "cell_type": "code",
   "execution_count": 185,
   "metadata": {},
   "outputs": [
    {
     "data": {
      "text/plain": [
       "Clinic Name\n",
       "Master Clinic                                      584\n",
       "EC06:09 Dildarnagar Buxar                          542\n",
       "EC21:17 Mahanth Maniyari Muzaffarpur               533\n",
       "EC02:22 Gurusandi Mirzapur                         530\n",
       "EC06:25 Jamaniya Buxar                             528\n",
       "                                                  ... \n",
       "ECN010 Pratapgarh                                    2\n",
       "ECU030 Jungle Subhanali                              1\n",
       "Ec28:14 BALODA BILASPUR                              1\n",
       "ECU007 Village-à¤–à¤°à¤—à¥€à¤ªà¥à¤° (Khargipur)      1\n",
       "ECSV0117 Chhattarpur Daltonganj                      1\n",
       "Name: count, Length: 733, dtype: int64"
      ]
     },
     "execution_count": 185,
     "metadata": {},
     "output_type": "execute_result"
    }
   ],
   "source": [
    "pivot_table[\"Clinic Name\"].value_counts()"
   ]
  },
  {
   "cell_type": "code",
   "execution_count": 186,
   "metadata": {},
   "outputs": [],
   "source": [
    "pivot_table[\"Date\"] = pd.to_datetime(pivot_table[\"Date\"], format=\"%d-%m-%Y\")"
   ]
  },
  {
   "cell_type": "code",
   "execution_count": 187,
   "metadata": {},
   "outputs": [],
   "source": [
    "min_months_required = 16\n",
    "\n",
    "\n",
    "# Function to check if a group has sufficient pivot_table\n",
    "def has_sufficient_data(group):\n",
    "    unique_months = pd.to_datetime(group[\"Date\"]).dt.to_period(\"M\").nunique()\n",
    "    # print(unique_months)\n",
    "    return unique_months >= min_months_required\n",
    "\n",
    "\n",
    "# Apply the function and filter the pivot_table\n",
    "filtered_data = pivot_table.groupby([\"Clinic Name\", \"Medicine Name\"]).filter(\n",
    "    has_sufficient_data\n",
    ")\n",
    "\n",
    "# Save the filtered pivot_table to a new CSV (optional)"
   ]
  },
  {
   "cell_type": "code",
   "execution_count": 188,
   "metadata": {},
   "outputs": [
    {
     "data": {
      "text/html": [
       "<div>\n",
       "<style scoped>\n",
       "    .dataframe tbody tr th:only-of-type {\n",
       "        vertical-align: middle;\n",
       "    }\n",
       "\n",
       "    .dataframe tbody tr th {\n",
       "        vertical-align: top;\n",
       "    }\n",
       "\n",
       "    .dataframe thead th {\n",
       "        text-align: right;\n",
       "    }\n",
       "</style>\n",
       "<table border=\"1\" class=\"dataframe\">\n",
       "  <thead>\n",
       "    <tr style=\"text-align: right;\">\n",
       "      <th></th>\n",
       "      <th>Clinic Name</th>\n",
       "      <th>Medicine Name</th>\n",
       "      <th>Year</th>\n",
       "      <th>Month</th>\n",
       "      <th>Total Requirement</th>\n",
       "      <th>Date</th>\n",
       "    </tr>\n",
       "  </thead>\n",
       "  <tbody>\n",
       "    <tr>\n",
       "      <th>14</th>\n",
       "      <td>EC01:01 Mahrajganj Mirzapur</td>\n",
       "      <td>amoxy</td>\n",
       "      <td>2023</td>\n",
       "      <td>Apr</td>\n",
       "      <td>105.0</td>\n",
       "      <td>2023-04-01</td>\n",
       "    </tr>\n",
       "    <tr>\n",
       "      <th>15</th>\n",
       "      <td>EC01:01 Mahrajganj Mirzapur</td>\n",
       "      <td>amoxy</td>\n",
       "      <td>2023</td>\n",
       "      <td>Aug</td>\n",
       "      <td>300.0</td>\n",
       "      <td>2023-08-01</td>\n",
       "    </tr>\n",
       "    <tr>\n",
       "      <th>16</th>\n",
       "      <td>EC01:01 Mahrajganj Mirzapur</td>\n",
       "      <td>amoxy</td>\n",
       "      <td>2023</td>\n",
       "      <td>Dec</td>\n",
       "      <td>210.0</td>\n",
       "      <td>2023-12-01</td>\n",
       "    </tr>\n",
       "    <tr>\n",
       "      <th>17</th>\n",
       "      <td>EC01:01 Mahrajganj Mirzapur</td>\n",
       "      <td>amoxy</td>\n",
       "      <td>2023</td>\n",
       "      <td>Feb</td>\n",
       "      <td>141.0</td>\n",
       "      <td>2023-02-01</td>\n",
       "    </tr>\n",
       "    <tr>\n",
       "      <th>18</th>\n",
       "      <td>EC01:01 Mahrajganj Mirzapur</td>\n",
       "      <td>amoxy</td>\n",
       "      <td>2023</td>\n",
       "      <td>Jan</td>\n",
       "      <td>78.0</td>\n",
       "      <td>2023-01-01</td>\n",
       "    </tr>\n",
       "    <tr>\n",
       "      <th>...</th>\n",
       "      <td>...</td>\n",
       "      <td>...</td>\n",
       "      <td>...</td>\n",
       "      <td>...</td>\n",
       "      <td>...</td>\n",
       "      <td>...</td>\n",
       "    </tr>\n",
       "    <tr>\n",
       "      <th>256664</th>\n",
       "      <td>Master Clinic</td>\n",
       "      <td>vitamin-c chewable 500mg tablet</td>\n",
       "      <td>2024</td>\n",
       "      <td>Apr</td>\n",
       "      <td>6282.0</td>\n",
       "      <td>2024-04-01</td>\n",
       "    </tr>\n",
       "    <tr>\n",
       "      <th>256665</th>\n",
       "      <td>Master Clinic</td>\n",
       "      <td>vitamin-c chewable 500mg tablet</td>\n",
       "      <td>2024</td>\n",
       "      <td>Feb</td>\n",
       "      <td>13509.0</td>\n",
       "      <td>2024-02-01</td>\n",
       "    </tr>\n",
       "    <tr>\n",
       "      <th>256666</th>\n",
       "      <td>Master Clinic</td>\n",
       "      <td>vitamin-c chewable 500mg tablet</td>\n",
       "      <td>2024</td>\n",
       "      <td>Jan</td>\n",
       "      <td>12292.0</td>\n",
       "      <td>2024-01-01</td>\n",
       "    </tr>\n",
       "    <tr>\n",
       "      <th>256667</th>\n",
       "      <td>Master Clinic</td>\n",
       "      <td>vitamin-c chewable 500mg tablet</td>\n",
       "      <td>2024</td>\n",
       "      <td>Mar</td>\n",
       "      <td>13325.0</td>\n",
       "      <td>2024-03-01</td>\n",
       "    </tr>\n",
       "    <tr>\n",
       "      <th>256668</th>\n",
       "      <td>Master Clinic</td>\n",
       "      <td>vitamin-c chewable 500mg tablet</td>\n",
       "      <td>2024</td>\n",
       "      <td>May</td>\n",
       "      <td>6481.0</td>\n",
       "      <td>2024-05-01</td>\n",
       "    </tr>\n",
       "  </tbody>\n",
       "</table>\n",
       "<p>114545 rows × 6 columns</p>\n",
       "</div>"
      ],
      "text/plain": [
       "                        Clinic Name                    Medicine Name  Year  \\\n",
       "14      EC01:01 Mahrajganj Mirzapur                            amoxy  2023   \n",
       "15      EC01:01 Mahrajganj Mirzapur                            amoxy  2023   \n",
       "16      EC01:01 Mahrajganj Mirzapur                            amoxy  2023   \n",
       "17      EC01:01 Mahrajganj Mirzapur                            amoxy  2023   \n",
       "18      EC01:01 Mahrajganj Mirzapur                            amoxy  2023   \n",
       "...                             ...                              ...   ...   \n",
       "256664                Master Clinic  vitamin-c chewable 500mg tablet  2024   \n",
       "256665                Master Clinic  vitamin-c chewable 500mg tablet  2024   \n",
       "256666                Master Clinic  vitamin-c chewable 500mg tablet  2024   \n",
       "256667                Master Clinic  vitamin-c chewable 500mg tablet  2024   \n",
       "256668                Master Clinic  vitamin-c chewable 500mg tablet  2024   \n",
       "\n",
       "       Month  Total Requirement       Date  \n",
       "14       Apr              105.0 2023-04-01  \n",
       "15       Aug              300.0 2023-08-01  \n",
       "16       Dec              210.0 2023-12-01  \n",
       "17       Feb              141.0 2023-02-01  \n",
       "18       Jan               78.0 2023-01-01  \n",
       "...      ...                ...        ...  \n",
       "256664   Apr             6282.0 2024-04-01  \n",
       "256665   Feb            13509.0 2024-02-01  \n",
       "256666   Jan            12292.0 2024-01-01  \n",
       "256667   Mar            13325.0 2024-03-01  \n",
       "256668   May             6481.0 2024-05-01  \n",
       "\n",
       "[114545 rows x 6 columns]"
      ]
     },
     "execution_count": 188,
     "metadata": {},
     "output_type": "execute_result"
    }
   ],
   "source": [
    "filtered_data"
   ]
  },
  {
   "cell_type": "code",
   "execution_count": 191,
   "metadata": {},
   "outputs": [],
   "source": [
    "filtered_data['Clinic Name'].value_counts().sort_values(inplace=True)"
   ]
  },
  {
   "cell_type": "code",
   "execution_count": 194,
   "metadata": {},
   "outputs": [],
   "source": [
    "from sklearn.preprocessing import LabelEncoder\n",
    "\n",
    "# Create label encoder objects\n",
    "clinic_encoder = LabelEncoder()\n",
    "medicine_encoder = LabelEncoder()\n",
    "\n",
    "# Fit and transform the categorical variables\n",
    "filtered_data[\"Clinic Name Encoded\"] = clinic_encoder.fit_transform(\n",
    "    filtered_data[\"Clinic Name\"]\n",
    ")\n",
    "filtered_data[\"Medicine Name Encoded\"] = medicine_encoder.fit_transform(\n",
    "    filtered_data[\"Medicine Name\"]\n",
    ")\n",
    "\n",
    "# Optionally, keep the mappings for reference\n",
    "clinic_mapping = dict(\n",
    "    zip(clinic_encoder.classes_, clinic_encoder.transform(clinic_encoder.classes_))\n",
    ")\n",
    "medicine_mapping = dict(\n",
    "    zip(\n",
    "        medicine_encoder.classes_, medicine_encoder.transform(medicine_encoder.classes_)\n",
    "    )\n",
    ")"
   ]
  },
  {
   "cell_type": "code",
   "execution_count": 195,
   "metadata": {},
   "outputs": [],
   "source": [
    "# Convert Year and Month to numeric values if necessary\n",
    "filtered_data[\"Year\"] = filtered_data[\"Year\"].astype(int)\n",
    "# Month might already be in a numeric format (e.g., 'Jan' -> 1), but ensure it's consistent\n",
    "month_mapping = {\n",
    "    \"Jan\": 1,\n",
    "    \"Feb\": 2,\n",
    "    \"Mar\": 3,\n",
    "    \"Apr\": 4,\n",
    "    \"May\": 5,\n",
    "    \"Jun\": 6,\n",
    "    \"Jul\": 7,\n",
    "    \"Aug\": 8,\n",
    "    \"Sep\": 9,\n",
    "    \"Oct\": 10,\n",
    "    \"Nov\": 11,\n",
    "    \"Dec\": 12,\n",
    "}\n",
    "filtered_data[\"Month\"] = filtered_data[\"Month\"].map(month_mapping)"
   ]
  },
  {
   "cell_type": "code",
   "execution_count": 196,
   "metadata": {},
   "outputs": [
    {
     "data": {
      "text/html": [
       "<div>\n",
       "<style scoped>\n",
       "    .dataframe tbody tr th:only-of-type {\n",
       "        vertical-align: middle;\n",
       "    }\n",
       "\n",
       "    .dataframe tbody tr th {\n",
       "        vertical-align: top;\n",
       "    }\n",
       "\n",
       "    .dataframe thead th {\n",
       "        text-align: right;\n",
       "    }\n",
       "</style>\n",
       "<table border=\"1\" class=\"dataframe\">\n",
       "  <thead>\n",
       "    <tr style=\"text-align: right;\">\n",
       "      <th></th>\n",
       "      <th>Clinic Name</th>\n",
       "      <th>Medicine Name</th>\n",
       "      <th>Year</th>\n",
       "      <th>Month</th>\n",
       "      <th>Total Requirement</th>\n",
       "      <th>Date</th>\n",
       "      <th>Clinic Name Encoded</th>\n",
       "      <th>Medicine Name Encoded</th>\n",
       "    </tr>\n",
       "  </thead>\n",
       "  <tbody>\n",
       "    <tr>\n",
       "      <th>14</th>\n",
       "      <td>EC01:01 Mahrajganj Mirzapur</td>\n",
       "      <td>amoxy</td>\n",
       "      <td>2023</td>\n",
       "      <td>4</td>\n",
       "      <td>105.0</td>\n",
       "      <td>2023-04-01</td>\n",
       "      <td>0</td>\n",
       "      <td>1</td>\n",
       "    </tr>\n",
       "    <tr>\n",
       "      <th>15</th>\n",
       "      <td>EC01:01 Mahrajganj Mirzapur</td>\n",
       "      <td>amoxy</td>\n",
       "      <td>2023</td>\n",
       "      <td>8</td>\n",
       "      <td>300.0</td>\n",
       "      <td>2023-08-01</td>\n",
       "      <td>0</td>\n",
       "      <td>1</td>\n",
       "    </tr>\n",
       "    <tr>\n",
       "      <th>16</th>\n",
       "      <td>EC01:01 Mahrajganj Mirzapur</td>\n",
       "      <td>amoxy</td>\n",
       "      <td>2023</td>\n",
       "      <td>12</td>\n",
       "      <td>210.0</td>\n",
       "      <td>2023-12-01</td>\n",
       "      <td>0</td>\n",
       "      <td>1</td>\n",
       "    </tr>\n",
       "    <tr>\n",
       "      <th>17</th>\n",
       "      <td>EC01:01 Mahrajganj Mirzapur</td>\n",
       "      <td>amoxy</td>\n",
       "      <td>2023</td>\n",
       "      <td>2</td>\n",
       "      <td>141.0</td>\n",
       "      <td>2023-02-01</td>\n",
       "      <td>0</td>\n",
       "      <td>1</td>\n",
       "    </tr>\n",
       "    <tr>\n",
       "      <th>18</th>\n",
       "      <td>EC01:01 Mahrajganj Mirzapur</td>\n",
       "      <td>amoxy</td>\n",
       "      <td>2023</td>\n",
       "      <td>1</td>\n",
       "      <td>78.0</td>\n",
       "      <td>2023-01-01</td>\n",
       "      <td>0</td>\n",
       "      <td>1</td>\n",
       "    </tr>\n",
       "    <tr>\n",
       "      <th>...</th>\n",
       "      <td>...</td>\n",
       "      <td>...</td>\n",
       "      <td>...</td>\n",
       "      <td>...</td>\n",
       "      <td>...</td>\n",
       "      <td>...</td>\n",
       "      <td>...</td>\n",
       "      <td>...</td>\n",
       "    </tr>\n",
       "    <tr>\n",
       "      <th>256664</th>\n",
       "      <td>Master Clinic</td>\n",
       "      <td>vitamin-c chewable 500mg tablet</td>\n",
       "      <td>2024</td>\n",
       "      <td>4</td>\n",
       "      <td>6282.0</td>\n",
       "      <td>2024-04-01</td>\n",
       "      <td>615</td>\n",
       "      <td>33</td>\n",
       "    </tr>\n",
       "    <tr>\n",
       "      <th>256665</th>\n",
       "      <td>Master Clinic</td>\n",
       "      <td>vitamin-c chewable 500mg tablet</td>\n",
       "      <td>2024</td>\n",
       "      <td>2</td>\n",
       "      <td>13509.0</td>\n",
       "      <td>2024-02-01</td>\n",
       "      <td>615</td>\n",
       "      <td>33</td>\n",
       "    </tr>\n",
       "    <tr>\n",
       "      <th>256666</th>\n",
       "      <td>Master Clinic</td>\n",
       "      <td>vitamin-c chewable 500mg tablet</td>\n",
       "      <td>2024</td>\n",
       "      <td>1</td>\n",
       "      <td>12292.0</td>\n",
       "      <td>2024-01-01</td>\n",
       "      <td>615</td>\n",
       "      <td>33</td>\n",
       "    </tr>\n",
       "    <tr>\n",
       "      <th>256667</th>\n",
       "      <td>Master Clinic</td>\n",
       "      <td>vitamin-c chewable 500mg tablet</td>\n",
       "      <td>2024</td>\n",
       "      <td>3</td>\n",
       "      <td>13325.0</td>\n",
       "      <td>2024-03-01</td>\n",
       "      <td>615</td>\n",
       "      <td>33</td>\n",
       "    </tr>\n",
       "    <tr>\n",
       "      <th>256668</th>\n",
       "      <td>Master Clinic</td>\n",
       "      <td>vitamin-c chewable 500mg tablet</td>\n",
       "      <td>2024</td>\n",
       "      <td>5</td>\n",
       "      <td>6481.0</td>\n",
       "      <td>2024-05-01</td>\n",
       "      <td>615</td>\n",
       "      <td>33</td>\n",
       "    </tr>\n",
       "  </tbody>\n",
       "</table>\n",
       "<p>114545 rows × 8 columns</p>\n",
       "</div>"
      ],
      "text/plain": [
       "                        Clinic Name                    Medicine Name  Year  \\\n",
       "14      EC01:01 Mahrajganj Mirzapur                            amoxy  2023   \n",
       "15      EC01:01 Mahrajganj Mirzapur                            amoxy  2023   \n",
       "16      EC01:01 Mahrajganj Mirzapur                            amoxy  2023   \n",
       "17      EC01:01 Mahrajganj Mirzapur                            amoxy  2023   \n",
       "18      EC01:01 Mahrajganj Mirzapur                            amoxy  2023   \n",
       "...                             ...                              ...   ...   \n",
       "256664                Master Clinic  vitamin-c chewable 500mg tablet  2024   \n",
       "256665                Master Clinic  vitamin-c chewable 500mg tablet  2024   \n",
       "256666                Master Clinic  vitamin-c chewable 500mg tablet  2024   \n",
       "256667                Master Clinic  vitamin-c chewable 500mg tablet  2024   \n",
       "256668                Master Clinic  vitamin-c chewable 500mg tablet  2024   \n",
       "\n",
       "        Month  Total Requirement       Date  Clinic Name Encoded  \\\n",
       "14          4              105.0 2023-04-01                    0   \n",
       "15          8              300.0 2023-08-01                    0   \n",
       "16         12              210.0 2023-12-01                    0   \n",
       "17          2              141.0 2023-02-01                    0   \n",
       "18          1               78.0 2023-01-01                    0   \n",
       "...       ...                ...        ...                  ...   \n",
       "256664      4             6282.0 2024-04-01                  615   \n",
       "256665      2            13509.0 2024-02-01                  615   \n",
       "256666      1            12292.0 2024-01-01                  615   \n",
       "256667      3            13325.0 2024-03-01                  615   \n",
       "256668      5             6481.0 2024-05-01                  615   \n",
       "\n",
       "        Medicine Name Encoded  \n",
       "14                          1  \n",
       "15                          1  \n",
       "16                          1  \n",
       "17                          1  \n",
       "18                          1  \n",
       "...                       ...  \n",
       "256664                     33  \n",
       "256665                     33  \n",
       "256666                     33  \n",
       "256667                     33  \n",
       "256668                     33  \n",
       "\n",
       "[114545 rows x 8 columns]"
      ]
     },
     "execution_count": 196,
     "metadata": {},
     "output_type": "execute_result"
    }
   ],
   "source": [
    "filtered_data"
   ]
  },
  {
   "cell_type": "code",
   "execution_count": 197,
   "metadata": {},
   "outputs": [],
   "source": [
    "import pandas as pd\n",
    "from sklearn.model_selection import train_test_split\n",
    "from sklearn.tree import DecisionTreeRegressor\n",
    "from sklearn.metrics import mean_squared_error\n",
    "from sklearn.metrics import r2_score"
   ]
  },
  {
   "cell_type": "code",
   "execution_count": 198,
   "metadata": {},
   "outputs": [
    {
     "data": {
      "text/plain": [
       "616"
      ]
     },
     "execution_count": 198,
     "metadata": {},
     "output_type": "execute_result"
    }
   ],
   "source": [
    "unique_clinics = filtered_data[\"Clinic Name\"].unique()\n",
    "len(unique_clinics)\n"
   ]
  },
  {
   "cell_type": "code",
   "execution_count": 132,
   "metadata": {},
   "outputs": [],
   "source": [
    "import pandas as pd\n",
    "import numpy as np\n",
    "from sklearn.model_selection import train_test_split\n",
    "from sklearn.tree import DecisionTreeRegressor\n",
    "from sklearn.metrics import mean_squared_error, r2_score\n",
    "from sklearn.ensemble import (\n",
    "RandomForestRegressor,\n",
    "AdaBoostRegressor,\n",
    "GradientBoostingRegressor,\n",
    ")\n",
    "from sklearn.linear_model import LinearRegression\n",
    "from catboost import CatBoostRegressor\n",
    "import xgboost as xgb\n",
    "from sklearn.model_selection import GridSearchCV\n",
    "\n",
    "def evaluate_models(X_train, y_train, X_test, y_test, models, param, random_state=42):\n",
    "    report = {}\n",
    "\n",
    "    for i in range(len(list(models))):\n",
    "        model = list(models.values())[i]\n",
    "        para = param[list(models.keys())[i]]\n",
    "\n",
    "        gs = GridSearchCV(model, para, cv=3)\n",
    "        gs.fit(X_train, y_train)\n",
    "\n",
    "        model.set_params(**gs.best_params_)\n",
    "        model.fit(X_train, y_train)\n",
    "\n",
    "        y_train_pred = model.predict(X_train)\n",
    "        y_test_pred = model.predict(X_test)\n",
    "\n",
    "        test_model_score = r2_score(y_test, y_test_pred)\n",
    "        report[list(models.keys())[i]] = test_model_score\n",
    "\n",
    "\n",
    "    return report\n",
    "def automate_forecasting(filtered_data, start_index=0, end_index=None, random_state=42):\n",
    "    results = []\n",
    "    unique_clinics = filtered_data[\"Clinic Name\"].unique()\n",
    "    if end_index is None:\n",
    "        end_index = len(unique_clinics)\n",
    "\n",
    "    for idx, clinic in enumerate(\n",
    "        unique_clinics[start_index:end_index], start=start_index\n",
    "    ):\n",
    "        print(f\"Processing clinic {idx + 1} out of {len(unique_clinics)}\")\n",
    "        print(clinic)\n",
    "        clinic_data = filtered_data[filtered_data[\"Clinic Name\"] == clinic]\n",
    "\n",
    "        # Prepare training and testing data\n",
    "        train_data = clinic_data[\n",
    "            (clinic_data[\"Year\"] >= 2023)\n",
    "            & ((clinic_data[\"Year\"] < 2024) | (clinic_data[\"Month\"].isin([1, 2, 3,4])))\n",
    "        ].copy()\n",
    "        test_data = clinic_data[\n",
    "            (clinic_data[\"Year\"] == 2024) & (clinic_data[\"Month\"].isin([5]))\n",
    "        ].copy()\n",
    "        if len(train_data) == 0 or len(test_data) == 0:\n",
    "            print(f\"Skipping clinic '{clinic}' due to missing data.\")\n",
    "            continue\n",
    "        X_train = train_data[\n",
    "            [\"Clinic Name Encoded\", \"Medicine Name Encoded\", \"Year\", \"Month\"]\n",
    "        ]\n",
    "        y_train = train_data[\"Total Requirement\"]\n",
    "        X_test = test_data[\n",
    "            [\"Clinic Name Encoded\", \"Medicine Name Encoded\", \"Year\", \"Month\"]\n",
    "        ]\n",
    "        y_test = test_data[\"Total Requirement\"]\n",
    "\n",
    "        # Define models and parameters\n",
    "        models = {\n",
    "            \"Random Forest\": RandomForestRegressor(random_state=random_state),\n",
    "            \"Decision Tree\": DecisionTreeRegressor(random_state=random_state),\n",
    "            \"Gradient Boosting\": GradientBoostingRegressor(),\n",
    "            \"Linear Regression\": LinearRegression(),\n",
    "            \"XGBRegressor\": xgb.XGBRegressor(random_state=random_state),\n",
    "            \"AdaBoost Regressor\": AdaBoostRegressor(random_state=random_state),\n",
    "            \"CatBoosting Regressor\": CatBoostRegressor(\n",
    "                verbose=False, random_seed=random_state\n",
    "            ),\n",
    "        }\n",
    "\n",
    "        params = {\n",
    "            \"Decision Tree\": {\n",
    "                \"criterion\": [\n",
    "                    \"squared_error\",\n",
    "                    \"friedman_mse\",\n",
    "                    \"absolute_error\",\n",
    "                    \"poisson\",\n",
    "                ],\n",
    "                \"max_depth\": [None, 10, 20, 30, 40, 50],\n",
    "                \"min_samples_split\": [2, 5, 10],\n",
    "                \"min_samples_leaf\": [1, 2, 4],\n",
    "            },\n",
    "            \"Random Forest\": {\"n_estimators\": [8, 16, 32, 64, 128, 256]},\n",
    "            \"Gradient Boosting\": {\n",
    "                \"learning_rate\": [0.1, 0.01, 0.05, 0.001],\n",
    "                \"subsample\": [0.6, 0.7, 0.75, 0.8, 0.85, 0.9],\n",
    "                \"n_estimators\": [8, 16, 32, 64, 128, 256],\n",
    "            },\n",
    "            \"Linear Regression\": {},\n",
    "            \"XGBRegressor\": {\n",
    "                \"learning_rate\": [0.1, 0.01, 0.05, 0.001],\n",
    "                \"n_estimators\": [8, 16, 32, 64, 128, 256],\n",
    "            },\n",
    "            \"AdaBoost Regressor\": {\n",
    "                \"learning_rate\": [0.1, 0.01, 0.5, 0.001],\n",
    "                \"n_estimators\": [8, 16, 32, 64, 128, 256],\n",
    "            },\n",
    "            \"CatBoosting Regressor\": {\n",
    "                \"depth\": [6, 8, 10],\n",
    "                \"learning_rate\": [0.01, 0.05, 0.1],\n",
    "                \"iterations\": [30, 50, 100],\n",
    "            },\n",
    "        }\n",
    "\n",
    "        # Evaluate models and select the best one\n",
    "        model_report = evaluate_models(\n",
    "            X_train, y_train, X_test, y_test, models, params, random_state=random_state\n",
    "        )\n",
    "        best_model_score = max(sorted(model_report.values()))\n",
    "        best_model_name = list(model_report.keys())[\n",
    "            list(model_report.values()).index(best_model_score)\n",
    "        ]\n",
    "        best_model = models[best_model_name]\n",
    "        print(best_model_score)\n",
    "        y_pred_test = best_model.predict(X_test)\n",
    "        y_pred_test = np.round(y_pred_test)\n",
    "        y_pred_test_list = y_pred_test.tolist()\n",
    "\n",
    "        # Retrain the best model on all available data before forecasting June 2024\n",
    "        X_all = filtered_data[\n",
    "            [\"Clinic Name Encoded\", \"Medicine Name Encoded\", \"Year\", \"Month\"]\n",
    "        ]\n",
    "        y_all = filtered_data[\"Total Requirement\"]\n",
    "        best_model.fit(X_all, y_all)\n",
    "\n",
    "        # Predicting with the best model for test data (April, May 2024)\n",
    "        if best_model_score > 0.6:\n",
    "        \n",
    "\n",
    "            # Generate forecast for June 2024\n",
    "            june_2024_data = test_data.copy()\n",
    "            X_june_2024 = june_2024_data[\n",
    "                [\"Clinic Name Encoded\", \"Medicine Name Encoded\", \"Year\"]\n",
    "            ]\n",
    "            X_june_2024[\"Month\"] = 6\n",
    "            y_pred_june = best_model.predict(X_june_2024)\n",
    "            y_pred_june = np.round(y_pred_june)\n",
    "            y_pred_june_list = y_pred_june.tolist()\n",
    "\n",
    "            # Store the results\n",
    "            for idx, (actual, prediction_test, prediction_june) in enumerate(\n",
    "                zip(y_test, y_pred_test_list, y_pred_june_list)\n",
    "            ):\n",
    "                test_month = test_data.iloc[idx][\"Month\"]\n",
    "                test_year = test_data.iloc[idx][\"Year\"]\n",
    "                medicine_name = test_data.iloc[idx][\"Medicine Name\"]\n",
    "                results.append(\n",
    "                    {\n",
    "                        \"Clinic Name\": clinic,\n",
    "                        \"Medicine Name\": medicine_name,\n",
    "                        f\"{test_month}/{test_year} Actual Data\": actual,\n",
    "                        f\"{test_month}/{test_year} Predicted Data\": prediction_test,\n",
    "                        \"June 2024 Forecasted Data\": prediction_june,\n",
    "                    }\n",
    "                )\n",
    "\n",
    "    # Convert results to a DataFrame for better visualization\n",
    "    results_df = pd.DataFrame(results)\n",
    "\n",
    "    # Save results to a CSV file\n",
    "    results_df.to_csv(\"predictions_results.csv\", index=False)"
   ]
  },
  {
   "cell_type": "code",
   "execution_count": 133,
   "metadata": {},
   "outputs": [
    {
     "name": "stdout",
     "output_type": "stream",
     "text": [
      "Processing clinic 1 out of 220\n",
      "ECMT001 BULANDSHAHR MML Bulandshahr\n",
      "0.7334800024693185\n"
     ]
    },
    {
     "name": "stderr",
     "output_type": "stream",
     "text": [
      "C:\\Users\\siidh\\AppData\\Local\\Temp\\ipykernel_21192\\2638153196.py:147: SettingWithCopyWarning: \n",
      "A value is trying to be set on a copy of a slice from a DataFrame.\n",
      "Try using .loc[row_indexer,col_indexer] = value instead\n",
      "\n",
      "See the caveats in the documentation: https://pandas.pydata.org/pandas-docs/stable/user_guide/indexing.html#returning-a-view-versus-a-copy\n",
      "  X_june_2024[\"Month\"] = 6\n"
     ]
    },
    {
     "name": "stdout",
     "output_type": "stream",
     "text": [
      "Processing clinic 2 out of 220\n",
      "ECMT002 SIYANA MML\n",
      "0.8006639836192576\n",
      "Processing clinic 3 out of 220\n",
      "ECMT004 MOHANNAGAR MML GHAZIABAD\n"
     ]
    },
    {
     "name": "stderr",
     "output_type": "stream",
     "text": [
      "C:\\Users\\siidh\\AppData\\Local\\Temp\\ipykernel_21192\\2638153196.py:147: SettingWithCopyWarning: \n",
      "A value is trying to be set on a copy of a slice from a DataFrame.\n",
      "Try using .loc[row_indexer,col_indexer] = value instead\n",
      "\n",
      "See the caveats in the documentation: https://pandas.pydata.org/pandas-docs/stable/user_guide/indexing.html#returning-a-view-versus-a-copy\n",
      "  X_june_2024[\"Month\"] = 6\n"
     ]
    },
    {
     "name": "stdout",
     "output_type": "stream",
     "text": [
      "0.7775409589637815\n"
     ]
    },
    {
     "name": "stderr",
     "output_type": "stream",
     "text": [
      "C:\\Users\\siidh\\AppData\\Local\\Temp\\ipykernel_21192\\2638153196.py:147: SettingWithCopyWarning: \n",
      "A value is trying to be set on a copy of a slice from a DataFrame.\n",
      "Try using .loc[row_indexer,col_indexer] = value instead\n",
      "\n",
      "See the caveats in the documentation: https://pandas.pydata.org/pandas-docs/stable/user_guide/indexing.html#returning-a-view-versus-a-copy\n",
      "  X_june_2024[\"Month\"] = 6\n"
     ]
    },
    {
     "name": "stdout",
     "output_type": "stream",
     "text": [
      "Processing clinic 4 out of 220\n",
      "ECMT006 Rajgarh MML Mirzapur\n",
      "0.7416525975439578\n"
     ]
    },
    {
     "name": "stderr",
     "output_type": "stream",
     "text": [
      "C:\\Users\\siidh\\AppData\\Local\\Temp\\ipykernel_21192\\2638153196.py:147: SettingWithCopyWarning: \n",
      "A value is trying to be set on a copy of a slice from a DataFrame.\n",
      "Try using .loc[row_indexer,col_indexer] = value instead\n",
      "\n",
      "See the caveats in the documentation: https://pandas.pydata.org/pandas-docs/stable/user_guide/indexing.html#returning-a-view-versus-a-copy\n",
      "  X_june_2024[\"Month\"] = 6\n"
     ]
    },
    {
     "name": "stdout",
     "output_type": "stream",
     "text": [
      "Processing clinic 5 out of 220\n",
      "ECMT007 MAHUA Vaishali\n",
      "0.759678085978988\n"
     ]
    },
    {
     "name": "stderr",
     "output_type": "stream",
     "text": [
      "C:\\Users\\siidh\\AppData\\Local\\Temp\\ipykernel_21192\\2638153196.py:147: SettingWithCopyWarning: \n",
      "A value is trying to be set on a copy of a slice from a DataFrame.\n",
      "Try using .loc[row_indexer,col_indexer] = value instead\n",
      "\n",
      "See the caveats in the documentation: https://pandas.pydata.org/pandas-docs/stable/user_guide/indexing.html#returning-a-view-versus-a-copy\n",
      "  X_june_2024[\"Month\"] = 6\n"
     ]
    },
    {
     "name": "stdout",
     "output_type": "stream",
     "text": [
      "Processing clinic 6 out of 220\n",
      "ECMT010 JHANJHARPUR Madhubani\n",
      "0.4221065705358684\n",
      "Processing clinic 7 out of 220\n",
      "ECMT012 Karukachal 1 MML Kerala\n",
      "0.56336658553922\n",
      "Processing clinic 8 out of 220\n",
      "ECMT013 Pandalam MML Pathanamthitta\n",
      "0.8729307106803018\n"
     ]
    },
    {
     "name": "stderr",
     "output_type": "stream",
     "text": [
      "C:\\Users\\siidh\\AppData\\Local\\Temp\\ipykernel_21192\\2638153196.py:147: SettingWithCopyWarning: \n",
      "A value is trying to be set on a copy of a slice from a DataFrame.\n",
      "Try using .loc[row_indexer,col_indexer] = value instead\n",
      "\n",
      "See the caveats in the documentation: https://pandas.pydata.org/pandas-docs/stable/user_guide/indexing.html#returning-a-view-versus-a-copy\n",
      "  X_june_2024[\"Month\"] = 6\n"
     ]
    },
    {
     "name": "stdout",
     "output_type": "stream",
     "text": [
      "Processing clinic 9 out of 220\n",
      "ECMT014 Gamharia Saraiekela\n",
      "-1.1767050870932372\n",
      "Processing clinic 10 out of 220\n",
      "ECMT015 Kottayam MUKKOOTTUTHARA MML\n",
      "-0.13872256867460564\n",
      "Processing clinic 11 out of 220\n",
      "ECMT017 Ayoor MML Kollam\n",
      "0.8900731576359251\n"
     ]
    },
    {
     "name": "stderr",
     "output_type": "stream",
     "text": [
      "C:\\Users\\siidh\\AppData\\Local\\Temp\\ipykernel_21192\\2638153196.py:147: SettingWithCopyWarning: \n",
      "A value is trying to be set on a copy of a slice from a DataFrame.\n",
      "Try using .loc[row_indexer,col_indexer] = value instead\n",
      "\n",
      "See the caveats in the documentation: https://pandas.pydata.org/pandas-docs/stable/user_guide/indexing.html#returning-a-view-versus-a-copy\n",
      "  X_june_2024[\"Month\"] = 6\n"
     ]
    },
    {
     "name": "stdout",
     "output_type": "stream",
     "text": [
      "Processing clinic 12 out of 220\n",
      "ECMT020 Pratapgarh \n",
      "0.8340619573285707\n",
      "Processing clinic 13 out of 220\n",
      "ECMT021 Pathanampuram MML \n"
     ]
    },
    {
     "name": "stderr",
     "output_type": "stream",
     "text": [
      "C:\\Users\\siidh\\AppData\\Local\\Temp\\ipykernel_21192\\2638153196.py:147: SettingWithCopyWarning: \n",
      "A value is trying to be set on a copy of a slice from a DataFrame.\n",
      "Try using .loc[row_indexer,col_indexer] = value instead\n",
      "\n",
      "See the caveats in the documentation: https://pandas.pydata.org/pandas-docs/stable/user_guide/indexing.html#returning-a-view-versus-a-copy\n",
      "  X_june_2024[\"Month\"] = 6\n"
     ]
    },
    {
     "name": "stdout",
     "output_type": "stream",
     "text": [
      "0.43284776565692173\n",
      "Processing clinic 14 out of 220\n",
      "ECMT022 kanjirapally MML Kottayam\n",
      "0.7939922932414645\n"
     ]
    },
    {
     "name": "stderr",
     "output_type": "stream",
     "text": [
      "C:\\Users\\siidh\\AppData\\Local\\Temp\\ipykernel_21192\\2638153196.py:147: SettingWithCopyWarning: \n",
      "A value is trying to be set on a copy of a slice from a DataFrame.\n",
      "Try using .loc[row_indexer,col_indexer] = value instead\n",
      "\n",
      "See the caveats in the documentation: https://pandas.pydata.org/pandas-docs/stable/user_guide/indexing.html#returning-a-view-versus-a-copy\n",
      "  X_june_2024[\"Month\"] = 6\n"
     ]
    },
    {
     "name": "stdout",
     "output_type": "stream",
     "text": [
      "Processing clinic 15 out of 220\n",
      "ECMT023 KOTTARAKKARA MML Kollam\n",
      "0.8718798351648631\n"
     ]
    },
    {
     "name": "stderr",
     "output_type": "stream",
     "text": [
      "C:\\Users\\siidh\\AppData\\Local\\Temp\\ipykernel_21192\\2638153196.py:147: SettingWithCopyWarning: \n",
      "A value is trying to be set on a copy of a slice from a DataFrame.\n",
      "Try using .loc[row_indexer,col_indexer] = value instead\n",
      "\n",
      "See the caveats in the documentation: https://pandas.pydata.org/pandas-docs/stable/user_guide/indexing.html#returning-a-view-versus-a-copy\n",
      "  X_june_2024[\"Month\"] = 6\n"
     ]
    },
    {
     "name": "stdout",
     "output_type": "stream",
     "text": [
      "Processing clinic 16 out of 220\n",
      "ECMT024 CHERUPUZHA MML Kannur\n",
      "0.8745253684726024\n"
     ]
    },
    {
     "name": "stderr",
     "output_type": "stream",
     "text": [
      "C:\\Users\\siidh\\AppData\\Local\\Temp\\ipykernel_21192\\2638153196.py:147: SettingWithCopyWarning: \n",
      "A value is trying to be set on a copy of a slice from a DataFrame.\n",
      "Try using .loc[row_indexer,col_indexer] = value instead\n",
      "\n",
      "See the caveats in the documentation: https://pandas.pydata.org/pandas-docs/stable/user_guide/indexing.html#returning-a-view-versus-a-copy\n",
      "  X_june_2024[\"Month\"] = 6\n"
     ]
    },
    {
     "name": "stdout",
     "output_type": "stream",
     "text": [
      "Processing clinic 17 out of 220\n",
      "ECMT025 Nileswaram MML Kasargode\n",
      "0.8427074401279154\n"
     ]
    },
    {
     "name": "stderr",
     "output_type": "stream",
     "text": [
      "C:\\Users\\siidh\\AppData\\Local\\Temp\\ipykernel_21192\\2638153196.py:147: SettingWithCopyWarning: \n",
      "A value is trying to be set on a copy of a slice from a DataFrame.\n",
      "Try using .loc[row_indexer,col_indexer] = value instead\n",
      "\n",
      "See the caveats in the documentation: https://pandas.pydata.org/pandas-docs/stable/user_guide/indexing.html#returning-a-view-versus-a-copy\n",
      "  X_june_2024[\"Month\"] = 6\n"
     ]
    },
    {
     "name": "stdout",
     "output_type": "stream",
     "text": [
      "Processing clinic 18 out of 220\n",
      "ECMT027 Jaunpur MML\n",
      "0.8867508557241353\n"
     ]
    },
    {
     "name": "stderr",
     "output_type": "stream",
     "text": [
      "C:\\Users\\siidh\\AppData\\Local\\Temp\\ipykernel_21192\\2638153196.py:147: SettingWithCopyWarning: \n",
      "A value is trying to be set on a copy of a slice from a DataFrame.\n",
      "Try using .loc[row_indexer,col_indexer] = value instead\n",
      "\n",
      "See the caveats in the documentation: https://pandas.pydata.org/pandas-docs/stable/user_guide/indexing.html#returning-a-view-versus-a-copy\n",
      "  X_june_2024[\"Month\"] = 6\n"
     ]
    },
    {
     "name": "stdout",
     "output_type": "stream",
     "text": [
      "Processing clinic 19 out of 220\n",
      "ECMT028 Maliyana Road MML Meerut\n",
      "0.8987873823844784\n"
     ]
    },
    {
     "name": "stderr",
     "output_type": "stream",
     "text": [
      "C:\\Users\\siidh\\AppData\\Local\\Temp\\ipykernel_21192\\2638153196.py:147: SettingWithCopyWarning: \n",
      "A value is trying to be set on a copy of a slice from a DataFrame.\n",
      "Try using .loc[row_indexer,col_indexer] = value instead\n",
      "\n",
      "See the caveats in the documentation: https://pandas.pydata.org/pandas-docs/stable/user_guide/indexing.html#returning-a-view-versus-a-copy\n",
      "  X_june_2024[\"Month\"] = 6\n"
     ]
    },
    {
     "name": "stdout",
     "output_type": "stream",
     "text": [
      "Processing clinic 20 out of 220\n",
      "ECMT030 Meerut MML Meerut\n",
      "0.9501451491745933\n"
     ]
    },
    {
     "name": "stderr",
     "output_type": "stream",
     "text": [
      "C:\\Users\\siidh\\AppData\\Local\\Temp\\ipykernel_21192\\2638153196.py:147: SettingWithCopyWarning: \n",
      "A value is trying to be set on a copy of a slice from a DataFrame.\n",
      "Try using .loc[row_indexer,col_indexer] = value instead\n",
      "\n",
      "See the caveats in the documentation: https://pandas.pydata.org/pandas-docs/stable/user_guide/indexing.html#returning-a-view-versus-a-copy\n",
      "  X_june_2024[\"Month\"] = 6\n"
     ]
    },
    {
     "name": "stdout",
     "output_type": "stream",
     "text": [
      "Processing clinic 21 out of 220\n",
      "ECMT032 RANCHI MML RANCHI\n"
     ]
    },
    {
     "name": "stderr",
     "output_type": "stream",
     "text": [
      "c:\\Python311\\Lib\\site-packages\\sklearn\\metrics\\_regression.py:996: UndefinedMetricWarning: R^2 score is not well-defined with less than two samples.\n",
      "  warnings.warn(msg, UndefinedMetricWarning)\n",
      "c:\\Python311\\Lib\\site-packages\\sklearn\\metrics\\_regression.py:996: UndefinedMetricWarning: R^2 score is not well-defined with less than two samples.\n",
      "  warnings.warn(msg, UndefinedMetricWarning)\n",
      "c:\\Python311\\Lib\\site-packages\\sklearn\\metrics\\_regression.py:996: UndefinedMetricWarning: R^2 score is not well-defined with less than two samples.\n",
      "  warnings.warn(msg, UndefinedMetricWarning)\n",
      "c:\\Python311\\Lib\\site-packages\\sklearn\\metrics\\_regression.py:996: UndefinedMetricWarning: R^2 score is not well-defined with less than two samples.\n",
      "  warnings.warn(msg, UndefinedMetricWarning)\n",
      "c:\\Python311\\Lib\\site-packages\\sklearn\\metrics\\_regression.py:996: UndefinedMetricWarning: R^2 score is not well-defined with less than two samples.\n",
      "  warnings.warn(msg, UndefinedMetricWarning)\n",
      "c:\\Python311\\Lib\\site-packages\\sklearn\\metrics\\_regression.py:996: UndefinedMetricWarning: R^2 score is not well-defined with less than two samples.\n",
      "  warnings.warn(msg, UndefinedMetricWarning)\n",
      "c:\\Python311\\Lib\\site-packages\\sklearn\\metrics\\_regression.py:996: UndefinedMetricWarning: R^2 score is not well-defined with less than two samples.\n",
      "  warnings.warn(msg, UndefinedMetricWarning)\n"
     ]
    },
    {
     "name": "stdout",
     "output_type": "stream",
     "text": [
      "nan\n",
      "Processing clinic 22 out of 220\n",
      "ECMT034 HAPUR MML HAPUR\n",
      "0.8043788331068183\n"
     ]
    },
    {
     "name": "stderr",
     "output_type": "stream",
     "text": [
      "C:\\Users\\siidh\\AppData\\Local\\Temp\\ipykernel_21192\\2638153196.py:147: SettingWithCopyWarning: \n",
      "A value is trying to be set on a copy of a slice from a DataFrame.\n",
      "Try using .loc[row_indexer,col_indexer] = value instead\n",
      "\n",
      "See the caveats in the documentation: https://pandas.pydata.org/pandas-docs/stable/user_guide/indexing.html#returning-a-view-versus-a-copy\n",
      "  X_june_2024[\"Month\"] = 6\n"
     ]
    },
    {
     "name": "stdout",
     "output_type": "stream",
     "text": [
      "Processing clinic 23 out of 220\n",
      "ECMT036 PAYYANNUR MML\n",
      "0.7815599646432723\n"
     ]
    },
    {
     "name": "stderr",
     "output_type": "stream",
     "text": [
      "C:\\Users\\siidh\\AppData\\Local\\Temp\\ipykernel_21192\\2638153196.py:147: SettingWithCopyWarning: \n",
      "A value is trying to be set on a copy of a slice from a DataFrame.\n",
      "Try using .loc[row_indexer,col_indexer] = value instead\n",
      "\n",
      "See the caveats in the documentation: https://pandas.pydata.org/pandas-docs/stable/user_guide/indexing.html#returning-a-view-versus-a-copy\n",
      "  X_june_2024[\"Month\"] = 6\n"
     ]
    },
    {
     "name": "stdout",
     "output_type": "stream",
     "text": [
      "Processing clinic 24 out of 220\n",
      "ECMT040 Allahabad MML\n",
      "0.2523682656468762\n",
      "Processing clinic 25 out of 220\n",
      "ECMT041 FAIZABAD MML FAIZABAD\n",
      "-0.7589855420382596\n",
      "Processing clinic 26 out of 220\n",
      "ECMT043 BIJNOR MML BIJNOR\n",
      "0.8419504709380898\n"
     ]
    },
    {
     "name": "stderr",
     "output_type": "stream",
     "text": [
      "C:\\Users\\siidh\\AppData\\Local\\Temp\\ipykernel_21192\\2638153196.py:147: SettingWithCopyWarning: \n",
      "A value is trying to be set on a copy of a slice from a DataFrame.\n",
      "Try using .loc[row_indexer,col_indexer] = value instead\n",
      "\n",
      "See the caveats in the documentation: https://pandas.pydata.org/pandas-docs/stable/user_guide/indexing.html#returning-a-view-versus-a-copy\n",
      "  X_june_2024[\"Month\"] = 6\n"
     ]
    },
    {
     "name": "stdout",
     "output_type": "stream",
     "text": [
      "Processing clinic 27 out of 220\n",
      "ECMT044 PILAKHUA TEHSIL MML HAPUR\n",
      "0.810258632788841\n"
     ]
    },
    {
     "name": "stderr",
     "output_type": "stream",
     "text": [
      "C:\\Users\\siidh\\AppData\\Local\\Temp\\ipykernel_21192\\2638153196.py:147: SettingWithCopyWarning: \n",
      "A value is trying to be set on a copy of a slice from a DataFrame.\n",
      "Try using .loc[row_indexer,col_indexer] = value instead\n",
      "\n",
      "See the caveats in the documentation: https://pandas.pydata.org/pandas-docs/stable/user_guide/indexing.html#returning-a-view-versus-a-copy\n",
      "  X_june_2024[\"Month\"] = 6\n"
     ]
    },
    {
     "name": "stdout",
     "output_type": "stream",
     "text": [
      "Processing clinic 28 out of 220\n",
      "ECMT045 Kalyanpur Samastipur\n",
      "0.9219375218917266\n"
     ]
    },
    {
     "name": "stderr",
     "output_type": "stream",
     "text": [
      "C:\\Users\\siidh\\AppData\\Local\\Temp\\ipykernel_21192\\2638153196.py:147: SettingWithCopyWarning: \n",
      "A value is trying to be set on a copy of a slice from a DataFrame.\n",
      "Try using .loc[row_indexer,col_indexer] = value instead\n",
      "\n",
      "See the caveats in the documentation: https://pandas.pydata.org/pandas-docs/stable/user_guide/indexing.html#returning-a-view-versus-a-copy\n",
      "  X_june_2024[\"Month\"] = 6\n"
     ]
    },
    {
     "name": "stdout",
     "output_type": "stream",
     "text": [
      "Processing clinic 29 out of 220\n",
      "ECMT046 Vadakara MML Calicut\n",
      "-0.18581606866570266\n",
      "Processing clinic 30 out of 220\n",
      "ECMT048 Karukachal MML 2 Kottayam\n",
      "0.9039297525625206\n"
     ]
    },
    {
     "name": "stderr",
     "output_type": "stream",
     "text": [
      "C:\\Users\\siidh\\AppData\\Local\\Temp\\ipykernel_21192\\2638153196.py:147: SettingWithCopyWarning: \n",
      "A value is trying to be set on a copy of a slice from a DataFrame.\n",
      "Try using .loc[row_indexer,col_indexer] = value instead\n",
      "\n",
      "See the caveats in the documentation: https://pandas.pydata.org/pandas-docs/stable/user_guide/indexing.html#returning-a-view-versus-a-copy\n",
      "  X_june_2024[\"Month\"] = 6\n"
     ]
    },
    {
     "name": "stdout",
     "output_type": "stream",
     "text": [
      "Processing clinic 31 out of 220\n",
      "ECMT049 Bharanikav MML\n",
      "0.9134023034490126\n"
     ]
    },
    {
     "name": "stderr",
     "output_type": "stream",
     "text": [
      "C:\\Users\\siidh\\AppData\\Local\\Temp\\ipykernel_21192\\2638153196.py:147: SettingWithCopyWarning: \n",
      "A value is trying to be set on a copy of a slice from a DataFrame.\n",
      "Try using .loc[row_indexer,col_indexer] = value instead\n",
      "\n",
      "See the caveats in the documentation: https://pandas.pydata.org/pandas-docs/stable/user_guide/indexing.html#returning-a-view-versus-a-copy\n",
      "  X_june_2024[\"Month\"] = 6\n"
     ]
    },
    {
     "name": "stdout",
     "output_type": "stream",
     "text": [
      "Processing clinic 32 out of 220\n",
      "ECMT050 MODINAGAR MML MEERUT\n",
      "0.9266023714082116\n"
     ]
    },
    {
     "name": "stderr",
     "output_type": "stream",
     "text": [
      "C:\\Users\\siidh\\AppData\\Local\\Temp\\ipykernel_21192\\2638153196.py:147: SettingWithCopyWarning: \n",
      "A value is trying to be set on a copy of a slice from a DataFrame.\n",
      "Try using .loc[row_indexer,col_indexer] = value instead\n",
      "\n",
      "See the caveats in the documentation: https://pandas.pydata.org/pandas-docs/stable/user_guide/indexing.html#returning-a-view-versus-a-copy\n",
      "  X_june_2024[\"Month\"] = 6\n"
     ]
    },
    {
     "name": "stdout",
     "output_type": "stream",
     "text": [
      "Processing clinic 33 out of 220\n",
      "ECMT051 Dhalauna MML Hapur\n",
      "0.8704644674577698\n"
     ]
    },
    {
     "name": "stderr",
     "output_type": "stream",
     "text": [
      "C:\\Users\\siidh\\AppData\\Local\\Temp\\ipykernel_21192\\2638153196.py:147: SettingWithCopyWarning: \n",
      "A value is trying to be set on a copy of a slice from a DataFrame.\n",
      "Try using .loc[row_indexer,col_indexer] = value instead\n",
      "\n",
      "See the caveats in the documentation: https://pandas.pydata.org/pandas-docs/stable/user_guide/indexing.html#returning-a-view-versus-a-copy\n",
      "  X_june_2024[\"Month\"] = 6\n"
     ]
    },
    {
     "name": "stdout",
     "output_type": "stream",
     "text": [
      "Processing clinic 34 out of 220\n",
      "ECMT052 Karond Bhopal MML\n",
      "0.08342539024538387\n",
      "Processing clinic 35 out of 220\n",
      "ECMT053 Govindpur Dhanbad\n",
      "0.45263191375116385\n",
      "Processing clinic 36 out of 220\n",
      "ECMT056 Mawana MML Meerut\n",
      "-1.4878175307893682\n",
      "Processing clinic 37 out of 220\n",
      "ECMT057 GAZIABAD MML GAZIABAD\n"
     ]
    },
    {
     "name": "stderr",
     "output_type": "stream",
     "text": [
      "c:\\Python311\\Lib\\site-packages\\sklearn\\metrics\\_regression.py:996: UndefinedMetricWarning: R^2 score is not well-defined with less than two samples.\n",
      "  warnings.warn(msg, UndefinedMetricWarning)\n",
      "c:\\Python311\\Lib\\site-packages\\sklearn\\metrics\\_regression.py:996: UndefinedMetricWarning: R^2 score is not well-defined with less than two samples.\n",
      "  warnings.warn(msg, UndefinedMetricWarning)\n",
      "c:\\Python311\\Lib\\site-packages\\sklearn\\metrics\\_regression.py:996: UndefinedMetricWarning: R^2 score is not well-defined with less than two samples.\n",
      "  warnings.warn(msg, UndefinedMetricWarning)\n",
      "c:\\Python311\\Lib\\site-packages\\sklearn\\metrics\\_regression.py:996: UndefinedMetricWarning: R^2 score is not well-defined with less than two samples.\n",
      "  warnings.warn(msg, UndefinedMetricWarning)\n",
      "c:\\Python311\\Lib\\site-packages\\sklearn\\metrics\\_regression.py:996: UndefinedMetricWarning: R^2 score is not well-defined with less than two samples.\n",
      "  warnings.warn(msg, UndefinedMetricWarning)\n",
      "c:\\Python311\\Lib\\site-packages\\sklearn\\metrics\\_regression.py:996: UndefinedMetricWarning: R^2 score is not well-defined with less than two samples.\n",
      "  warnings.warn(msg, UndefinedMetricWarning)\n",
      "c:\\Python311\\Lib\\site-packages\\sklearn\\metrics\\_regression.py:996: UndefinedMetricWarning: R^2 score is not well-defined with less than two samples.\n",
      "  warnings.warn(msg, UndefinedMetricWarning)\n"
     ]
    },
    {
     "name": "stdout",
     "output_type": "stream",
     "text": [
      "nan\n",
      "Processing clinic 38 out of 220\n",
      "ECMT058 Khurja MML Bulandshahr\n",
      "0.22259268434070667\n",
      "Processing clinic 39 out of 220\n",
      "ECMT060 Kundara MML Kollam\n",
      "0.5399380262082791\n",
      "Processing clinic 40 out of 220\n",
      "ECMT065 Lucknow MML\n",
      "0.7031316352165492\n"
     ]
    },
    {
     "name": "stderr",
     "output_type": "stream",
     "text": [
      "C:\\Users\\siidh\\AppData\\Local\\Temp\\ipykernel_21192\\2638153196.py:147: SettingWithCopyWarning: \n",
      "A value is trying to be set on a copy of a slice from a DataFrame.\n",
      "Try using .loc[row_indexer,col_indexer] = value instead\n",
      "\n",
      "See the caveats in the documentation: https://pandas.pydata.org/pandas-docs/stable/user_guide/indexing.html#returning-a-view-versus-a-copy\n",
      "  X_june_2024[\"Month\"] = 6\n"
     ]
    },
    {
     "name": "stdout",
     "output_type": "stream",
     "text": [
      "Processing clinic 41 out of 220\n",
      "ECMT068 Puthiyatheru MML Kannur\n",
      "Skipping clinic 'ECMT068 Puthiyatheru MML Kannur' due to missing data.\n",
      "Processing clinic 42 out of 220\n",
      "ECMT071 Chandpur MML Bijnor\n",
      "0.24697676943290547\n",
      "Processing clinic 43 out of 220\n",
      "ECMT072 DHAMPUR MML BIJNOR \n",
      "0.5368452348692379\n",
      "Processing clinic 44 out of 220\n",
      "ECMT073 KHATAULI MML MUZAFFARNAGAR\n",
      "0.8095403211071966\n"
     ]
    },
    {
     "name": "stderr",
     "output_type": "stream",
     "text": [
      "C:\\Users\\siidh\\AppData\\Local\\Temp\\ipykernel_21192\\2638153196.py:147: SettingWithCopyWarning: \n",
      "A value is trying to be set on a copy of a slice from a DataFrame.\n",
      "Try using .loc[row_indexer,col_indexer] = value instead\n",
      "\n",
      "See the caveats in the documentation: https://pandas.pydata.org/pandas-docs/stable/user_guide/indexing.html#returning-a-view-versus-a-copy\n",
      "  X_june_2024[\"Month\"] = 6\n"
     ]
    },
    {
     "name": "stdout",
     "output_type": "stream",
     "text": [
      "Processing clinic 45 out of 220\n",
      "ECMT076 KANNANALLOOR MML KOLLAM\n",
      "0.6825109176769202\n"
     ]
    },
    {
     "name": "stderr",
     "output_type": "stream",
     "text": [
      "C:\\Users\\siidh\\AppData\\Local\\Temp\\ipykernel_21192\\2638153196.py:147: SettingWithCopyWarning: \n",
      "A value is trying to be set on a copy of a slice from a DataFrame.\n",
      "Try using .loc[row_indexer,col_indexer] = value instead\n",
      "\n",
      "See the caveats in the documentation: https://pandas.pydata.org/pandas-docs/stable/user_guide/indexing.html#returning-a-view-versus-a-copy\n",
      "  X_june_2024[\"Month\"] = 6\n"
     ]
    },
    {
     "name": "stdout",
     "output_type": "stream",
     "text": [
      "Processing clinic 46 out of 220\n",
      "ECMT077 IGLAS MML ALIGARH\n",
      "0.6476281568085971\n"
     ]
    },
    {
     "name": "stderr",
     "output_type": "stream",
     "text": [
      "C:\\Users\\siidh\\AppData\\Local\\Temp\\ipykernel_21192\\2638153196.py:147: SettingWithCopyWarning: \n",
      "A value is trying to be set on a copy of a slice from a DataFrame.\n",
      "Try using .loc[row_indexer,col_indexer] = value instead\n",
      "\n",
      "See the caveats in the documentation: https://pandas.pydata.org/pandas-docs/stable/user_guide/indexing.html#returning-a-view-versus-a-copy\n",
      "  X_june_2024[\"Month\"] = 6\n"
     ]
    },
    {
     "name": "stdout",
     "output_type": "stream",
     "text": [
      "Processing clinic 47 out of 220\n",
      "ECMT079 FEROZABAD MML FEROZABAD\n",
      "0.7877268595016124\n",
      "Processing clinic 48 out of 220\n",
      "ECMT080 MORADABAD MML MORADABAD\n"
     ]
    },
    {
     "name": "stderr",
     "output_type": "stream",
     "text": [
      "C:\\Users\\siidh\\AppData\\Local\\Temp\\ipykernel_21192\\2638153196.py:147: SettingWithCopyWarning: \n",
      "A value is trying to be set on a copy of a slice from a DataFrame.\n",
      "Try using .loc[row_indexer,col_indexer] = value instead\n",
      "\n",
      "See the caveats in the documentation: https://pandas.pydata.org/pandas-docs/stable/user_guide/indexing.html#returning-a-view-versus-a-copy\n",
      "  X_june_2024[\"Month\"] = 6\n"
     ]
    },
    {
     "name": "stdout",
     "output_type": "stream",
     "text": [
      "-1.1584944367809453\n",
      "Processing clinic 49 out of 220\n",
      "ECMT081 JHALWA MML PRAYAGRAJ\n",
      "0.6633267052394876\n"
     ]
    },
    {
     "name": "stderr",
     "output_type": "stream",
     "text": [
      "C:\\Users\\siidh\\AppData\\Local\\Temp\\ipykernel_21192\\2638153196.py:147: SettingWithCopyWarning: \n",
      "A value is trying to be set on a copy of a slice from a DataFrame.\n",
      "Try using .loc[row_indexer,col_indexer] = value instead\n",
      "\n",
      "See the caveats in the documentation: https://pandas.pydata.org/pandas-docs/stable/user_guide/indexing.html#returning-a-view-versus-a-copy\n",
      "  X_june_2024[\"Month\"] = 6\n"
     ]
    },
    {
     "name": "stdout",
     "output_type": "stream",
     "text": [
      "Processing clinic 50 out of 220\n",
      "ECMT082 TUNDLA MML FIROZABAD\n",
      "0.6814620558954292\n"
     ]
    },
    {
     "name": "stderr",
     "output_type": "stream",
     "text": [
      "C:\\Users\\siidh\\AppData\\Local\\Temp\\ipykernel_21192\\2638153196.py:147: SettingWithCopyWarning: \n",
      "A value is trying to be set on a copy of a slice from a DataFrame.\n",
      "Try using .loc[row_indexer,col_indexer] = value instead\n",
      "\n",
      "See the caveats in the documentation: https://pandas.pydata.org/pandas-docs/stable/user_guide/indexing.html#returning-a-view-versus-a-copy\n",
      "  X_june_2024[\"Month\"] = 6\n"
     ]
    },
    {
     "name": "stdout",
     "output_type": "stream",
     "text": [
      "Processing clinic 51 out of 220\n",
      "ECMT083 HATHRAS MML HATHRAS \n",
      "0.13066449358618515\n",
      "Processing clinic 52 out of 220\n",
      "ECMT084 SASNI MML HATHRAS\n",
      "0.8508956595472648\n"
     ]
    },
    {
     "name": "stderr",
     "output_type": "stream",
     "text": [
      "C:\\Users\\siidh\\AppData\\Local\\Temp\\ipykernel_21192\\2638153196.py:147: SettingWithCopyWarning: \n",
      "A value is trying to be set on a copy of a slice from a DataFrame.\n",
      "Try using .loc[row_indexer,col_indexer] = value instead\n",
      "\n",
      "See the caveats in the documentation: https://pandas.pydata.org/pandas-docs/stable/user_guide/indexing.html#returning-a-view-versus-a-copy\n",
      "  X_june_2024[\"Month\"] = 6\n"
     ]
    },
    {
     "name": "stdout",
     "output_type": "stream",
     "text": [
      "Processing clinic 53 out of 220\n",
      "ECMT086 SHASTHAMKOTTA MML KOLLAM\n",
      "-0.3059894269105332\n",
      "Processing clinic 54 out of 220\n",
      "ECMT087 KARUNAGAPALLY MML KOLLAM\n",
      "0.6974796703431099\n",
      "Processing clinic 55 out of 220\n",
      "ECMT088 ADOOR MML PATHANAMTHITA\n"
     ]
    },
    {
     "name": "stderr",
     "output_type": "stream",
     "text": [
      "C:\\Users\\siidh\\AppData\\Local\\Temp\\ipykernel_21192\\2638153196.py:147: SettingWithCopyWarning: \n",
      "A value is trying to be set on a copy of a slice from a DataFrame.\n",
      "Try using .loc[row_indexer,col_indexer] = value instead\n",
      "\n",
      "See the caveats in the documentation: https://pandas.pydata.org/pandas-docs/stable/user_guide/indexing.html#returning-a-view-versus-a-copy\n",
      "  X_june_2024[\"Month\"] = 6\n"
     ]
    },
    {
     "name": "stdout",
     "output_type": "stream",
     "text": [
      "0.9323027021063055\n"
     ]
    },
    {
     "name": "stderr",
     "output_type": "stream",
     "text": [
      "C:\\Users\\siidh\\AppData\\Local\\Temp\\ipykernel_21192\\2638153196.py:147: SettingWithCopyWarning: \n",
      "A value is trying to be set on a copy of a slice from a DataFrame.\n",
      "Try using .loc[row_indexer,col_indexer] = value instead\n",
      "\n",
      "See the caveats in the documentation: https://pandas.pydata.org/pandas-docs/stable/user_guide/indexing.html#returning-a-view-versus-a-copy\n",
      "  X_june_2024[\"Month\"] = 6\n"
     ]
    },
    {
     "name": "stdout",
     "output_type": "stream",
     "text": [
      "Processing clinic 56 out of 220\n",
      "ECMT092 NILAMBUR MML MALAPPURAM\n",
      "Skipping clinic 'ECMT092 NILAMBUR MML MALAPPURAM' due to missing data.\n",
      "Processing clinic 57 out of 220\n",
      "ECMT093 CHAMPA NAGAR MML PURNEA\n",
      "0.908830895888735\n"
     ]
    },
    {
     "name": "stderr",
     "output_type": "stream",
     "text": [
      "C:\\Users\\siidh\\AppData\\Local\\Temp\\ipykernel_21192\\2638153196.py:147: SettingWithCopyWarning: \n",
      "A value is trying to be set on a copy of a slice from a DataFrame.\n",
      "Try using .loc[row_indexer,col_indexer] = value instead\n",
      "\n",
      "See the caveats in the documentation: https://pandas.pydata.org/pandas-docs/stable/user_guide/indexing.html#returning-a-view-versus-a-copy\n",
      "  X_june_2024[\"Month\"] = 6\n"
     ]
    },
    {
     "name": "stdout",
     "output_type": "stream",
     "text": [
      "Processing clinic 58 out of 220\n",
      "ECMT094 RAMGARH MML RAMGARH\n",
      "0.8031511476545705\n"
     ]
    },
    {
     "name": "stderr",
     "output_type": "stream",
     "text": [
      "C:\\Users\\siidh\\AppData\\Local\\Temp\\ipykernel_21192\\2638153196.py:147: SettingWithCopyWarning: \n",
      "A value is trying to be set on a copy of a slice from a DataFrame.\n",
      "Try using .loc[row_indexer,col_indexer] = value instead\n",
      "\n",
      "See the caveats in the documentation: https://pandas.pydata.org/pandas-docs/stable/user_guide/indexing.html#returning-a-view-versus-a-copy\n",
      "  X_june_2024[\"Month\"] = 6\n"
     ]
    },
    {
     "name": "stdout",
     "output_type": "stream",
     "text": [
      "Processing clinic 59 out of 220\n",
      "ECMT095 DUMKA MML DUMKA\n",
      "0.8270248912598095\n"
     ]
    },
    {
     "name": "stderr",
     "output_type": "stream",
     "text": [
      "C:\\Users\\siidh\\AppData\\Local\\Temp\\ipykernel_21192\\2638153196.py:147: SettingWithCopyWarning: \n",
      "A value is trying to be set on a copy of a slice from a DataFrame.\n",
      "Try using .loc[row_indexer,col_indexer] = value instead\n",
      "\n",
      "See the caveats in the documentation: https://pandas.pydata.org/pandas-docs/stable/user_guide/indexing.html#returning-a-view-versus-a-copy\n",
      "  X_june_2024[\"Month\"] = 6\n"
     ]
    },
    {
     "name": "stdout",
     "output_type": "stream",
     "text": [
      "Processing clinic 60 out of 220\n",
      "ECMT097 ALANGULAM MML THENKASI\n",
      "-0.22060303989306718\n",
      "Processing clinic 61 out of 220\n",
      "ECMT098 AMBASAMUTHIRAM MML TIRUNELVELI\n",
      "0.6751274791346302\n"
     ]
    },
    {
     "name": "stderr",
     "output_type": "stream",
     "text": [
      "C:\\Users\\siidh\\AppData\\Local\\Temp\\ipykernel_21192\\2638153196.py:147: SettingWithCopyWarning: \n",
      "A value is trying to be set on a copy of a slice from a DataFrame.\n",
      "Try using .loc[row_indexer,col_indexer] = value instead\n",
      "\n",
      "See the caveats in the documentation: https://pandas.pydata.org/pandas-docs/stable/user_guide/indexing.html#returning-a-view-versus-a-copy\n",
      "  X_june_2024[\"Month\"] = 6\n"
     ]
    },
    {
     "name": "stdout",
     "output_type": "stream",
     "text": [
      "Processing clinic 62 out of 220\n",
      "ECMT099 MALIHABAD MML LUCKNOW\n",
      "0.3032916308155784\n",
      "Processing clinic 63 out of 220\n",
      "ECMT100 SAGAR MML SAGAR\n",
      "0.0\n",
      "Processing clinic 64 out of 220\n",
      "ECMT101 DEHRI ON SONE MML \n",
      "0.007964470712670146\n",
      "Processing clinic 65 out of 220\n",
      "ECMT102 MEDU JUNCTION MML HATHRAS\n",
      "-0.15035805846151407\n",
      "Processing clinic 66 out of 220\n",
      "ECMT103 TAMAKUHI RAJ MML \n",
      "0.5482565351973443\n",
      "Processing clinic 67 out of 220\n",
      "ECMT104 SADABAD MML HATHRAS\n",
      "0.7389953847172871\n",
      "Processing clinic 68 out of 220\n",
      "ECMT106 ALIGARH BUS STAND MML ALIGARH\n"
     ]
    },
    {
     "name": "stderr",
     "output_type": "stream",
     "text": [
      "C:\\Users\\siidh\\AppData\\Local\\Temp\\ipykernel_21192\\2638153196.py:147: SettingWithCopyWarning: \n",
      "A value is trying to be set on a copy of a slice from a DataFrame.\n",
      "Try using .loc[row_indexer,col_indexer] = value instead\n",
      "\n",
      "See the caveats in the documentation: https://pandas.pydata.org/pandas-docs/stable/user_guide/indexing.html#returning-a-view-versus-a-copy\n",
      "  X_june_2024[\"Month\"] = 6\n"
     ]
    },
    {
     "name": "stdout",
     "output_type": "stream",
     "text": [
      "0.9156623930239406\n"
     ]
    },
    {
     "name": "stderr",
     "output_type": "stream",
     "text": [
      "C:\\Users\\siidh\\AppData\\Local\\Temp\\ipykernel_21192\\2638153196.py:147: SettingWithCopyWarning: \n",
      "A value is trying to be set on a copy of a slice from a DataFrame.\n",
      "Try using .loc[row_indexer,col_indexer] = value instead\n",
      "\n",
      "See the caveats in the documentation: https://pandas.pydata.org/pandas-docs/stable/user_guide/indexing.html#returning-a-view-versus-a-copy\n",
      "  X_june_2024[\"Month\"] = 6\n"
     ]
    },
    {
     "name": "stdout",
     "output_type": "stream",
     "text": [
      "Processing clinic 69 out of 220\n",
      "ECMT107 FAZILNAGAR MML KHUSINAGAR \n",
      "0.28772235569635785\n",
      "Processing clinic 70 out of 220\n",
      "ECMT109 BANKA MML BANKA\n",
      "0.6667541269647532\n"
     ]
    },
    {
     "name": "stderr",
     "output_type": "stream",
     "text": [
      "C:\\Users\\siidh\\AppData\\Local\\Temp\\ipykernel_21192\\2638153196.py:147: SettingWithCopyWarning: \n",
      "A value is trying to be set on a copy of a slice from a DataFrame.\n",
      "Try using .loc[row_indexer,col_indexer] = value instead\n",
      "\n",
      "See the caveats in the documentation: https://pandas.pydata.org/pandas-docs/stable/user_guide/indexing.html#returning-a-view-versus-a-copy\n",
      "  X_june_2024[\"Month\"] = 6\n"
     ]
    },
    {
     "name": "stdout",
     "output_type": "stream",
     "text": [
      "Processing clinic 71 out of 220\n",
      "ECMT110 VALLIYUR MML TIRUNELVELI\n",
      "0.7804523618962145\n"
     ]
    },
    {
     "name": "stderr",
     "output_type": "stream",
     "text": [
      "C:\\Users\\siidh\\AppData\\Local\\Temp\\ipykernel_21192\\2638153196.py:147: SettingWithCopyWarning: \n",
      "A value is trying to be set on a copy of a slice from a DataFrame.\n",
      "Try using .loc[row_indexer,col_indexer] = value instead\n",
      "\n",
      "See the caveats in the documentation: https://pandas.pydata.org/pandas-docs/stable/user_guide/indexing.html#returning-a-view-versus-a-copy\n",
      "  X_june_2024[\"Month\"] = 6\n"
     ]
    },
    {
     "name": "stdout",
     "output_type": "stream",
     "text": [
      "Processing clinic 72 out of 220\n",
      "ECMT111 ALIGARH MML ALIGARH \n",
      "0.7355339404015848\n"
     ]
    },
    {
     "name": "stderr",
     "output_type": "stream",
     "text": [
      "C:\\Users\\siidh\\AppData\\Local\\Temp\\ipykernel_21192\\2638153196.py:147: SettingWithCopyWarning: \n",
      "A value is trying to be set on a copy of a slice from a DataFrame.\n",
      "Try using .loc[row_indexer,col_indexer] = value instead\n",
      "\n",
      "See the caveats in the documentation: https://pandas.pydata.org/pandas-docs/stable/user_guide/indexing.html#returning-a-view-versus-a-copy\n",
      "  X_june_2024[\"Month\"] = 6\n"
     ]
    },
    {
     "name": "stdout",
     "output_type": "stream",
     "text": [
      "Processing clinic 73 out of 220\n",
      "ECMT116 GUNDLUPET MML CHAMARAJANAGARA\n"
     ]
    },
    {
     "name": "stderr",
     "output_type": "stream",
     "text": [
      "c:\\Python311\\Lib\\site-packages\\sklearn\\metrics\\_regression.py:996: UndefinedMetricWarning: R^2 score is not well-defined with less than two samples.\n",
      "  warnings.warn(msg, UndefinedMetricWarning)\n",
      "c:\\Python311\\Lib\\site-packages\\sklearn\\metrics\\_regression.py:996: UndefinedMetricWarning: R^2 score is not well-defined with less than two samples.\n",
      "  warnings.warn(msg, UndefinedMetricWarning)\n",
      "c:\\Python311\\Lib\\site-packages\\sklearn\\metrics\\_regression.py:996: UndefinedMetricWarning: R^2 score is not well-defined with less than two samples.\n",
      "  warnings.warn(msg, UndefinedMetricWarning)\n",
      "c:\\Python311\\Lib\\site-packages\\sklearn\\metrics\\_regression.py:996: UndefinedMetricWarning: R^2 score is not well-defined with less than two samples.\n",
      "  warnings.warn(msg, UndefinedMetricWarning)\n",
      "c:\\Python311\\Lib\\site-packages\\sklearn\\metrics\\_regression.py:996: UndefinedMetricWarning: R^2 score is not well-defined with less than two samples.\n",
      "  warnings.warn(msg, UndefinedMetricWarning)\n",
      "c:\\Python311\\Lib\\site-packages\\sklearn\\metrics\\_regression.py:996: UndefinedMetricWarning: R^2 score is not well-defined with less than two samples.\n",
      "  warnings.warn(msg, UndefinedMetricWarning)\n",
      "c:\\Python311\\Lib\\site-packages\\sklearn\\metrics\\_regression.py:996: UndefinedMetricWarning: R^2 score is not well-defined with less than two samples.\n",
      "  warnings.warn(msg, UndefinedMetricWarning)\n"
     ]
    },
    {
     "name": "stdout",
     "output_type": "stream",
     "text": [
      "nan\n",
      "Processing clinic 74 out of 220\n",
      "ECMT117 LALGUDI MML TRICHY\n",
      "-2.785951183339532\n",
      "Processing clinic 75 out of 220\n",
      "ECMT118 JALESAR MML ETAH\n",
      "0.7839468638575048\n"
     ]
    },
    {
     "name": "stderr",
     "output_type": "stream",
     "text": [
      "C:\\Users\\siidh\\AppData\\Local\\Temp\\ipykernel_21192\\2638153196.py:147: SettingWithCopyWarning: \n",
      "A value is trying to be set on a copy of a slice from a DataFrame.\n",
      "Try using .loc[row_indexer,col_indexer] = value instead\n",
      "\n",
      "See the caveats in the documentation: https://pandas.pydata.org/pandas-docs/stable/user_guide/indexing.html#returning-a-view-versus-a-copy\n",
      "  X_june_2024[\"Month\"] = 6\n"
     ]
    },
    {
     "name": "stdout",
     "output_type": "stream",
     "text": [
      "Processing clinic 76 out of 220\n",
      "ECMT121 PUNALUR MML\n",
      "0.7696260497208847\n"
     ]
    },
    {
     "name": "stderr",
     "output_type": "stream",
     "text": [
      "C:\\Users\\siidh\\AppData\\Local\\Temp\\ipykernel_21192\\2638153196.py:147: SettingWithCopyWarning: \n",
      "A value is trying to be set on a copy of a slice from a DataFrame.\n",
      "Try using .loc[row_indexer,col_indexer] = value instead\n",
      "\n",
      "See the caveats in the documentation: https://pandas.pydata.org/pandas-docs/stable/user_guide/indexing.html#returning-a-view-versus-a-copy\n",
      "  X_june_2024[\"Month\"] = 6\n"
     ]
    },
    {
     "name": "stdout",
     "output_type": "stream",
     "text": [
      "Processing clinic 77 out of 220\n",
      "ECMT122 KATORIA MML BANKA\n",
      "-0.12347424102975335\n",
      "Processing clinic 78 out of 220\n",
      "ECMT123 KADAYAM MML THENKASI\n",
      "0.7255220258401289\n",
      "Processing clinic 79 out of 220\n",
      "ECMT125 Nagarkoil 2 MML\n"
     ]
    },
    {
     "name": "stderr",
     "output_type": "stream",
     "text": [
      "C:\\Users\\siidh\\AppData\\Local\\Temp\\ipykernel_21192\\2638153196.py:147: SettingWithCopyWarning: \n",
      "A value is trying to be set on a copy of a slice from a DataFrame.\n",
      "Try using .loc[row_indexer,col_indexer] = value instead\n",
      "\n",
      "See the caveats in the documentation: https://pandas.pydata.org/pandas-docs/stable/user_guide/indexing.html#returning-a-view-versus-a-copy\n",
      "  X_june_2024[\"Month\"] = 6\n"
     ]
    },
    {
     "name": "stdout",
     "output_type": "stream",
     "text": [
      "0.8279644647337197\n"
     ]
    },
    {
     "name": "stderr",
     "output_type": "stream",
     "text": [
      "C:\\Users\\siidh\\AppData\\Local\\Temp\\ipykernel_21192\\2638153196.py:147: SettingWithCopyWarning: \n",
      "A value is trying to be set on a copy of a slice from a DataFrame.\n",
      "Try using .loc[row_indexer,col_indexer] = value instead\n",
      "\n",
      "See the caveats in the documentation: https://pandas.pydata.org/pandas-docs/stable/user_guide/indexing.html#returning-a-view-versus-a-copy\n",
      "  X_june_2024[\"Month\"] = 6\n"
     ]
    },
    {
     "name": "stdout",
     "output_type": "stream",
     "text": [
      "Processing clinic 80 out of 220\n",
      "ECMT128 MEPATTAMPAKKAM MML CUDDALORE\n",
      "-0.18105302385693878\n",
      "Processing clinic 81 out of 220\n",
      "ECMT129 KURINJIPADI MML CUDDALORE\n",
      "0.6851736328794583\n"
     ]
    },
    {
     "name": "stderr",
     "output_type": "stream",
     "text": [
      "C:\\Users\\siidh\\AppData\\Local\\Temp\\ipykernel_21192\\2638153196.py:147: SettingWithCopyWarning: \n",
      "A value is trying to be set on a copy of a slice from a DataFrame.\n",
      "Try using .loc[row_indexer,col_indexer] = value instead\n",
      "\n",
      "See the caveats in the documentation: https://pandas.pydata.org/pandas-docs/stable/user_guide/indexing.html#returning-a-view-versus-a-copy\n",
      "  X_june_2024[\"Month\"] = 6\n"
     ]
    },
    {
     "name": "stdout",
     "output_type": "stream",
     "text": [
      "Processing clinic 82 out of 220\n",
      "ECMT130 RADHAPURAM MML TIRUNELVELI\n",
      "0.7803547737726748\n"
     ]
    },
    {
     "name": "stderr",
     "output_type": "stream",
     "text": [
      "C:\\Users\\siidh\\AppData\\Local\\Temp\\ipykernel_21192\\2638153196.py:147: SettingWithCopyWarning: \n",
      "A value is trying to be set on a copy of a slice from a DataFrame.\n",
      "Try using .loc[row_indexer,col_indexer] = value instead\n",
      "\n",
      "See the caveats in the documentation: https://pandas.pydata.org/pandas-docs/stable/user_guide/indexing.html#returning-a-view-versus-a-copy\n",
      "  X_june_2024[\"Month\"] = 6\n"
     ]
    },
    {
     "name": "stdout",
     "output_type": "stream",
     "text": [
      "Processing clinic 83 out of 220\n",
      "ECMT134 KAKRALA MML\n",
      "0.8625447936511005\n"
     ]
    },
    {
     "name": "stderr",
     "output_type": "stream",
     "text": [
      "C:\\Users\\siidh\\AppData\\Local\\Temp\\ipykernel_21192\\2638153196.py:147: SettingWithCopyWarning: \n",
      "A value is trying to be set on a copy of a slice from a DataFrame.\n",
      "Try using .loc[row_indexer,col_indexer] = value instead\n",
      "\n",
      "See the caveats in the documentation: https://pandas.pydata.org/pandas-docs/stable/user_guide/indexing.html#returning-a-view-versus-a-copy\n",
      "  X_june_2024[\"Month\"] = 6\n"
     ]
    },
    {
     "name": "stdout",
     "output_type": "stream",
     "text": [
      "Processing clinic 84 out of 220\n",
      "ECMT135 GARHMUKTESHWAR MML HAPUR\n",
      "0.7279699275137176\n"
     ]
    },
    {
     "name": "stderr",
     "output_type": "stream",
     "text": [
      "C:\\Users\\siidh\\AppData\\Local\\Temp\\ipykernel_21192\\2638153196.py:147: SettingWithCopyWarning: \n",
      "A value is trying to be set on a copy of a slice from a DataFrame.\n",
      "Try using .loc[row_indexer,col_indexer] = value instead\n",
      "\n",
      "See the caveats in the documentation: https://pandas.pydata.org/pandas-docs/stable/user_guide/indexing.html#returning-a-view-versus-a-copy\n",
      "  X_june_2024[\"Month\"] = 6\n"
     ]
    },
    {
     "name": "stdout",
     "output_type": "stream",
     "text": [
      "Processing clinic 85 out of 220\n",
      "ECMT136 BADAUN MML BADAUN \n",
      "0.8982217200501215\n"
     ]
    },
    {
     "name": "stderr",
     "output_type": "stream",
     "text": [
      "C:\\Users\\siidh\\AppData\\Local\\Temp\\ipykernel_21192\\2638153196.py:147: SettingWithCopyWarning: \n",
      "A value is trying to be set on a copy of a slice from a DataFrame.\n",
      "Try using .loc[row_indexer,col_indexer] = value instead\n",
      "\n",
      "See the caveats in the documentation: https://pandas.pydata.org/pandas-docs/stable/user_guide/indexing.html#returning-a-view-versus-a-copy\n",
      "  X_june_2024[\"Month\"] = 6\n"
     ]
    },
    {
     "name": "stdout",
     "output_type": "stream",
     "text": [
      "Processing clinic 86 out of 220\n",
      "ECMT137 AMARAVILA MML THIRUVANANTHAPURAM\n",
      "-0.26121935112112316\n",
      "Processing clinic 87 out of 220\n",
      "ECMT139 JANDAHA MML VAISHALI \n",
      "-0.9083930560997093\n",
      "Processing clinic 88 out of 220\n",
      "ECMT141 KAYAMKULAM MML ALAPUZHA\n",
      "0.9756702248532689\n"
     ]
    },
    {
     "name": "stderr",
     "output_type": "stream",
     "text": [
      "C:\\Users\\siidh\\AppData\\Local\\Temp\\ipykernel_21192\\2638153196.py:147: SettingWithCopyWarning: \n",
      "A value is trying to be set on a copy of a slice from a DataFrame.\n",
      "Try using .loc[row_indexer,col_indexer] = value instead\n",
      "\n",
      "See the caveats in the documentation: https://pandas.pydata.org/pandas-docs/stable/user_guide/indexing.html#returning-a-view-versus-a-copy\n",
      "  X_june_2024[\"Month\"] = 6\n"
     ]
    },
    {
     "name": "stdout",
     "output_type": "stream",
     "text": [
      "Processing clinic 89 out of 220\n",
      "ECMT142 PAKUR MML PAKUR \n",
      "0.37911036171238544\n",
      "Processing clinic 90 out of 220\n",
      "ECMT144 CUDDALORE MML CUDDALORE\n",
      "0.7839716738067364\n"
     ]
    },
    {
     "name": "stderr",
     "output_type": "stream",
     "text": [
      "C:\\Users\\siidh\\AppData\\Local\\Temp\\ipykernel_21192\\2638153196.py:147: SettingWithCopyWarning: \n",
      "A value is trying to be set on a copy of a slice from a DataFrame.\n",
      "Try using .loc[row_indexer,col_indexer] = value instead\n",
      "\n",
      "See the caveats in the documentation: https://pandas.pydata.org/pandas-docs/stable/user_guide/indexing.html#returning-a-view-versus-a-copy\n",
      "  X_june_2024[\"Month\"] = 6\n"
     ]
    },
    {
     "name": "stdout",
     "output_type": "stream",
     "text": [
      "Processing clinic 91 out of 220\n",
      "ECMT145 SETHIYARTHOPE MML CUDDALORE\n",
      "0.45526021886393075\n",
      "Processing clinic 92 out of 220\n",
      "ECMT146 VILLUPURAM MML VILLUPURAM\n",
      "-8.358970380303957\n",
      "Processing clinic 93 out of 220\n",
      "ECMT147 ALANGUDI MML PUDUKKOTTAI\n",
      "0.9358992576317969\n"
     ]
    },
    {
     "name": "stderr",
     "output_type": "stream",
     "text": [
      "C:\\Users\\siidh\\AppData\\Local\\Temp\\ipykernel_21192\\2638153196.py:147: SettingWithCopyWarning: \n",
      "A value is trying to be set on a copy of a slice from a DataFrame.\n",
      "Try using .loc[row_indexer,col_indexer] = value instead\n",
      "\n",
      "See the caveats in the documentation: https://pandas.pydata.org/pandas-docs/stable/user_guide/indexing.html#returning-a-view-versus-a-copy\n",
      "  X_june_2024[\"Month\"] = 6\n"
     ]
    },
    {
     "name": "stdout",
     "output_type": "stream",
     "text": [
      "Processing clinic 94 out of 220\n",
      "ECMT148 KARAMBAKUDI MML PUDDUKOTTAI\n",
      "-44.923208287362684\n",
      "Processing clinic 95 out of 220\n",
      "ECMT149 MAHABALIPURAM MML KANCHIPURAM\n",
      "0.847193714700311\n"
     ]
    },
    {
     "name": "stderr",
     "output_type": "stream",
     "text": [
      "C:\\Users\\siidh\\AppData\\Local\\Temp\\ipykernel_21192\\2638153196.py:147: SettingWithCopyWarning: \n",
      "A value is trying to be set on a copy of a slice from a DataFrame.\n",
      "Try using .loc[row_indexer,col_indexer] = value instead\n",
      "\n",
      "See the caveats in the documentation: https://pandas.pydata.org/pandas-docs/stable/user_guide/indexing.html#returning-a-view-versus-a-copy\n",
      "  X_june_2024[\"Month\"] = 6\n"
     ]
    },
    {
     "name": "stdout",
     "output_type": "stream",
     "text": [
      "Processing clinic 96 out of 220\n",
      "ECMT154 PALAKKAD MML PALAKKAD \n",
      "0.8606445866760655\n"
     ]
    },
    {
     "name": "stderr",
     "output_type": "stream",
     "text": [
      "C:\\Users\\siidh\\AppData\\Local\\Temp\\ipykernel_21192\\2638153196.py:147: SettingWithCopyWarning: \n",
      "A value is trying to be set on a copy of a slice from a DataFrame.\n",
      "Try using .loc[row_indexer,col_indexer] = value instead\n",
      "\n",
      "See the caveats in the documentation: https://pandas.pydata.org/pandas-docs/stable/user_guide/indexing.html#returning-a-view-versus-a-copy\n",
      "  X_june_2024[\"Month\"] = 6\n"
     ]
    },
    {
     "name": "stdout",
     "output_type": "stream",
     "text": [
      "Processing clinic 97 out of 220\n",
      "ECMT155 MIRANPUR MML MUZAFFARNAGAR\n",
      "-7.330284222447851\n",
      "Processing clinic 98 out of 220\n",
      "ECMT157 KADAVOOR MML KOLLAM \n",
      "0.17308137963475279\n",
      "Processing clinic 99 out of 220\n",
      "ECMT158 KARALI JN KOLLAM KERALA\n",
      "0.6375178296124064\n"
     ]
    },
    {
     "name": "stderr",
     "output_type": "stream",
     "text": [
      "C:\\Users\\siidh\\AppData\\Local\\Temp\\ipykernel_21192\\2638153196.py:147: SettingWithCopyWarning: \n",
      "A value is trying to be set on a copy of a slice from a DataFrame.\n",
      "Try using .loc[row_indexer,col_indexer] = value instead\n",
      "\n",
      "See the caveats in the documentation: https://pandas.pydata.org/pandas-docs/stable/user_guide/indexing.html#returning-a-view-versus-a-copy\n",
      "  X_june_2024[\"Month\"] = 6\n"
     ]
    },
    {
     "name": "stdout",
     "output_type": "stream",
     "text": [
      "Processing clinic 100 out of 220\n",
      "ECMT159 PERAVURANI MML THANJAVUR\n",
      "0.8050637773548661\n"
     ]
    },
    {
     "name": "stderr",
     "output_type": "stream",
     "text": [
      "C:\\Users\\siidh\\AppData\\Local\\Temp\\ipykernel_21192\\2638153196.py:147: SettingWithCopyWarning: \n",
      "A value is trying to be set on a copy of a slice from a DataFrame.\n",
      "Try using .loc[row_indexer,col_indexer] = value instead\n",
      "\n",
      "See the caveats in the documentation: https://pandas.pydata.org/pandas-docs/stable/user_guide/indexing.html#returning-a-view-versus-a-copy\n",
      "  X_june_2024[\"Month\"] = 6\n"
     ]
    },
    {
     "name": "stdout",
     "output_type": "stream",
     "text": [
      "Processing clinic 101 out of 220\n",
      "ECMT160 PANRUTY MML\n",
      "-42.01102861180696\n",
      "Processing clinic 102 out of 220\n",
      "ECMT162 MUKKUDAL MML TIRUNELVELI\n",
      "0.8302665375177991\n"
     ]
    },
    {
     "name": "stderr",
     "output_type": "stream",
     "text": [
      "C:\\Users\\siidh\\AppData\\Local\\Temp\\ipykernel_21192\\2638153196.py:147: SettingWithCopyWarning: \n",
      "A value is trying to be set on a copy of a slice from a DataFrame.\n",
      "Try using .loc[row_indexer,col_indexer] = value instead\n",
      "\n",
      "See the caveats in the documentation: https://pandas.pydata.org/pandas-docs/stable/user_guide/indexing.html#returning-a-view-versus-a-copy\n",
      "  X_june_2024[\"Month\"] = 6\n"
     ]
    },
    {
     "name": "stdout",
     "output_type": "stream",
     "text": [
      "Processing clinic 103 out of 220\n",
      "ECMT163 PETTAI MML\n",
      "0.7196605432358572\n"
     ]
    },
    {
     "name": "stderr",
     "output_type": "stream",
     "text": [
      "C:\\Users\\siidh\\AppData\\Local\\Temp\\ipykernel_21192\\2638153196.py:147: SettingWithCopyWarning: \n",
      "A value is trying to be set on a copy of a slice from a DataFrame.\n",
      "Try using .loc[row_indexer,col_indexer] = value instead\n",
      "\n",
      "See the caveats in the documentation: https://pandas.pydata.org/pandas-docs/stable/user_guide/indexing.html#returning-a-view-versus-a-copy\n",
      "  X_june_2024[\"Month\"] = 6\n"
     ]
    },
    {
     "name": "stdout",
     "output_type": "stream",
     "text": [
      "Processing clinic 104 out of 220\n",
      "ECMT164 THISAYANVILAI MML TIRUNELVELI\n",
      "0.586971319372108\n",
      "Processing clinic 105 out of 220\n",
      "ECMT165 THENKASI MML THENKASI\n",
      "-0.18406544972857253\n",
      "Processing clinic 106 out of 220\n",
      "ECMT166 VADAKKENCHERRY MML PALAKKAD\n",
      "0.6519981254648791\n",
      "Processing clinic 107 out of 220\n",
      "ECMT167 ALATHUR MML PALAKKAD \n"
     ]
    },
    {
     "name": "stderr",
     "output_type": "stream",
     "text": [
      "C:\\Users\\siidh\\AppData\\Local\\Temp\\ipykernel_21192\\2638153196.py:147: SettingWithCopyWarning: \n",
      "A value is trying to be set on a copy of a slice from a DataFrame.\n",
      "Try using .loc[row_indexer,col_indexer] = value instead\n",
      "\n",
      "See the caveats in the documentation: https://pandas.pydata.org/pandas-docs/stable/user_guide/indexing.html#returning-a-view-versus-a-copy\n",
      "  X_june_2024[\"Month\"] = 6\n"
     ]
    },
    {
     "name": "stdout",
     "output_type": "stream",
     "text": [
      "-488.9924901720561\n",
      "Processing clinic 108 out of 220\n",
      "ECMT169 JOYA MML AMROHA \n",
      "0.643787875209565\n"
     ]
    },
    {
     "name": "stderr",
     "output_type": "stream",
     "text": [
      "C:\\Users\\siidh\\AppData\\Local\\Temp\\ipykernel_21192\\2638153196.py:147: SettingWithCopyWarning: \n",
      "A value is trying to be set on a copy of a slice from a DataFrame.\n",
      "Try using .loc[row_indexer,col_indexer] = value instead\n",
      "\n",
      "See the caveats in the documentation: https://pandas.pydata.org/pandas-docs/stable/user_guide/indexing.html#returning-a-view-versus-a-copy\n",
      "  X_june_2024[\"Month\"] = 6\n"
     ]
    },
    {
     "name": "stdout",
     "output_type": "stream",
     "text": [
      "Processing clinic 109 out of 220\n",
      "ECMT171 BARAUNI MML BEGUSARAI \n",
      "0.9370598129694939\n"
     ]
    },
    {
     "name": "stderr",
     "output_type": "stream",
     "text": [
      "C:\\Users\\siidh\\AppData\\Local\\Temp\\ipykernel_21192\\2638153196.py:147: SettingWithCopyWarning: \n",
      "A value is trying to be set on a copy of a slice from a DataFrame.\n",
      "Try using .loc[row_indexer,col_indexer] = value instead\n",
      "\n",
      "See the caveats in the documentation: https://pandas.pydata.org/pandas-docs/stable/user_guide/indexing.html#returning-a-view-versus-a-copy\n",
      "  X_june_2024[\"Month\"] = 6\n"
     ]
    },
    {
     "name": "stdout",
     "output_type": "stream",
     "text": [
      "Processing clinic 110 out of 220\n",
      "ECMT172 ARASUR MML\n",
      "-1.3866289362701005\n",
      "Processing clinic 111 out of 220\n",
      "ECMT173 ANLANGULAM NEW MML THENKASI\n",
      "-0.6955137594701002\n",
      "Processing clinic 112 out of 220\n",
      "ECMT174 KANJANUR MML VELLIPURAM\n",
      "0.4590733549621496\n",
      "Processing clinic 113 out of 220\n",
      "ECMT175 KALAMBUR MML THIRUVANMALAI\n",
      "-3.4044088161090453\n",
      "Processing clinic 114 out of 220\n",
      "ECMT178 RANNY MML PATHANAMTHITA\n",
      "0.8992690079226058\n"
     ]
    },
    {
     "name": "stderr",
     "output_type": "stream",
     "text": [
      "C:\\Users\\siidh\\AppData\\Local\\Temp\\ipykernel_21192\\2638153196.py:147: SettingWithCopyWarning: \n",
      "A value is trying to be set on a copy of a slice from a DataFrame.\n",
      "Try using .loc[row_indexer,col_indexer] = value instead\n",
      "\n",
      "See the caveats in the documentation: https://pandas.pydata.org/pandas-docs/stable/user_guide/indexing.html#returning-a-view-versus-a-copy\n",
      "  X_june_2024[\"Month\"] = 6\n"
     ]
    },
    {
     "name": "stdout",
     "output_type": "stream",
     "text": [
      "Processing clinic 115 out of 220\n",
      "ECMT182 PAVOORCHATRAM MML\n",
      "0.7244254669055141\n"
     ]
    },
    {
     "name": "stderr",
     "output_type": "stream",
     "text": [
      "C:\\Users\\siidh\\AppData\\Local\\Temp\\ipykernel_21192\\2638153196.py:147: SettingWithCopyWarning: \n",
      "A value is trying to be set on a copy of a slice from a DataFrame.\n",
      "Try using .loc[row_indexer,col_indexer] = value instead\n",
      "\n",
      "See the caveats in the documentation: https://pandas.pydata.org/pandas-docs/stable/user_guide/indexing.html#returning-a-view-versus-a-copy\n",
      "  X_june_2024[\"Month\"] = 6\n"
     ]
    },
    {
     "name": "stdout",
     "output_type": "stream",
     "text": [
      "Processing clinic 116 out of 220\n",
      "ECMT183 ARANI MML\n",
      "0.27487832136803547\n",
      "Processing clinic 117 out of 220\n",
      "ECMT185 VADALUR MML\n",
      "-0.10114167599176249\n",
      "Processing clinic 118 out of 220\n",
      "ECMT187 GANDARUAKOTTAI MML PUDUKKOTTAI\n",
      "-0.06872200312043986\n",
      "Processing clinic 119 out of 220\n",
      "ECMT189 NENMARA MML PALAKKAD\n",
      "0.9402793485742139\n"
     ]
    },
    {
     "name": "stderr",
     "output_type": "stream",
     "text": [
      "C:\\Users\\siidh\\AppData\\Local\\Temp\\ipykernel_21192\\2638153196.py:147: SettingWithCopyWarning: \n",
      "A value is trying to be set on a copy of a slice from a DataFrame.\n",
      "Try using .loc[row_indexer,col_indexer] = value instead\n",
      "\n",
      "See the caveats in the documentation: https://pandas.pydata.org/pandas-docs/stable/user_guide/indexing.html#returning-a-view-versus-a-copy\n",
      "  X_june_2024[\"Month\"] = 6\n"
     ]
    },
    {
     "name": "stdout",
     "output_type": "stream",
     "text": [
      "Processing clinic 120 out of 220\n",
      "ECMT192 SANKAR NAGAR MML TIRUNELVELI\n",
      "0.18477599831848712\n",
      "Processing clinic 121 out of 220\n",
      "ECMT193 ATHIRAMPATINAM MML THANJAVUR \n",
      "-4.209626240229684\n",
      "Processing clinic 122 out of 220\n",
      "ECMT197  KUZHALMANNAM  MML PALAKKAD\n",
      "0.53617459405213\n",
      "Processing clinic 123 out of 220\n",
      "ECMT198 PAVUNJUR MML\n",
      "0.8892103786377901\n"
     ]
    },
    {
     "name": "stderr",
     "output_type": "stream",
     "text": [
      "C:\\Users\\siidh\\AppData\\Local\\Temp\\ipykernel_21192\\2638153196.py:147: SettingWithCopyWarning: \n",
      "A value is trying to be set on a copy of a slice from a DataFrame.\n",
      "Try using .loc[row_indexer,col_indexer] = value instead\n",
      "\n",
      "See the caveats in the documentation: https://pandas.pydata.org/pandas-docs/stable/user_guide/indexing.html#returning-a-view-versus-a-copy\n",
      "  X_june_2024[\"Month\"] = 6\n"
     ]
    },
    {
     "name": "stdout",
     "output_type": "stream",
     "text": [
      "Processing clinic 124 out of 220\n",
      "ECMT199 BUVANAGIRI MML\n",
      "0.5620263325869223\n",
      "Processing clinic 125 out of 220\n",
      "ECMT200 PONNAMARAAVATHI MML\n",
      "0.6266612961276818\n"
     ]
    },
    {
     "name": "stderr",
     "output_type": "stream",
     "text": [
      "C:\\Users\\siidh\\AppData\\Local\\Temp\\ipykernel_21192\\2638153196.py:147: SettingWithCopyWarning: \n",
      "A value is trying to be set on a copy of a slice from a DataFrame.\n",
      "Try using .loc[row_indexer,col_indexer] = value instead\n",
      "\n",
      "See the caveats in the documentation: https://pandas.pydata.org/pandas-docs/stable/user_guide/indexing.html#returning-a-view-versus-a-copy\n",
      "  X_june_2024[\"Month\"] = 6\n"
     ]
    },
    {
     "name": "stdout",
     "output_type": "stream",
     "text": [
      "Processing clinic 126 out of 220\n",
      "ECMT201 VIRUDHACHALAM MML\n",
      "-0.1655988118670284\n",
      "Processing clinic 127 out of 220\n",
      "ECMT202 SAMATHANAPURAM MML\n",
      "0.8061132823378196\n"
     ]
    },
    {
     "name": "stderr",
     "output_type": "stream",
     "text": [
      "C:\\Users\\siidh\\AppData\\Local\\Temp\\ipykernel_21192\\2638153196.py:147: SettingWithCopyWarning: \n",
      "A value is trying to be set on a copy of a slice from a DataFrame.\n",
      "Try using .loc[row_indexer,col_indexer] = value instead\n",
      "\n",
      "See the caveats in the documentation: https://pandas.pydata.org/pandas-docs/stable/user_guide/indexing.html#returning-a-view-versus-a-copy\n",
      "  X_june_2024[\"Month\"] = 6\n"
     ]
    },
    {
     "name": "stdout",
     "output_type": "stream",
     "text": [
      "Processing clinic 128 out of 220\n",
      "ECMT204 OTTAPALAM MML\n",
      "0.7576628050690826\n"
     ]
    },
    {
     "name": "stderr",
     "output_type": "stream",
     "text": [
      "C:\\Users\\siidh\\AppData\\Local\\Temp\\ipykernel_21192\\2638153196.py:147: SettingWithCopyWarning: \n",
      "A value is trying to be set on a copy of a slice from a DataFrame.\n",
      "Try using .loc[row_indexer,col_indexer] = value instead\n",
      "\n",
      "See the caveats in the documentation: https://pandas.pydata.org/pandas-docs/stable/user_guide/indexing.html#returning-a-view-versus-a-copy\n",
      "  X_june_2024[\"Month\"] = 6\n"
     ]
    },
    {
     "name": "stdout",
     "output_type": "stream",
     "text": [
      "Processing clinic 129 out of 220\n",
      "ECMT206 CHAKKUVALLY MML\n",
      "0.884269866553161\n"
     ]
    },
    {
     "name": "stderr",
     "output_type": "stream",
     "text": [
      "C:\\Users\\siidh\\AppData\\Local\\Temp\\ipykernel_21192\\2638153196.py:147: SettingWithCopyWarning: \n",
      "A value is trying to be set on a copy of a slice from a DataFrame.\n",
      "Try using .loc[row_indexer,col_indexer] = value instead\n",
      "\n",
      "See the caveats in the documentation: https://pandas.pydata.org/pandas-docs/stable/user_guide/indexing.html#returning-a-view-versus-a-copy\n",
      "  X_june_2024[\"Month\"] = 6\n"
     ]
    },
    {
     "name": "stdout",
     "output_type": "stream",
     "text": [
      "Processing clinic 130 out of 220\n",
      "ECMT207 NANGIARKULANGARA MML\n",
      "0.8750211853875125\n"
     ]
    },
    {
     "name": "stderr",
     "output_type": "stream",
     "text": [
      "C:\\Users\\siidh\\AppData\\Local\\Temp\\ipykernel_21192\\2638153196.py:147: SettingWithCopyWarning: \n",
      "A value is trying to be set on a copy of a slice from a DataFrame.\n",
      "Try using .loc[row_indexer,col_indexer] = value instead\n",
      "\n",
      "See the caveats in the documentation: https://pandas.pydata.org/pandas-docs/stable/user_guide/indexing.html#returning-a-view-versus-a-copy\n",
      "  X_june_2024[\"Month\"] = 6\n"
     ]
    },
    {
     "name": "stdout",
     "output_type": "stream",
     "text": [
      "Processing clinic 131 out of 220\n",
      "ECMT208 NOORNAD MML\n",
      "0.8830163329340801\n"
     ]
    },
    {
     "name": "stderr",
     "output_type": "stream",
     "text": [
      "C:\\Users\\siidh\\AppData\\Local\\Temp\\ipykernel_21192\\2638153196.py:147: SettingWithCopyWarning: \n",
      "A value is trying to be set on a copy of a slice from a DataFrame.\n",
      "Try using .loc[row_indexer,col_indexer] = value instead\n",
      "\n",
      "See the caveats in the documentation: https://pandas.pydata.org/pandas-docs/stable/user_guide/indexing.html#returning-a-view-versus-a-copy\n",
      "  X_june_2024[\"Month\"] = 6\n"
     ]
    },
    {
     "name": "stdout",
     "output_type": "stream",
     "text": [
      "Processing clinic 132 out of 220\n",
      "ECMT209 KHAGRIYA MML\n",
      "0.8726090265095019\n"
     ]
    },
    {
     "name": "stderr",
     "output_type": "stream",
     "text": [
      "C:\\Users\\siidh\\AppData\\Local\\Temp\\ipykernel_21192\\2638153196.py:147: SettingWithCopyWarning: \n",
      "A value is trying to be set on a copy of a slice from a DataFrame.\n",
      "Try using .loc[row_indexer,col_indexer] = value instead\n",
      "\n",
      "See the caveats in the documentation: https://pandas.pydata.org/pandas-docs/stable/user_guide/indexing.html#returning-a-view-versus-a-copy\n",
      "  X_june_2024[\"Month\"] = 6\n"
     ]
    },
    {
     "name": "stdout",
     "output_type": "stream",
     "text": [
      "Processing clinic 133 out of 220\n",
      "ECMT210 ORATHANADU MML THANJAVUR \n",
      "Skipping clinic 'ECMT210 ORATHANADU MML THANJAVUR ' due to missing data.\n",
      "Processing clinic 134 out of 220\n",
      "ECMT211 KALLAKURICHI MML KALLAKURICHI\n",
      "0.8213981474768077\n"
     ]
    },
    {
     "name": "stderr",
     "output_type": "stream",
     "text": [
      "C:\\Users\\siidh\\AppData\\Local\\Temp\\ipykernel_21192\\2638153196.py:147: SettingWithCopyWarning: \n",
      "A value is trying to be set on a copy of a slice from a DataFrame.\n",
      "Try using .loc[row_indexer,col_indexer] = value instead\n",
      "\n",
      "See the caveats in the documentation: https://pandas.pydata.org/pandas-docs/stable/user_guide/indexing.html#returning-a-view-versus-a-copy\n",
      "  X_june_2024[\"Month\"] = 6\n"
     ]
    },
    {
     "name": "stdout",
     "output_type": "stream",
     "text": [
      "Processing clinic 135 out of 220\n",
      "ECMT212 KARUVEPILANKURICHI MML CUDDALORE\n",
      "-0.838737361056735\n",
      "Processing clinic 136 out of 220\n",
      "ECMT214 PULIYANGUDI MML\n",
      "0.4181740154408089\n",
      "Processing clinic 137 out of 220\n",
      "ECMT216 THIRUKOVILUR MML\n",
      "-59.26594387755101\n",
      "Processing clinic 138 out of 220\n",
      "ECMT217 Pallikonda MML\n",
      "0.14996211083373157\n",
      "Processing clinic 139 out of 220\n",
      "ECMT218 Arcort MML\n",
      "-1.1848911438947027\n",
      "Processing clinic 140 out of 220\n",
      "ECMT219 Chelakkara MML\n",
      "0.9565174670780275\n"
     ]
    },
    {
     "name": "stderr",
     "output_type": "stream",
     "text": [
      "C:\\Users\\siidh\\AppData\\Local\\Temp\\ipykernel_21192\\2638153196.py:147: SettingWithCopyWarning: \n",
      "A value is trying to be set on a copy of a slice from a DataFrame.\n",
      "Try using .loc[row_indexer,col_indexer] = value instead\n",
      "\n",
      "See the caveats in the documentation: https://pandas.pydata.org/pandas-docs/stable/user_guide/indexing.html#returning-a-view-versus-a-copy\n",
      "  X_june_2024[\"Month\"] = 6\n"
     ]
    },
    {
     "name": "stdout",
     "output_type": "stream",
     "text": [
      "Processing clinic 141 out of 220\n",
      "ECMT220 Mankankuzhi MML\n",
      "0.6223586130488659\n"
     ]
    },
    {
     "name": "stderr",
     "output_type": "stream",
     "text": [
      "C:\\Users\\siidh\\AppData\\Local\\Temp\\ipykernel_21192\\2638153196.py:147: SettingWithCopyWarning: \n",
      "A value is trying to be set on a copy of a slice from a DataFrame.\n",
      "Try using .loc[row_indexer,col_indexer] = value instead\n",
      "\n",
      "See the caveats in the documentation: https://pandas.pydata.org/pandas-docs/stable/user_guide/indexing.html#returning-a-view-versus-a-copy\n",
      "  X_june_2024[\"Month\"] = 6\n"
     ]
    },
    {
     "name": "stdout",
     "output_type": "stream",
     "text": [
      "Processing clinic 142 out of 220\n",
      "ECMT223 KOLLENGODE MML PALAKKAD \n",
      "0.962969985981524\n"
     ]
    },
    {
     "name": "stderr",
     "output_type": "stream",
     "text": [
      "C:\\Users\\siidh\\AppData\\Local\\Temp\\ipykernel_21192\\2638153196.py:147: SettingWithCopyWarning: \n",
      "A value is trying to be set on a copy of a slice from a DataFrame.\n",
      "Try using .loc[row_indexer,col_indexer] = value instead\n",
      "\n",
      "See the caveats in the documentation: https://pandas.pydata.org/pandas-docs/stable/user_guide/indexing.html#returning-a-view-versus-a-copy\n",
      "  X_june_2024[\"Month\"] = 6\n"
     ]
    },
    {
     "name": "stdout",
     "output_type": "stream",
     "text": [
      "Processing clinic 143 out of 220\n",
      "ECMT225 MADHEPURA MML\n",
      "0.3853874628196563\n",
      "Processing clinic 144 out of 220\n",
      "ECMT229 THANJAVUR MML THANJAVUR \n",
      "0.3015210610826228\n",
      "Processing clinic 145 out of 220\n",
      "ECMT231 MUTHANDIKUPPAM MML CUDDALORE\n",
      "0.8319563688120376\n"
     ]
    },
    {
     "name": "stderr",
     "output_type": "stream",
     "text": [
      "C:\\Users\\siidh\\AppData\\Local\\Temp\\ipykernel_21192\\2638153196.py:147: SettingWithCopyWarning: \n",
      "A value is trying to be set on a copy of a slice from a DataFrame.\n",
      "Try using .loc[row_indexer,col_indexer] = value instead\n",
      "\n",
      "See the caveats in the documentation: https://pandas.pydata.org/pandas-docs/stable/user_guide/indexing.html#returning-a-view-versus-a-copy\n",
      "  X_june_2024[\"Month\"] = 6\n"
     ]
    },
    {
     "name": "stdout",
     "output_type": "stream",
     "text": [
      "Processing clinic 146 out of 220\n",
      "ECMT232 SANKARANKOVIL MML\n",
      "0.7157715701877091\n"
     ]
    },
    {
     "name": "stderr",
     "output_type": "stream",
     "text": [
      "C:\\Users\\siidh\\AppData\\Local\\Temp\\ipykernel_21192\\2638153196.py:147: SettingWithCopyWarning: \n",
      "A value is trying to be set on a copy of a slice from a DataFrame.\n",
      "Try using .loc[row_indexer,col_indexer] = value instead\n",
      "\n",
      "See the caveats in the documentation: https://pandas.pydata.org/pandas-docs/stable/user_guide/indexing.html#returning-a-view-versus-a-copy\n",
      "  X_june_2024[\"Month\"] = 6\n"
     ]
    },
    {
     "name": "stdout",
     "output_type": "stream",
     "text": [
      "Processing clinic 147 out of 220\n",
      "ECMT233 SIVAGIRI MML\n",
      "0.06659658398802748\n",
      "Processing clinic 148 out of 220\n",
      "ECMT238 KALAVAI MML VELLORE\n",
      "-1.6697290336417532\n",
      "Processing clinic 149 out of 220\n",
      "ECMT239 KEERAPALAYAM MML CUDDALORE\n",
      "-0.298951530716248\n",
      "Processing clinic 150 out of 220\n",
      "ECMT241 PARASSALA MML\n",
      "0.13574834019176163\n",
      "Processing clinic 151 out of 220\n",
      "ECMT243 KANDAMANGALAM MML\n",
      "0.7348168519454428\n",
      "Processing clinic 152 out of 220\n",
      "ECMT245 BANSWARA MML BANSWARA\n"
     ]
    },
    {
     "name": "stderr",
     "output_type": "stream",
     "text": [
      "C:\\Users\\siidh\\AppData\\Local\\Temp\\ipykernel_21192\\2638153196.py:147: SettingWithCopyWarning: \n",
      "A value is trying to be set on a copy of a slice from a DataFrame.\n",
      "Try using .loc[row_indexer,col_indexer] = value instead\n",
      "\n",
      "See the caveats in the documentation: https://pandas.pydata.org/pandas-docs/stable/user_guide/indexing.html#returning-a-view-versus-a-copy\n",
      "  X_june_2024[\"Month\"] = 6\n"
     ]
    },
    {
     "name": "stdout",
     "output_type": "stream",
     "text": [
      "-1.9132352495754166\n",
      "Processing clinic 153 out of 220\n",
      "ECMT246 Kushalgarh Banswara\n",
      "0.8568687423295728\n"
     ]
    },
    {
     "name": "stderr",
     "output_type": "stream",
     "text": [
      "C:\\Users\\siidh\\AppData\\Local\\Temp\\ipykernel_21192\\2638153196.py:147: SettingWithCopyWarning: \n",
      "A value is trying to be set on a copy of a slice from a DataFrame.\n",
      "Try using .loc[row_indexer,col_indexer] = value instead\n",
      "\n",
      "See the caveats in the documentation: https://pandas.pydata.org/pandas-docs/stable/user_guide/indexing.html#returning-a-view-versus-a-copy\n",
      "  X_june_2024[\"Month\"] = 6\n"
     ]
    },
    {
     "name": "stdout",
     "output_type": "stream",
     "text": [
      "Processing clinic 154 out of 220\n",
      "ECMT248 BEWAR MML AJMER \n",
      "0.11852536797534019\n",
      "Processing clinic 155 out of 220\n",
      "ECMT249 AJMER MML AJMER\n",
      "-2.1603993102370294\n",
      "Processing clinic 156 out of 220\n",
      "ECMT250 JHUNJHUNU TEHSIL MML \n",
      "0.031259881722597416\n",
      "Processing clinic 157 out of 220\n",
      "ECMT251 TARANAGAR MML CHURU \n",
      "0.058904048995587543\n",
      "Processing clinic 158 out of 220\n",
      "ECMT256 ABU ROADMML\n",
      "0.8059993866847136\n"
     ]
    },
    {
     "name": "stderr",
     "output_type": "stream",
     "text": [
      "C:\\Users\\siidh\\AppData\\Local\\Temp\\ipykernel_21192\\2638153196.py:147: SettingWithCopyWarning: \n",
      "A value is trying to be set on a copy of a slice from a DataFrame.\n",
      "Try using .loc[row_indexer,col_indexer] = value instead\n",
      "\n",
      "See the caveats in the documentation: https://pandas.pydata.org/pandas-docs/stable/user_guide/indexing.html#returning-a-view-versus-a-copy\n",
      "  X_june_2024[\"Month\"] = 6\n"
     ]
    },
    {
     "name": "stdout",
     "output_type": "stream",
     "text": [
      "Processing clinic 159 out of 220\n",
      "ECMT257 GANGAPUR MML BHILWARA\n",
      "-0.6628151973548055\n",
      "Processing clinic 160 out of 220\n",
      "ECMT258 KALLADIKODE MML PALAKKAD\n",
      "0.6563990390609149\n"
     ]
    },
    {
     "name": "stderr",
     "output_type": "stream",
     "text": [
      "C:\\Users\\siidh\\AppData\\Local\\Temp\\ipykernel_21192\\2638153196.py:147: SettingWithCopyWarning: \n",
      "A value is trying to be set on a copy of a slice from a DataFrame.\n",
      "Try using .loc[row_indexer,col_indexer] = value instead\n",
      "\n",
      "See the caveats in the documentation: https://pandas.pydata.org/pandas-docs/stable/user_guide/indexing.html#returning-a-view-versus-a-copy\n",
      "  X_june_2024[\"Month\"] = 6\n"
     ]
    },
    {
     "name": "stdout",
     "output_type": "stream",
     "text": [
      "Processing clinic 161 out of 220\n",
      "ECMT259 CHENGANOOR MML ALAPUZHA \n",
      "0.5824850522748926\n",
      "Processing clinic 162 out of 220\n",
      "ECMT261 THIRUVENAINALLUR MML\n",
      "-13.816110917041865\n",
      "Processing clinic 163 out of 220\n",
      "ECMT263 CHITTUR MML PALAKKAD \n",
      "0.741201106581608\n"
     ]
    },
    {
     "name": "stderr",
     "output_type": "stream",
     "text": [
      "C:\\Users\\siidh\\AppData\\Local\\Temp\\ipykernel_21192\\2638153196.py:147: SettingWithCopyWarning: \n",
      "A value is trying to be set on a copy of a slice from a DataFrame.\n",
      "Try using .loc[row_indexer,col_indexer] = value instead\n",
      "\n",
      "See the caveats in the documentation: https://pandas.pydata.org/pandas-docs/stable/user_guide/indexing.html#returning-a-view-versus-a-copy\n",
      "  X_june_2024[\"Month\"] = 6\n"
     ]
    },
    {
     "name": "stdout",
     "output_type": "stream",
     "text": [
      "Processing clinic 164 out of 220\n",
      "ECMT265 CHEYYAR MML THIRUVANMALAI\n",
      "-0.03035163295520693\n",
      "Processing clinic 165 out of 220\n",
      "ECMT267 MUDIGERE MML CHIKMAGALUR \n",
      "-3.993352180500062\n",
      "Processing clinic 166 out of 220\n",
      "ECMT269 THIRUKKADAIYUR MML NAGAPPATINAM\n",
      "0.32578522703886503\n",
      "Processing clinic 167 out of 220\n",
      "ECMT270 KARIYAPATTINAM MML NAGAPPATINAM\n",
      "0.45633895904610533\n",
      "Processing clinic 168 out of 220\n",
      "ECMT271 NAGAPPATINAM MML NAGAPPATINAM\n",
      "0.9156970332105806\n"
     ]
    },
    {
     "name": "stderr",
     "output_type": "stream",
     "text": [
      "C:\\Users\\siidh\\AppData\\Local\\Temp\\ipykernel_21192\\2638153196.py:147: SettingWithCopyWarning: \n",
      "A value is trying to be set on a copy of a slice from a DataFrame.\n",
      "Try using .loc[row_indexer,col_indexer] = value instead\n",
      "\n",
      "See the caveats in the documentation: https://pandas.pydata.org/pandas-docs/stable/user_guide/indexing.html#returning-a-view-versus-a-copy\n",
      "  X_june_2024[\"Month\"] = 6\n"
     ]
    },
    {
     "name": "stdout",
     "output_type": "stream",
     "text": [
      "Processing clinic 169 out of 220\n",
      "ECMT272 VELANKANNI MML NAGAPPATINAM\n",
      "0.7119649845900411\n"
     ]
    },
    {
     "name": "stderr",
     "output_type": "stream",
     "text": [
      "C:\\Users\\siidh\\AppData\\Local\\Temp\\ipykernel_21192\\2638153196.py:147: SettingWithCopyWarning: \n",
      "A value is trying to be set on a copy of a slice from a DataFrame.\n",
      "Try using .loc[row_indexer,col_indexer] = value instead\n",
      "\n",
      "See the caveats in the documentation: https://pandas.pydata.org/pandas-docs/stable/user_guide/indexing.html#returning-a-view-versus-a-copy\n",
      "  X_june_2024[\"Month\"] = 6\n"
     ]
    },
    {
     "name": "stdout",
     "output_type": "stream",
     "text": [
      "Processing clinic 170 out of 220\n",
      "ECMT273 KADAYANALLUR MML THENKASI\n",
      "0.3589486132081793\n",
      "Processing clinic 171 out of 220\n",
      "ECMT274 THUVARANKURUCHI MML TRICHY\n",
      "0.02617095693989635\n",
      "Processing clinic 172 out of 220\n",
      "ECMT277 WADGAON MML YAVATMAL \n",
      "0.7361767251236813\n"
     ]
    },
    {
     "name": "stderr",
     "output_type": "stream",
     "text": [
      "C:\\Users\\siidh\\AppData\\Local\\Temp\\ipykernel_21192\\2638153196.py:147: SettingWithCopyWarning: \n",
      "A value is trying to be set on a copy of a slice from a DataFrame.\n",
      "Try using .loc[row_indexer,col_indexer] = value instead\n",
      "\n",
      "See the caveats in the documentation: https://pandas.pydata.org/pandas-docs/stable/user_guide/indexing.html#returning-a-view-versus-a-copy\n",
      "  X_june_2024[\"Month\"] = 6\n"
     ]
    },
    {
     "name": "stdout",
     "output_type": "stream",
     "text": [
      "Processing clinic 173 out of 220\n",
      "ECMT279 HARIPAD MML ALAPUZHA\n",
      "-4.4249697771302445\n",
      "Processing clinic 174 out of 220\n",
      "ECMT280 MANNARKUDI MML\n",
      "0.8116241157385246\n"
     ]
    },
    {
     "name": "stderr",
     "output_type": "stream",
     "text": [
      "C:\\Users\\siidh\\AppData\\Local\\Temp\\ipykernel_21192\\2638153196.py:147: SettingWithCopyWarning: \n",
      "A value is trying to be set on a copy of a slice from a DataFrame.\n",
      "Try using .loc[row_indexer,col_indexer] = value instead\n",
      "\n",
      "See the caveats in the documentation: https://pandas.pydata.org/pandas-docs/stable/user_guide/indexing.html#returning-a-view-versus-a-copy\n",
      "  X_june_2024[\"Month\"] = 6\n"
     ]
    },
    {
     "name": "stdout",
     "output_type": "stream",
     "text": [
      "Processing clinic 175 out of 220\n",
      "ECMT288  MEHAM MML \n",
      "-1.2467711057434951\n",
      "Processing clinic 176 out of 220\n",
      "ECMT290 BHIWANI MML BHIWANI \n",
      "0.5929887263918613\n",
      "Processing clinic 177 out of 220\n",
      "ECMT297 TOSHAM MML BHIWANI \n",
      "0.4297022184959328\n",
      "Processing clinic 178 out of 220\n",
      "ECMT302 BARWALA BARWALA \n",
      "0.5219185829538497\n",
      "Processing clinic 179 out of 220\n",
      "ECMT307 SONIPAT MML SONIPAT\n",
      "0.0\n",
      "Processing clinic 180 out of 220\n",
      "ECMT309 BILASPUR MML BILASPUR\n",
      "0.5429974980425778\n",
      "Processing clinic 181 out of 220\n",
      "ECMT311 RAIPUR RURAL MML RAIPUR\n",
      "-0.14706750750513686\n",
      "Processing clinic 182 out of 220\n",
      "ECMT316 KHARSIA MML RAIGARH \n",
      "Skipping clinic 'ECMT316 KHARSIA MML RAIGARH ' due to missing data.\n",
      "Processing clinic 183 out of 220\n",
      "ECMT317 SAKTI MML SAKTI\n",
      "-0.5671791651800719\n",
      "Processing clinic 184 out of 220\n",
      "ECMT323 KHARKHAUDA MML MEERUT \n",
      "0.775340035692381\n"
     ]
    },
    {
     "name": "stderr",
     "output_type": "stream",
     "text": [
      "C:\\Users\\siidh\\AppData\\Local\\Temp\\ipykernel_21192\\2638153196.py:147: SettingWithCopyWarning: \n",
      "A value is trying to be set on a copy of a slice from a DataFrame.\n",
      "Try using .loc[row_indexer,col_indexer] = value instead\n",
      "\n",
      "See the caveats in the documentation: https://pandas.pydata.org/pandas-docs/stable/user_guide/indexing.html#returning-a-view-versus-a-copy\n",
      "  X_june_2024[\"Month\"] = 6\n"
     ]
    },
    {
     "name": "stdout",
     "output_type": "stream",
     "text": [
      "Processing clinic 185 out of 220\n",
      "ECMT324 SANTRAMPUR MML MAHISAGAR\n",
      "0.2598282591844574\n",
      "Processing clinic 186 out of 220\n",
      "ECMT326 Andimadam MML\n",
      "-0.08160511301906515\n",
      "Processing clinic 187 out of 220\n",
      "ECMT327 Marakkanam MML\n",
      "0.5884096515533819\n",
      "Processing clinic 188 out of 220\n",
      "ECMT328 SHAMLI MML SHAMLI \n",
      "-1.378983647097245\n",
      "Processing clinic 189 out of 220\n",
      "ECMT329 MUZAFFARNAGAR MML\n",
      "-0.09637053643966342\n",
      "Processing clinic 190 out of 220\n",
      "ECMT331 Vannarapettai\n",
      "-2.3365072187589946\n",
      "Processing clinic 191 out of 220\n",
      "ECMT334 PULLUKULANGARA MML ALAPUZHA\n",
      "0.8691652442969798\n"
     ]
    },
    {
     "name": "stderr",
     "output_type": "stream",
     "text": [
      "C:\\Users\\siidh\\AppData\\Local\\Temp\\ipykernel_21192\\2638153196.py:147: SettingWithCopyWarning: \n",
      "A value is trying to be set on a copy of a slice from a DataFrame.\n",
      "Try using .loc[row_indexer,col_indexer] = value instead\n",
      "\n",
      "See the caveats in the documentation: https://pandas.pydata.org/pandas-docs/stable/user_guide/indexing.html#returning-a-view-versus-a-copy\n",
      "  X_june_2024[\"Month\"] = 6\n"
     ]
    },
    {
     "name": "stdout",
     "output_type": "stream",
     "text": [
      "Processing clinic 192 out of 220\n",
      "ECMT336  Thanjavur MC road MML\n",
      "0.7278260444831645\n",
      "Processing clinic 193 out of 220\n",
      "ECMT337 SAMBHAL MML SAMBHAL \n"
     ]
    },
    {
     "name": "stderr",
     "output_type": "stream",
     "text": [
      "C:\\Users\\siidh\\AppData\\Local\\Temp\\ipykernel_21192\\2638153196.py:147: SettingWithCopyWarning: \n",
      "A value is trying to be set on a copy of a slice from a DataFrame.\n",
      "Try using .loc[row_indexer,col_indexer] = value instead\n",
      "\n",
      "See the caveats in the documentation: https://pandas.pydata.org/pandas-docs/stable/user_guide/indexing.html#returning-a-view-versus-a-copy\n",
      "  X_june_2024[\"Month\"] = 6\n"
     ]
    },
    {
     "name": "stdout",
     "output_type": "stream",
     "text": [
      "-0.4462969370947467\n",
      "Processing clinic 194 out of 220\n",
      "ECMT338 KATTAKADA MML TRIVANDRUM\n",
      "0.9134473084002771\n"
     ]
    },
    {
     "name": "stderr",
     "output_type": "stream",
     "text": [
      "C:\\Users\\siidh\\AppData\\Local\\Temp\\ipykernel_21192\\2638153196.py:147: SettingWithCopyWarning: \n",
      "A value is trying to be set on a copy of a slice from a DataFrame.\n",
      "Try using .loc[row_indexer,col_indexer] = value instead\n",
      "\n",
      "See the caveats in the documentation: https://pandas.pydata.org/pandas-docs/stable/user_guide/indexing.html#returning-a-view-versus-a-copy\n",
      "  X_june_2024[\"Month\"] = 6\n"
     ]
    },
    {
     "name": "stdout",
     "output_type": "stream",
     "text": [
      "Processing clinic 195 out of 220\n",
      "ECMT339 Sirkazhi MML\n",
      "0.765553553876868\n"
     ]
    },
    {
     "name": "stderr",
     "output_type": "stream",
     "text": [
      "C:\\Users\\siidh\\AppData\\Local\\Temp\\ipykernel_21192\\2638153196.py:147: SettingWithCopyWarning: \n",
      "A value is trying to be set on a copy of a slice from a DataFrame.\n",
      "Try using .loc[row_indexer,col_indexer] = value instead\n",
      "\n",
      "See the caveats in the documentation: https://pandas.pydata.org/pandas-docs/stable/user_guide/indexing.html#returning-a-view-versus-a-copy\n",
      "  X_june_2024[\"Month\"] = 6\n"
     ]
    },
    {
     "name": "stdout",
     "output_type": "stream",
     "text": [
      "Processing clinic 196 out of 220\n",
      "ECMT348 Seithur MML\n",
      "0.8121003977965271\n"
     ]
    },
    {
     "name": "stderr",
     "output_type": "stream",
     "text": [
      "C:\\Users\\siidh\\AppData\\Local\\Temp\\ipykernel_21192\\2638153196.py:147: SettingWithCopyWarning: \n",
      "A value is trying to be set on a copy of a slice from a DataFrame.\n",
      "Try using .loc[row_indexer,col_indexer] = value instead\n",
      "\n",
      "See the caveats in the documentation: https://pandas.pydata.org/pandas-docs/stable/user_guide/indexing.html#returning-a-view-versus-a-copy\n",
      "  X_june_2024[\"Month\"] = 6\n"
     ]
    },
    {
     "name": "stdout",
     "output_type": "stream",
     "text": [
      "Processing clinic 197 out of 220\n",
      "ECMT349 MANDAPATHINKADAVU MML TRIVANDRUM\n",
      "0.5273104396115158\n",
      "Processing clinic 198 out of 220\n",
      "ECMT351 KAPADVANJ MML  KHEDA\n",
      "0.816376555891838\n"
     ]
    },
    {
     "name": "stderr",
     "output_type": "stream",
     "text": [
      "C:\\Users\\siidh\\AppData\\Local\\Temp\\ipykernel_21192\\2638153196.py:147: SettingWithCopyWarning: \n",
      "A value is trying to be set on a copy of a slice from a DataFrame.\n",
      "Try using .loc[row_indexer,col_indexer] = value instead\n",
      "\n",
      "See the caveats in the documentation: https://pandas.pydata.org/pandas-docs/stable/user_guide/indexing.html#returning-a-view-versus-a-copy\n",
      "  X_june_2024[\"Month\"] = 6\n"
     ]
    },
    {
     "name": "stdout",
     "output_type": "stream",
     "text": [
      "Processing clinic 199 out of 220\n",
      "ECMT352 PIPRAICH MML\n"
     ]
    },
    {
     "name": "stderr",
     "output_type": "stream",
     "text": [
      "c:\\Python311\\Lib\\site-packages\\sklearn\\metrics\\_regression.py:996: UndefinedMetricWarning: R^2 score is not well-defined with less than two samples.\n",
      "  warnings.warn(msg, UndefinedMetricWarning)\n",
      "c:\\Python311\\Lib\\site-packages\\sklearn\\metrics\\_regression.py:996: UndefinedMetricWarning: R^2 score is not well-defined with less than two samples.\n",
      "  warnings.warn(msg, UndefinedMetricWarning)\n",
      "c:\\Python311\\Lib\\site-packages\\sklearn\\metrics\\_regression.py:996: UndefinedMetricWarning: R^2 score is not well-defined with less than two samples.\n",
      "  warnings.warn(msg, UndefinedMetricWarning)\n",
      "c:\\Python311\\Lib\\site-packages\\sklearn\\metrics\\_regression.py:996: UndefinedMetricWarning: R^2 score is not well-defined with less than two samples.\n",
      "  warnings.warn(msg, UndefinedMetricWarning)\n",
      "c:\\Python311\\Lib\\site-packages\\sklearn\\metrics\\_regression.py:996: UndefinedMetricWarning: R^2 score is not well-defined with less than two samples.\n",
      "  warnings.warn(msg, UndefinedMetricWarning)\n",
      "c:\\Python311\\Lib\\site-packages\\sklearn\\metrics\\_regression.py:996: UndefinedMetricWarning: R^2 score is not well-defined with less than two samples.\n",
      "  warnings.warn(msg, UndefinedMetricWarning)\n",
      "c:\\Python311\\Lib\\site-packages\\sklearn\\metrics\\_regression.py:996: UndefinedMetricWarning: R^2 score is not well-defined with less than two samples.\n",
      "  warnings.warn(msg, UndefinedMetricWarning)\n"
     ]
    },
    {
     "name": "stdout",
     "output_type": "stream",
     "text": [
      "nan\n",
      "Processing clinic 200 out of 220\n",
      "ECMT353 MAHARJAGANJ MML MAHARAJGANJ\n",
      "0.6107143325499351\n"
     ]
    },
    {
     "name": "stderr",
     "output_type": "stream",
     "text": [
      "C:\\Users\\siidh\\AppData\\Local\\Temp\\ipykernel_21192\\2638153196.py:147: SettingWithCopyWarning: \n",
      "A value is trying to be set on a copy of a slice from a DataFrame.\n",
      "Try using .loc[row_indexer,col_indexer] = value instead\n",
      "\n",
      "See the caveats in the documentation: https://pandas.pydata.org/pandas-docs/stable/user_guide/indexing.html#returning-a-view-versus-a-copy\n",
      "  X_june_2024[\"Month\"] = 6\n"
     ]
    },
    {
     "name": "stdout",
     "output_type": "stream",
     "text": [
      "Processing clinic 201 out of 220\n",
      "ECMT354 KAUDIRAM MML GORAKHPUR\n",
      "0.9139955456277828\n",
      "Processing clinic 202 out of 220\n",
      "ECMT357 MANJALPUR MML VADODRA\n"
     ]
    },
    {
     "name": "stderr",
     "output_type": "stream",
     "text": [
      "C:\\Users\\siidh\\AppData\\Local\\Temp\\ipykernel_21192\\2638153196.py:147: SettingWithCopyWarning: \n",
      "A value is trying to be set on a copy of a slice from a DataFrame.\n",
      "Try using .loc[row_indexer,col_indexer] = value instead\n",
      "\n",
      "See the caveats in the documentation: https://pandas.pydata.org/pandas-docs/stable/user_guide/indexing.html#returning-a-view-versus-a-copy\n",
      "  X_june_2024[\"Month\"] = 6\n"
     ]
    },
    {
     "name": "stdout",
     "output_type": "stream",
     "text": [
      "0.1544044152184123\n",
      "Processing clinic 203 out of 220\n",
      "ECMT358 NAUGAWAN SADAT MML AMROHA\n",
      "0.6256846144570896\n"
     ]
    },
    {
     "name": "stderr",
     "output_type": "stream",
     "text": [
      "C:\\Users\\siidh\\AppData\\Local\\Temp\\ipykernel_21192\\2638153196.py:147: SettingWithCopyWarning: \n",
      "A value is trying to be set on a copy of a slice from a DataFrame.\n",
      "Try using .loc[row_indexer,col_indexer] = value instead\n",
      "\n",
      "See the caveats in the documentation: https://pandas.pydata.org/pandas-docs/stable/user_guide/indexing.html#returning-a-view-versus-a-copy\n",
      "  X_june_2024[\"Month\"] = 6\n"
     ]
    },
    {
     "name": "stdout",
     "output_type": "stream",
     "text": [
      "Processing clinic 204 out of 220\n",
      "ECMT359 Manur mml\n",
      "0.9246918816544808\n"
     ]
    },
    {
     "name": "stderr",
     "output_type": "stream",
     "text": [
      "C:\\Users\\siidh\\AppData\\Local\\Temp\\ipykernel_21192\\2638153196.py:147: SettingWithCopyWarning: \n",
      "A value is trying to be set on a copy of a slice from a DataFrame.\n",
      "Try using .loc[row_indexer,col_indexer] = value instead\n",
      "\n",
      "See the caveats in the documentation: https://pandas.pydata.org/pandas-docs/stable/user_guide/indexing.html#returning-a-view-versus-a-copy\n",
      "  X_june_2024[\"Month\"] = 6\n"
     ]
    },
    {
     "name": "stdout",
     "output_type": "stream",
     "text": [
      "Processing clinic 205 out of 220\n",
      "ECMT360 GIRIDH MML GIRIDIH\n",
      "0.033751131467288364\n",
      "Processing clinic 206 out of 220\n",
      "ECMT361 FATEPURA MML DAHOD\n",
      "Skipping clinic 'ECMT361 FATEPURA MML DAHOD' due to missing data.\n",
      "Processing clinic 207 out of 220\n",
      "ECMT362 LIMKHEDA MML DAHOD\n",
      "0.4294672352348896\n",
      "Processing clinic 208 out of 220\n",
      "ECMT363 ASFABAD CHAURAHA MML\n",
      "-8.023609041135702\n",
      "Processing clinic 209 out of 220\n",
      "ECMT364 KRIAOLI MML AGRA \n",
      "0.8341308672154284\n"
     ]
    },
    {
     "name": "stderr",
     "output_type": "stream",
     "text": [
      "C:\\Users\\siidh\\AppData\\Local\\Temp\\ipykernel_21192\\2638153196.py:147: SettingWithCopyWarning: \n",
      "A value is trying to be set on a copy of a slice from a DataFrame.\n",
      "Try using .loc[row_indexer,col_indexer] = value instead\n",
      "\n",
      "See the caveats in the documentation: https://pandas.pydata.org/pandas-docs/stable/user_guide/indexing.html#returning-a-view-versus-a-copy\n",
      "  X_june_2024[\"Month\"] = 6\n"
     ]
    },
    {
     "name": "stdout",
     "output_type": "stream",
     "text": [
      "Processing clinic 210 out of 220\n",
      "ECMT365 MORVAHADAF MML PANCHMAHAL\n",
      "-503.1372562024578\n",
      "Processing clinic 211 out of 220\n",
      "ECMT366 KALASAPAKKAM MML THIRUVANMALAI\n",
      "0.4538019103331198\n",
      "Processing clinic 212 out of 220\n",
      "ECMT369 MAU MML CHITRAKOOT\n",
      "0.9157149004515813\n",
      "Processing clinic 213 out of 220\n",
      "ECMT370 CHITRAKOOT MML\n"
     ]
    },
    {
     "name": "stderr",
     "output_type": "stream",
     "text": [
      "C:\\Users\\siidh\\AppData\\Local\\Temp\\ipykernel_21192\\2638153196.py:147: SettingWithCopyWarning: \n",
      "A value is trying to be set on a copy of a slice from a DataFrame.\n",
      "Try using .loc[row_indexer,col_indexer] = value instead\n",
      "\n",
      "See the caveats in the documentation: https://pandas.pydata.org/pandas-docs/stable/user_guide/indexing.html#returning-a-view-versus-a-copy\n",
      "  X_june_2024[\"Month\"] = 6\n"
     ]
    },
    {
     "name": "stdout",
     "output_type": "stream",
     "text": [
      "0.7650290531494256\n"
     ]
    },
    {
     "name": "stderr",
     "output_type": "stream",
     "text": [
      "C:\\Users\\siidh\\AppData\\Local\\Temp\\ipykernel_21192\\2638153196.py:147: SettingWithCopyWarning: \n",
      "A value is trying to be set on a copy of a slice from a DataFrame.\n",
      "Try using .loc[row_indexer,col_indexer] = value instead\n",
      "\n",
      "See the caveats in the documentation: https://pandas.pydata.org/pandas-docs/stable/user_guide/indexing.html#returning-a-view-versus-a-copy\n",
      "  X_june_2024[\"Month\"] = 6\n"
     ]
    },
    {
     "name": "stdout",
     "output_type": "stream",
     "text": [
      "Processing clinic 214 out of 220\n",
      "ECMT373 QUILANDYMML KOZHIKKODE\n",
      "0.5969209636754964\n",
      "Processing clinic 215 out of 220\n",
      "ECMT375 SHEOPUR MML\n",
      "-13.302734687350073\n",
      "Processing clinic 216 out of 220\n",
      "ECMT378 HALDAUR MML\n",
      "0.8856489600216433\n"
     ]
    },
    {
     "name": "stderr",
     "output_type": "stream",
     "text": [
      "C:\\Users\\siidh\\AppData\\Local\\Temp\\ipykernel_21192\\2638153196.py:147: SettingWithCopyWarning: \n",
      "A value is trying to be set on a copy of a slice from a DataFrame.\n",
      "Try using .loc[row_indexer,col_indexer] = value instead\n",
      "\n",
      "See the caveats in the documentation: https://pandas.pydata.org/pandas-docs/stable/user_guide/indexing.html#returning-a-view-versus-a-copy\n",
      "  X_june_2024[\"Month\"] = 6\n"
     ]
    },
    {
     "name": "stdout",
     "output_type": "stream",
     "text": [
      "Processing clinic 217 out of 220\n",
      "ECMT379 KHAIR MML ALIGARH\n",
      "0.7872830942508646\n"
     ]
    },
    {
     "name": "stderr",
     "output_type": "stream",
     "text": [
      "C:\\Users\\siidh\\AppData\\Local\\Temp\\ipykernel_21192\\2638153196.py:147: SettingWithCopyWarning: \n",
      "A value is trying to be set on a copy of a slice from a DataFrame.\n",
      "Try using .loc[row_indexer,col_indexer] = value instead\n",
      "\n",
      "See the caveats in the documentation: https://pandas.pydata.org/pandas-docs/stable/user_guide/indexing.html#returning-a-view-versus-a-copy\n",
      "  X_june_2024[\"Month\"] = 6\n"
     ]
    },
    {
     "name": "stdout",
     "output_type": "stream",
     "text": [
      "Processing clinic 218 out of 220\n",
      "ECMT393 DALTONGANJ MML PALAMU\n"
     ]
    },
    {
     "name": "stderr",
     "output_type": "stream",
     "text": [
      "c:\\Python311\\Lib\\site-packages\\sklearn\\metrics\\_regression.py:996: UndefinedMetricWarning: R^2 score is not well-defined with less than two samples.\n",
      "  warnings.warn(msg, UndefinedMetricWarning)\n",
      "c:\\Python311\\Lib\\site-packages\\sklearn\\metrics\\_regression.py:996: UndefinedMetricWarning: R^2 score is not well-defined with less than two samples.\n",
      "  warnings.warn(msg, UndefinedMetricWarning)\n",
      "c:\\Python311\\Lib\\site-packages\\sklearn\\metrics\\_regression.py:996: UndefinedMetricWarning: R^2 score is not well-defined with less than two samples.\n",
      "  warnings.warn(msg, UndefinedMetricWarning)\n",
      "c:\\Python311\\Lib\\site-packages\\sklearn\\metrics\\_regression.py:996: UndefinedMetricWarning: R^2 score is not well-defined with less than two samples.\n",
      "  warnings.warn(msg, UndefinedMetricWarning)\n",
      "c:\\Python311\\Lib\\site-packages\\sklearn\\metrics\\_regression.py:996: UndefinedMetricWarning: R^2 score is not well-defined with less than two samples.\n",
      "  warnings.warn(msg, UndefinedMetricWarning)\n",
      "c:\\Python311\\Lib\\site-packages\\sklearn\\metrics\\_regression.py:996: UndefinedMetricWarning: R^2 score is not well-defined with less than two samples.\n",
      "  warnings.warn(msg, UndefinedMetricWarning)\n",
      "c:\\Python311\\Lib\\site-packages\\sklearn\\metrics\\_regression.py:996: UndefinedMetricWarning: R^2 score is not well-defined with less than two samples.\n",
      "  warnings.warn(msg, UndefinedMetricWarning)\n"
     ]
    },
    {
     "name": "stdout",
     "output_type": "stream",
     "text": [
      "nan\n",
      "Processing clinic 219 out of 220\n",
      "ECMT398 KOLHAPUR MML\n",
      "-45.118885958040664\n",
      "Processing clinic 220 out of 220\n",
      "Master Clinic\n",
      "0.9115830834565011\n"
     ]
    },
    {
     "name": "stderr",
     "output_type": "stream",
     "text": [
      "C:\\Users\\siidh\\AppData\\Local\\Temp\\ipykernel_21192\\2638153196.py:147: SettingWithCopyWarning: \n",
      "A value is trying to be set on a copy of a slice from a DataFrame.\n",
      "Try using .loc[row_indexer,col_indexer] = value instead\n",
      "\n",
      "See the caveats in the documentation: https://pandas.pydata.org/pandas-docs/stable/user_guide/indexing.html#returning-a-view-versus-a-copy\n",
      "  X_june_2024[\"Month\"] = 6\n"
     ]
    }
   ],
   "source": [
    "automate_forecasting(filtered_data)"
   ]
  },
  {
   "cell_type": "code",
   "execution_count": 135,
   "metadata": {},
   "outputs": [
    {
     "data": {
      "text/plain": [
       "Clinic Name\n",
       "Master Clinic                         91431\n",
       "ECMT045 Kalyanpur Samastipur          13420\n",
       "ECMT462 DHANAURA MML                  13315\n",
       "ECMT080 MORADABAD MML MORADABAD       11957\n",
       "ECMT027 Jaunpur MML                   11522\n",
       "                                      ...  \n",
       "ECMT153 BAHADURJANG MML KISHANGANJ        1\n",
       "ECTA111 Pattukottai                       1\n",
       "EC16:24 Khadda Kushinagar                 1\n",
       "EC06:05 Simari Buxar                      1\n",
       "ECSV0198 Reoti Gorakhpur                  1\n",
       "Name: count, Length: 846, dtype: int64"
      ]
     },
     "execution_count": 135,
     "metadata": {},
     "output_type": "execute_result"
    }
   ],
   "source": [
    "combined_df[\"Clinic Name\"].value_counts()"
   ]
  },
  {
   "cell_type": "code",
   "execution_count": null,
   "metadata": {},
   "outputs": [],
   "source": []
  }
 ],
 "metadata": {
  "kernelspec": {
   "display_name": "Python 3",
   "language": "python",
   "name": "python3"
  },
  "language_info": {
   "codemirror_mode": {
    "name": "ipython",
    "version": 3
   },
   "file_extension": ".py",
   "mimetype": "text/x-python",
   "name": "python",
   "nbconvert_exporter": "python",
   "pygments_lexer": "ipython3",
   "version": "3.11.4"
  }
 },
 "nbformat": 4,
 "nbformat_minor": 2
}
